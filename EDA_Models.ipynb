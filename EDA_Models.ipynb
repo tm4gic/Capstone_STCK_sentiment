{
 "cells": [
  {
   "cell_type": "markdown",
   "id": "f4b4dae2",
   "metadata": {},
   "source": [
    "## Start"
   ]
  },
  {
   "cell_type": "code",
   "execution_count": 1,
   "id": "cbe0083c",
   "metadata": {
    "ExecuteTime": {
     "end_time": "2021-09-15T19:51:15.547754Z",
     "start_time": "2021-09-15T19:51:14.077715Z"
    }
   },
   "outputs": [],
   "source": [
    "from sklearn.ensemble import RandomForestClassifier\n",
    "import requests\n",
    "import numpy as np\n",
    "import time\n",
    "import os\n",
    "import matplotlib.pyplot as plt\n",
    "from bs4 import BeautifulSoup as BS\n",
    "import pandas as pd\n",
    "from urllib.request import urlopen, Request\n",
    "from nltk.sentiment.vader import SentimentIntensityAnalyzer \n",
    "from sklearn.metrics import accuracy_score, precision_score, recall_score,log_loss, plot_confusion_matrix\n",
    "from sklearn.ensemble import VotingClassifier\n",
    "from sklearn.dummy import DummyClassifier\n",
    "from sklearn.model_selection import GridSearchCV\n",
    "import seaborn as sns"
   ]
  },
  {
   "cell_type": "code",
   "execution_count": 2,
   "id": "6c4c8b2e",
   "metadata": {
    "ExecuteTime": {
     "end_time": "2021-09-15T19:51:15.560454Z",
     "start_time": "2021-09-15T19:51:15.548996Z"
    }
   },
   "outputs": [],
   "source": [
    "df_TSLA_Senti=pd.read_csv('tesla_baseline_sentiment_data')"
   ]
  },
  {
   "cell_type": "code",
   "execution_count": 3,
   "id": "5f34d302",
   "metadata": {
    "ExecuteTime": {
     "end_time": "2021-09-15T19:51:15.580645Z",
     "start_time": "2021-09-15T19:51:15.564476Z"
    }
   },
   "outputs": [
    {
     "data": {
      "text/html": [
       "<div>\n",
       "<style scoped>\n",
       "    .dataframe tbody tr th:only-of-type {\n",
       "        vertical-align: middle;\n",
       "    }\n",
       "\n",
       "    .dataframe tbody tr th {\n",
       "        vertical-align: top;\n",
       "    }\n",
       "\n",
       "    .dataframe thead th {\n",
       "        text-align: right;\n",
       "    }\n",
       "</style>\n",
       "<table border=\"1\" class=\"dataframe\">\n",
       "  <thead>\n",
       "    <tr style=\"text-align: right;\">\n",
       "      <th></th>\n",
       "      <th>Unnamed: 0</th>\n",
       "      <th>OBV</th>\n",
       "      <th>RSI</th>\n",
       "      <th>Vader_neg</th>\n",
       "      <th>Vader_neu</th>\n",
       "      <th>Vader_pos</th>\n",
       "      <th>Vader_compound</th>\n",
       "      <th>article_count</th>\n",
       "      <th>TextBlob_article_polarity</th>\n",
       "      <th>TextBlob_article_subjectivity</th>\n",
       "      <th>TextBlob_snippet_polarity</th>\n",
       "      <th>TextBlob_snippet_subjectivity</th>\n",
       "      <th>TextBlob_lead_polarity</th>\n",
       "      <th>TextBlob_lead_subjectivity</th>\n",
       "      <th>Green</th>\n",
       "    </tr>\n",
       "  </thead>\n",
       "  <tbody>\n",
       "    <tr>\n",
       "      <th>0</th>\n",
       "      <td>2014-01-02</td>\n",
       "      <td>1190817660</td>\n",
       "      <td>0.000000</td>\n",
       "      <td>0.031000</td>\n",
       "      <td>0.869000</td>\n",
       "      <td>0.101000</td>\n",
       "      <td>0.994900</td>\n",
       "      <td>1</td>\n",
       "      <td>0.104228</td>\n",
       "      <td>0.433051</td>\n",
       "      <td>0.000000</td>\n",
       "      <td>0.000000</td>\n",
       "      <td>0.250000</td>\n",
       "      <td>0.283333</td>\n",
       "      <td>1</td>\n",
       "    </tr>\n",
       "    <tr>\n",
       "      <th>1</th>\n",
       "      <td>2019-01-02</td>\n",
       "      <td>1396718105</td>\n",
       "      <td>0.000000</td>\n",
       "      <td>0.053750</td>\n",
       "      <td>0.877000</td>\n",
       "      <td>0.069250</td>\n",
       "      <td>0.391675</td>\n",
       "      <td>4</td>\n",
       "      <td>0.107059</td>\n",
       "      <td>0.393232</td>\n",
       "      <td>0.002083</td>\n",
       "      <td>0.189583</td>\n",
       "      <td>0.175000</td>\n",
       "      <td>0.150000</td>\n",
       "      <td>1</td>\n",
       "    </tr>\n",
       "    <tr>\n",
       "      <th>2</th>\n",
       "      <td>2018-01-03</td>\n",
       "      <td>1948048885</td>\n",
       "      <td>0.000000</td>\n",
       "      <td>0.053000</td>\n",
       "      <td>0.817000</td>\n",
       "      <td>0.130000</td>\n",
       "      <td>0.992750</td>\n",
       "      <td>2</td>\n",
       "      <td>0.082165</td>\n",
       "      <td>0.433961</td>\n",
       "      <td>-0.137500</td>\n",
       "      <td>0.312500</td>\n",
       "      <td>0.350000</td>\n",
       "      <td>0.300000</td>\n",
       "      <td>1</td>\n",
       "    </tr>\n",
       "    <tr>\n",
       "      <th>3</th>\n",
       "      <td>2019-01-03</td>\n",
       "      <td>1361975220</td>\n",
       "      <td>0.000000</td>\n",
       "      <td>0.069667</td>\n",
       "      <td>0.839667</td>\n",
       "      <td>0.090333</td>\n",
       "      <td>0.909767</td>\n",
       "      <td>3</td>\n",
       "      <td>0.126922</td>\n",
       "      <td>0.440809</td>\n",
       "      <td>0.245833</td>\n",
       "      <td>0.483333</td>\n",
       "      <td>0.208333</td>\n",
       "      <td>0.394444</td>\n",
       "      <td>1</td>\n",
       "    </tr>\n",
       "    <tr>\n",
       "      <th>4</th>\n",
       "      <td>2018-01-04</td>\n",
       "      <td>1898325920</td>\n",
       "      <td>57.882067</td>\n",
       "      <td>0.051500</td>\n",
       "      <td>0.858750</td>\n",
       "      <td>0.090000</td>\n",
       "      <td>0.966500</td>\n",
       "      <td>4</td>\n",
       "      <td>0.075833</td>\n",
       "      <td>0.423203</td>\n",
       "      <td>0.093561</td>\n",
       "      <td>0.359091</td>\n",
       "      <td>0.225000</td>\n",
       "      <td>0.241667</td>\n",
       "      <td>0</td>\n",
       "    </tr>\n",
       "  </tbody>\n",
       "</table>\n",
       "</div>"
      ],
      "text/plain": [
       "   Unnamed: 0         OBV        RSI  Vader_neg  Vader_neu  Vader_pos  \\\n",
       "0  2014-01-02  1190817660   0.000000   0.031000   0.869000   0.101000   \n",
       "1  2019-01-02  1396718105   0.000000   0.053750   0.877000   0.069250   \n",
       "2  2018-01-03  1948048885   0.000000   0.053000   0.817000   0.130000   \n",
       "3  2019-01-03  1361975220   0.000000   0.069667   0.839667   0.090333   \n",
       "4  2018-01-04  1898325920  57.882067   0.051500   0.858750   0.090000   \n",
       "\n",
       "   Vader_compound  article_count  TextBlob_article_polarity  \\\n",
       "0        0.994900              1                   0.104228   \n",
       "1        0.391675              4                   0.107059   \n",
       "2        0.992750              2                   0.082165   \n",
       "3        0.909767              3                   0.126922   \n",
       "4        0.966500              4                   0.075833   \n",
       "\n",
       "   TextBlob_article_subjectivity  TextBlob_snippet_polarity  \\\n",
       "0                       0.433051                   0.000000   \n",
       "1                       0.393232                   0.002083   \n",
       "2                       0.433961                  -0.137500   \n",
       "3                       0.440809                   0.245833   \n",
       "4                       0.423203                   0.093561   \n",
       "\n",
       "   TextBlob_snippet_subjectivity  TextBlob_lead_polarity  \\\n",
       "0                       0.000000                0.250000   \n",
       "1                       0.189583                0.175000   \n",
       "2                       0.312500                0.350000   \n",
       "3                       0.483333                0.208333   \n",
       "4                       0.359091                0.225000   \n",
       "\n",
       "   TextBlob_lead_subjectivity  Green  \n",
       "0                    0.283333      1  \n",
       "1                    0.150000      1  \n",
       "2                    0.300000      1  \n",
       "3                    0.394444      1  \n",
       "4                    0.241667      0  "
      ]
     },
     "execution_count": 3,
     "metadata": {},
     "output_type": "execute_result"
    }
   ],
   "source": [
    "df_TSLA_Senti.head()"
   ]
  },
  {
   "cell_type": "code",
   "execution_count": 4,
   "id": "7e0fafae",
   "metadata": {
    "ExecuteTime": {
     "end_time": "2021-09-15T19:51:15.589937Z",
     "start_time": "2021-09-15T19:51:15.582041Z"
    }
   },
   "outputs": [
    {
     "name": "stdout",
     "output_type": "stream",
     "text": [
      "<class 'pandas.core.frame.DataFrame'>\n",
      "RangeIndex: 1312 entries, 0 to 1311\n",
      "Data columns (total 15 columns):\n",
      " #   Column                         Non-Null Count  Dtype  \n",
      "---  ------                         --------------  -----  \n",
      " 0   Unnamed: 0                     1312 non-null   object \n",
      " 1   OBV                            1312 non-null   int64  \n",
      " 2   RSI                            1312 non-null   float64\n",
      " 3   Vader_neg                      1312 non-null   float64\n",
      " 4   Vader_neu                      1312 non-null   float64\n",
      " 5   Vader_pos                      1312 non-null   float64\n",
      " 6   Vader_compound                 1312 non-null   float64\n",
      " 7   article_count                  1312 non-null   int64  \n",
      " 8   TextBlob_article_polarity      1312 non-null   float64\n",
      " 9   TextBlob_article_subjectivity  1312 non-null   float64\n",
      " 10  TextBlob_snippet_polarity      1312 non-null   float64\n",
      " 11  TextBlob_snippet_subjectivity  1312 non-null   float64\n",
      " 12  TextBlob_lead_polarity         1312 non-null   float64\n",
      " 13  TextBlob_lead_subjectivity     1312 non-null   float64\n",
      " 14  Green                          1312 non-null   int64  \n",
      "dtypes: float64(11), int64(3), object(1)\n",
      "memory usage: 153.9+ KB\n"
     ]
    }
   ],
   "source": [
    "df_TSLA_Senti.info()"
   ]
  },
  {
   "cell_type": "code",
   "execution_count": 5,
   "id": "67b9dfcc",
   "metadata": {
    "ExecuteTime": {
     "end_time": "2021-09-15T19:51:15.601102Z",
     "start_time": "2021-09-15T19:51:15.591265Z"
    }
   },
   "outputs": [
    {
     "data": {
      "text/html": [
       "<div>\n",
       "<style scoped>\n",
       "    .dataframe tbody tr th:only-of-type {\n",
       "        vertical-align: middle;\n",
       "    }\n",
       "\n",
       "    .dataframe tbody tr th {\n",
       "        vertical-align: top;\n",
       "    }\n",
       "\n",
       "    .dataframe thead th {\n",
       "        text-align: right;\n",
       "    }\n",
       "</style>\n",
       "<table border=\"1\" class=\"dataframe\">\n",
       "  <thead>\n",
       "    <tr style=\"text-align: right;\">\n",
       "      <th></th>\n",
       "      <th>Date</th>\n",
       "      <th>OBV</th>\n",
       "      <th>RSI</th>\n",
       "      <th>Vader_neg</th>\n",
       "      <th>Vader_neu</th>\n",
       "      <th>Vader_pos</th>\n",
       "      <th>Vader_compound</th>\n",
       "      <th>article_count</th>\n",
       "      <th>TextBlob_article_polarity</th>\n",
       "      <th>TextBlob_article_subjectivity</th>\n",
       "      <th>TextBlob_snippet_polarity</th>\n",
       "      <th>TextBlob_snippet_subjectivity</th>\n",
       "      <th>TextBlob_lead_polarity</th>\n",
       "      <th>TextBlob_lead_subjectivity</th>\n",
       "      <th>Green</th>\n",
       "    </tr>\n",
       "  </thead>\n",
       "  <tbody>\n",
       "    <tr>\n",
       "      <th>0</th>\n",
       "      <td>2014-01-02</td>\n",
       "      <td>1190817660</td>\n",
       "      <td>0.000000</td>\n",
       "      <td>0.031000</td>\n",
       "      <td>0.869000</td>\n",
       "      <td>0.101000</td>\n",
       "      <td>0.994900</td>\n",
       "      <td>1</td>\n",
       "      <td>0.104228</td>\n",
       "      <td>0.433051</td>\n",
       "      <td>0.000000</td>\n",
       "      <td>0.000000</td>\n",
       "      <td>0.250000</td>\n",
       "      <td>0.283333</td>\n",
       "      <td>1</td>\n",
       "    </tr>\n",
       "    <tr>\n",
       "      <th>1</th>\n",
       "      <td>2019-01-02</td>\n",
       "      <td>1396718105</td>\n",
       "      <td>0.000000</td>\n",
       "      <td>0.053750</td>\n",
       "      <td>0.877000</td>\n",
       "      <td>0.069250</td>\n",
       "      <td>0.391675</td>\n",
       "      <td>4</td>\n",
       "      <td>0.107059</td>\n",
       "      <td>0.393232</td>\n",
       "      <td>0.002083</td>\n",
       "      <td>0.189583</td>\n",
       "      <td>0.175000</td>\n",
       "      <td>0.150000</td>\n",
       "      <td>1</td>\n",
       "    </tr>\n",
       "    <tr>\n",
       "      <th>2</th>\n",
       "      <td>2018-01-03</td>\n",
       "      <td>1948048885</td>\n",
       "      <td>0.000000</td>\n",
       "      <td>0.053000</td>\n",
       "      <td>0.817000</td>\n",
       "      <td>0.130000</td>\n",
       "      <td>0.992750</td>\n",
       "      <td>2</td>\n",
       "      <td>0.082165</td>\n",
       "      <td>0.433961</td>\n",
       "      <td>-0.137500</td>\n",
       "      <td>0.312500</td>\n",
       "      <td>0.350000</td>\n",
       "      <td>0.300000</td>\n",
       "      <td>1</td>\n",
       "    </tr>\n",
       "    <tr>\n",
       "      <th>3</th>\n",
       "      <td>2019-01-03</td>\n",
       "      <td>1361975220</td>\n",
       "      <td>0.000000</td>\n",
       "      <td>0.069667</td>\n",
       "      <td>0.839667</td>\n",
       "      <td>0.090333</td>\n",
       "      <td>0.909767</td>\n",
       "      <td>3</td>\n",
       "      <td>0.126922</td>\n",
       "      <td>0.440809</td>\n",
       "      <td>0.245833</td>\n",
       "      <td>0.483333</td>\n",
       "      <td>0.208333</td>\n",
       "      <td>0.394444</td>\n",
       "      <td>1</td>\n",
       "    </tr>\n",
       "    <tr>\n",
       "      <th>4</th>\n",
       "      <td>2018-01-04</td>\n",
       "      <td>1898325920</td>\n",
       "      <td>57.882067</td>\n",
       "      <td>0.051500</td>\n",
       "      <td>0.858750</td>\n",
       "      <td>0.090000</td>\n",
       "      <td>0.966500</td>\n",
       "      <td>4</td>\n",
       "      <td>0.075833</td>\n",
       "      <td>0.423203</td>\n",
       "      <td>0.093561</td>\n",
       "      <td>0.359091</td>\n",
       "      <td>0.225000</td>\n",
       "      <td>0.241667</td>\n",
       "      <td>0</td>\n",
       "    </tr>\n",
       "  </tbody>\n",
       "</table>\n",
       "</div>"
      ],
      "text/plain": [
       "         Date         OBV        RSI  Vader_neg  Vader_neu  Vader_pos  \\\n",
       "0  2014-01-02  1190817660   0.000000   0.031000   0.869000   0.101000   \n",
       "1  2019-01-02  1396718105   0.000000   0.053750   0.877000   0.069250   \n",
       "2  2018-01-03  1948048885   0.000000   0.053000   0.817000   0.130000   \n",
       "3  2019-01-03  1361975220   0.000000   0.069667   0.839667   0.090333   \n",
       "4  2018-01-04  1898325920  57.882067   0.051500   0.858750   0.090000   \n",
       "\n",
       "   Vader_compound  article_count  TextBlob_article_polarity  \\\n",
       "0        0.994900              1                   0.104228   \n",
       "1        0.391675              4                   0.107059   \n",
       "2        0.992750              2                   0.082165   \n",
       "3        0.909767              3                   0.126922   \n",
       "4        0.966500              4                   0.075833   \n",
       "\n",
       "   TextBlob_article_subjectivity  TextBlob_snippet_polarity  \\\n",
       "0                       0.433051                   0.000000   \n",
       "1                       0.393232                   0.002083   \n",
       "2                       0.433961                  -0.137500   \n",
       "3                       0.440809                   0.245833   \n",
       "4                       0.423203                   0.093561   \n",
       "\n",
       "   TextBlob_snippet_subjectivity  TextBlob_lead_polarity  \\\n",
       "0                       0.000000                0.250000   \n",
       "1                       0.189583                0.175000   \n",
       "2                       0.312500                0.350000   \n",
       "3                       0.483333                0.208333   \n",
       "4                       0.359091                0.225000   \n",
       "\n",
       "   TextBlob_lead_subjectivity  Green  \n",
       "0                    0.283333      1  \n",
       "1                    0.150000      1  \n",
       "2                    0.300000      1  \n",
       "3                    0.394444      1  \n",
       "4                    0.241667      0  "
      ]
     },
     "execution_count": 5,
     "metadata": {},
     "output_type": "execute_result"
    }
   ],
   "source": [
    "## drop the date duplicate\n",
    "df_TSLA_Senti= df_TSLA_Senti.rename(columns={\"Unnamed: 0\" : \"Date\"})\n",
    "# df_TSLA_Senti.drop(['Unnamed: 0'], axis=1, inplace=True)\n",
    "# df_TSLA_Senti.set_index('date', inplace=True)\n",
    "\n",
    "df_TSLA_Senti.head()"
   ]
  },
  {
   "cell_type": "markdown",
   "id": "69069d38",
   "metadata": {},
   "source": [
    "## Dummy Model/ Baseline Model"
   ]
  },
  {
   "cell_type": "code",
   "execution_count": 6,
   "id": "6130b9f5",
   "metadata": {
    "ExecuteTime": {
     "end_time": "2021-09-15T19:51:15.609526Z",
     "start_time": "2021-09-15T19:51:15.603435Z"
    }
   },
   "outputs": [
    {
     "data": {
      "text/plain": [
       "0.506859756097561"
      ]
     },
     "execution_count": 6,
     "metadata": {},
     "output_type": "execute_result"
    }
   ],
   "source": [
    "\n",
    "X= df_TSLA_Senti.drop(['Green'],1)\n",
    "y= df_TSLA_Senti['Green']\n",
    "dummy_clf = DummyClassifier(strategy=\"most_frequent\")\n",
    "\n",
    "dummy_clf.fit(X,y)\n",
    "dummy_clf.predict(X)\n",
    "\n",
    "dummy_clf.score(X,y)\n",
    "\n"
   ]
  },
  {
   "cell_type": "markdown",
   "id": "5103a501",
   "metadata": {},
   "source": [
    "## Engineer some More Features such as RSI and OBV"
   ]
  },
  {
   "cell_type": "code",
   "execution_count": 7,
   "id": "b64394de",
   "metadata": {
    "ExecuteTime": {
     "end_time": "2021-09-15T19:51:15.615616Z",
     "start_time": "2021-09-15T19:51:15.610625Z"
    }
   },
   "outputs": [],
   "source": [
    "def get_rsi_timeseries(prices, n=14):\n",
    "    # RSI = 100 - (100 / (1 + RS))\n",
    "    # where RS = (Wilder-smoothed n-period average of gains / Wilder-smoothed n-period average of -losses)\n",
    "    # Note that losses above should be positive values\n",
    "    # Wilder-smoothing = ((previous smoothed avg * (n-1)) + current value to average) / n\n",
    "    # For the very first \"previous smoothed avg\" (aka the seed value), we start with a straight average.\n",
    "    # Therefore, our first RSI value will be for the n+2nd period:\n",
    "    #     0: first delta is nan\n",
    "    #     1:\n",
    "    #     ...\n",
    "    #     n: lookback period for first Wilder smoothing seed value\n",
    "    #     n+1: first RSI\n",
    "\n",
    "    # First, calculate the gain or loss from one price to the next. The first value is nan so replace with 0.\n",
    "    deltas = (prices-prices.shift(1)).fillna(0)\n",
    "\n",
    "    # Calculate the straight average seed values.\n",
    "    # The first delta is always zero, so we will use a slice of the first n deltas starting at 1,\n",
    "    # and filter only deltas > 0 to get gains and deltas < 0 to get losses\n",
    "    avg_of_gains = deltas[1:n+1][deltas > 0].sum() / n\n",
    "    avg_of_losses = -deltas[1:n+1][deltas < 0].sum() / n\n",
    "\n",
    "    # Set up pd.Series container for RSI values\n",
    "    rsi_series = pd.Series(0.0, deltas.index)\n",
    "\n",
    "    # Now calculate RSI using the Wilder smoothing method, starting with n+1 delta.\n",
    "    up = lambda x: x if x > 0 else 0\n",
    "    down = lambda x: -x if x < 0 else 0\n",
    "    i = n+1\n",
    "    for d in deltas[n+1:]:\n",
    "        avg_of_gains = ((avg_of_gains * (n-1)) + up(d)) / n\n",
    "        avg_of_losses = ((avg_of_losses * (n-1)) + down(d)) / n\n",
    "        if avg_of_losses != 0:\n",
    "            rs = avg_of_gains / avg_of_losses\n",
    "            rsi_series[i] = 100 - (100 / (1 + rs))\n",
    "        else:\n",
    "            rsi_series[i] = 100\n",
    "        i += 1\n",
    "\n",
    "    return rsi_series"
   ]
  },
  {
   "cell_type": "code",
   "execution_count": 8,
   "id": "3941eb9d",
   "metadata": {
    "ExecuteTime": {
     "end_time": "2021-09-15T19:51:15.643292Z",
     "start_time": "2021-09-15T19:51:15.620386Z"
    }
   },
   "outputs": [],
   "source": [
    "## we need to bring the TSLA price back to engineer these features\n",
    "\n",
    "tesla_stock_df= pd.read_csv(\"Tesla_hist.csv\")\n",
    "tesla_stock_df\n",
    "# tesla_stock_df['Date'] = pd.to_datetime(tesla_stock_df['Date'], format= \"%m/%d/%Y\")\n",
    "## convert the dollar signs\n",
    "colz=['Close/Last', 'Open', 'High', 'Low']\n",
    "\n",
    "for i in colz:\n",
    "    tesla_stock_df[i]= tesla_stock_df[i].str.replace('[^\\d\\.]', '').astype(float)\n",
    "\n",
    "    tes=tesla_stock_df.drop(['Volume','Open','High','Low'],1)\n",
    "\n",
    "    tes.set_index('Date', inplace=True)\n",
    "\n",
    "tes.sort_index(ascending=True, inplace=True)"
   ]
  },
  {
   "cell_type": "code",
   "execution_count": 9,
   "id": "2e3a21b5",
   "metadata": {
    "ExecuteTime": {
     "end_time": "2021-09-15T19:51:15.663957Z",
     "start_time": "2021-09-15T19:51:15.644997Z"
    }
   },
   "outputs": [],
   "source": [
    "RSI = get_rsi_timeseries(tes['Close/Last'])\n"
   ]
  },
  {
   "cell_type": "code",
   "execution_count": 10,
   "id": "695be2ae",
   "metadata": {
    "ExecuteTime": {
     "end_time": "2021-09-15T19:51:15.672200Z",
     "start_time": "2021-09-15T19:51:15.665023Z"
    }
   },
   "outputs": [
    {
     "data": {
      "text/plain": [
       "count    2516.000000\n",
       "mean       49.776521\n",
       "std         6.224599\n",
       "min         0.000000\n",
       "25%        47.898831\n",
       "50%        48.452377\n",
       "75%        49.256260\n",
       "max        87.640594\n",
       "dtype: float64"
      ]
     },
     "execution_count": 10,
     "metadata": {},
     "output_type": "execute_result"
    }
   ],
   "source": [
    "RSI.describe()"
   ]
  },
  {
   "cell_type": "code",
   "execution_count": 11,
   "id": "8094a7cc",
   "metadata": {
    "ExecuteTime": {
     "end_time": "2021-09-15T19:51:15.679961Z",
     "start_time": "2021-09-15T19:51:15.674460Z"
    }
   },
   "outputs": [
    {
     "data": {
      "text/plain": [
       "Date\n",
       "01/02/2013     0.000000\n",
       "01/02/2014     0.000000\n",
       "01/02/2015     0.000000\n",
       "01/02/2018     0.000000\n",
       "01/02/2019     0.000000\n",
       "                ...    \n",
       "12/31/2014    48.373347\n",
       "12/31/2015    48.451485\n",
       "12/31/2018    48.890686\n",
       "12/31/2019    49.319325\n",
       "12/31/2020    61.848719\n",
       "Length: 2516, dtype: float64"
      ]
     },
     "execution_count": 11,
     "metadata": {},
     "output_type": "execute_result"
    }
   ],
   "source": [
    "RSI"
   ]
  },
  {
   "cell_type": "code",
   "execution_count": 12,
   "id": "a142b6f1",
   "metadata": {
    "ExecuteTime": {
     "end_time": "2021-09-15T19:51:15.684471Z",
     "start_time": "2021-09-15T19:51:15.682366Z"
    }
   },
   "outputs": [],
   "source": [
    "RSI=RSI.to_frame()\n"
   ]
  },
  {
   "cell_type": "code",
   "execution_count": 13,
   "id": "d1e891ac",
   "metadata": {
    "ExecuteTime": {
     "end_time": "2021-09-15T19:51:15.691146Z",
     "start_time": "2021-09-15T19:51:15.686275Z"
    }
   },
   "outputs": [],
   "source": [
    "RSI.index = pd.to_datetime(RSI.index)"
   ]
  },
  {
   "cell_type": "code",
   "execution_count": 14,
   "id": "ec7fbef3",
   "metadata": {
    "ExecuteTime": {
     "end_time": "2021-09-15T19:51:15.694312Z",
     "start_time": "2021-09-15T19:51:15.692167Z"
    }
   },
   "outputs": [],
   "source": [
    "df_TSLA_Senti.set_index('Date', inplace= True)"
   ]
  },
  {
   "cell_type": "code",
   "execution_count": 15,
   "id": "ffcec7ed",
   "metadata": {
    "ExecuteTime": {
     "end_time": "2021-09-15T19:51:15.698255Z",
     "start_time": "2021-09-15T19:51:15.695711Z"
    }
   },
   "outputs": [],
   "source": [
    "df_TSLA_Senti.index = pd.to_datetime(df_TSLA_Senti.index)"
   ]
  },
  {
   "cell_type": "code",
   "execution_count": 16,
   "id": "1b86eb8f",
   "metadata": {
    "ExecuteTime": {
     "end_time": "2021-09-15T19:51:15.700691Z",
     "start_time": "2021-09-15T19:51:15.699222Z"
    }
   },
   "outputs": [],
   "source": [
    "# df_TSLA_Senti=pd.merge(RSI ,df_TSLA_Senti, how='inner', left_index=True, right_index= True)"
   ]
  },
  {
   "cell_type": "code",
   "execution_count": 17,
   "id": "e2463a13",
   "metadata": {
    "ExecuteTime": {
     "end_time": "2021-09-15T19:51:15.717431Z",
     "start_time": "2021-09-15T19:51:15.702841Z"
    }
   },
   "outputs": [
    {
     "data": {
      "text/html": [
       "<div>\n",
       "<style scoped>\n",
       "    .dataframe tbody tr th:only-of-type {\n",
       "        vertical-align: middle;\n",
       "    }\n",
       "\n",
       "    .dataframe tbody tr th {\n",
       "        vertical-align: top;\n",
       "    }\n",
       "\n",
       "    .dataframe thead th {\n",
       "        text-align: right;\n",
       "    }\n",
       "</style>\n",
       "<table border=\"1\" class=\"dataframe\">\n",
       "  <thead>\n",
       "    <tr style=\"text-align: right;\">\n",
       "      <th></th>\n",
       "      <th>OBV</th>\n",
       "      <th>RSI</th>\n",
       "      <th>Vader_neg</th>\n",
       "      <th>Vader_neu</th>\n",
       "      <th>Vader_pos</th>\n",
       "      <th>Vader_compound</th>\n",
       "      <th>article_count</th>\n",
       "      <th>TextBlob_article_polarity</th>\n",
       "      <th>TextBlob_article_subjectivity</th>\n",
       "      <th>TextBlob_snippet_polarity</th>\n",
       "      <th>TextBlob_snippet_subjectivity</th>\n",
       "      <th>TextBlob_lead_polarity</th>\n",
       "      <th>TextBlob_lead_subjectivity</th>\n",
       "      <th>Green</th>\n",
       "    </tr>\n",
       "    <tr>\n",
       "      <th>Date</th>\n",
       "      <th></th>\n",
       "      <th></th>\n",
       "      <th></th>\n",
       "      <th></th>\n",
       "      <th></th>\n",
       "      <th></th>\n",
       "      <th></th>\n",
       "      <th></th>\n",
       "      <th></th>\n",
       "      <th></th>\n",
       "      <th></th>\n",
       "      <th></th>\n",
       "      <th></th>\n",
       "      <th></th>\n",
       "    </tr>\n",
       "  </thead>\n",
       "  <tbody>\n",
       "    <tr>\n",
       "      <th>2014-01-02</th>\n",
       "      <td>1190817660</td>\n",
       "      <td>0.000000</td>\n",
       "      <td>0.031000</td>\n",
       "      <td>0.869000</td>\n",
       "      <td>0.101000</td>\n",
       "      <td>0.994900</td>\n",
       "      <td>1</td>\n",
       "      <td>0.104228</td>\n",
       "      <td>0.433051</td>\n",
       "      <td>0.000000</td>\n",
       "      <td>0.000000</td>\n",
       "      <td>0.250000</td>\n",
       "      <td>0.283333</td>\n",
       "      <td>1</td>\n",
       "    </tr>\n",
       "    <tr>\n",
       "      <th>2019-01-02</th>\n",
       "      <td>1396718105</td>\n",
       "      <td>0.000000</td>\n",
       "      <td>0.053750</td>\n",
       "      <td>0.877000</td>\n",
       "      <td>0.069250</td>\n",
       "      <td>0.391675</td>\n",
       "      <td>4</td>\n",
       "      <td>0.107059</td>\n",
       "      <td>0.393232</td>\n",
       "      <td>0.002083</td>\n",
       "      <td>0.189583</td>\n",
       "      <td>0.175000</td>\n",
       "      <td>0.150000</td>\n",
       "      <td>1</td>\n",
       "    </tr>\n",
       "    <tr>\n",
       "      <th>2018-01-03</th>\n",
       "      <td>1948048885</td>\n",
       "      <td>0.000000</td>\n",
       "      <td>0.053000</td>\n",
       "      <td>0.817000</td>\n",
       "      <td>0.130000</td>\n",
       "      <td>0.992750</td>\n",
       "      <td>2</td>\n",
       "      <td>0.082165</td>\n",
       "      <td>0.433961</td>\n",
       "      <td>-0.137500</td>\n",
       "      <td>0.312500</td>\n",
       "      <td>0.350000</td>\n",
       "      <td>0.300000</td>\n",
       "      <td>1</td>\n",
       "    </tr>\n",
       "    <tr>\n",
       "      <th>2019-01-03</th>\n",
       "      <td>1361975220</td>\n",
       "      <td>0.000000</td>\n",
       "      <td>0.069667</td>\n",
       "      <td>0.839667</td>\n",
       "      <td>0.090333</td>\n",
       "      <td>0.909767</td>\n",
       "      <td>3</td>\n",
       "      <td>0.126922</td>\n",
       "      <td>0.440809</td>\n",
       "      <td>0.245833</td>\n",
       "      <td>0.483333</td>\n",
       "      <td>0.208333</td>\n",
       "      <td>0.394444</td>\n",
       "      <td>1</td>\n",
       "    </tr>\n",
       "    <tr>\n",
       "      <th>2018-01-04</th>\n",
       "      <td>1898325920</td>\n",
       "      <td>57.882067</td>\n",
       "      <td>0.051500</td>\n",
       "      <td>0.858750</td>\n",
       "      <td>0.090000</td>\n",
       "      <td>0.966500</td>\n",
       "      <td>4</td>\n",
       "      <td>0.075833</td>\n",
       "      <td>0.423203</td>\n",
       "      <td>0.093561</td>\n",
       "      <td>0.359091</td>\n",
       "      <td>0.225000</td>\n",
       "      <td>0.241667</td>\n",
       "      <td>0</td>\n",
       "    </tr>\n",
       "    <tr>\n",
       "      <th>...</th>\n",
       "      <td>...</td>\n",
       "      <td>...</td>\n",
       "      <td>...</td>\n",
       "      <td>...</td>\n",
       "      <td>...</td>\n",
       "      <td>...</td>\n",
       "      <td>...</td>\n",
       "      <td>...</td>\n",
       "      <td>...</td>\n",
       "      <td>...</td>\n",
       "      <td>...</td>\n",
       "      <td>...</td>\n",
       "      <td>...</td>\n",
       "      <td>...</td>\n",
       "    </tr>\n",
       "    <tr>\n",
       "      <th>2019-12-30</th>\n",
       "      <td>1464246615</td>\n",
       "      <td>49.491721</td>\n",
       "      <td>0.064000</td>\n",
       "      <td>0.836000</td>\n",
       "      <td>0.100000</td>\n",
       "      <td>0.988800</td>\n",
       "      <td>1</td>\n",
       "      <td>0.085343</td>\n",
       "      <td>0.383371</td>\n",
       "      <td>-0.300000</td>\n",
       "      <td>0.475000</td>\n",
       "      <td>0.166667</td>\n",
       "      <td>0.205556</td>\n",
       "      <td>0</td>\n",
       "    </tr>\n",
       "    <tr>\n",
       "      <th>2020-12-30</th>\n",
       "      <td>5090467975</td>\n",
       "      <td>62.712273</td>\n",
       "      <td>0.073500</td>\n",
       "      <td>0.837500</td>\n",
       "      <td>0.089500</td>\n",
       "      <td>0.165700</td>\n",
       "      <td>2</td>\n",
       "      <td>0.076615</td>\n",
       "      <td>0.428176</td>\n",
       "      <td>0.135417</td>\n",
       "      <td>0.454375</td>\n",
       "      <td>0.130000</td>\n",
       "      <td>0.320000</td>\n",
       "      <td>0</td>\n",
       "    </tr>\n",
       "    <tr>\n",
       "      <th>2013-12-31</th>\n",
       "      <td>1221758670</td>\n",
       "      <td>48.074430</td>\n",
       "      <td>0.103000</td>\n",
       "      <td>0.763000</td>\n",
       "      <td>0.134000</td>\n",
       "      <td>0.989200</td>\n",
       "      <td>1</td>\n",
       "      <td>0.053483</td>\n",
       "      <td>0.481260</td>\n",
       "      <td>0.000000</td>\n",
       "      <td>0.000000</td>\n",
       "      <td>0.000000</td>\n",
       "      <td>0.000000</td>\n",
       "      <td>0</td>\n",
       "    </tr>\n",
       "    <tr>\n",
       "      <th>2019-12-31</th>\n",
       "      <td>1515708915</td>\n",
       "      <td>49.319325</td>\n",
       "      <td>0.062000</td>\n",
       "      <td>0.875000</td>\n",
       "      <td>0.063000</td>\n",
       "      <td>-0.650500</td>\n",
       "      <td>1</td>\n",
       "      <td>0.047203</td>\n",
       "      <td>0.372470</td>\n",
       "      <td>-0.231818</td>\n",
       "      <td>0.677273</td>\n",
       "      <td>0.362500</td>\n",
       "      <td>0.625000</td>\n",
       "      <td>0</td>\n",
       "    </tr>\n",
       "    <tr>\n",
       "      <th>2020-12-31</th>\n",
       "      <td>5140117905</td>\n",
       "      <td>61.848719</td>\n",
       "      <td>0.071500</td>\n",
       "      <td>0.808000</td>\n",
       "      <td>0.120500</td>\n",
       "      <td>0.992300</td>\n",
       "      <td>2</td>\n",
       "      <td>0.103684</td>\n",
       "      <td>0.404006</td>\n",
       "      <td>0.000000</td>\n",
       "      <td>0.000000</td>\n",
       "      <td>0.100000</td>\n",
       "      <td>0.300000</td>\n",
       "      <td>0</td>\n",
       "    </tr>\n",
       "  </tbody>\n",
       "</table>\n",
       "<p>1312 rows × 14 columns</p>\n",
       "</div>"
      ],
      "text/plain": [
       "                   OBV        RSI  Vader_neg  Vader_neu  Vader_pos  \\\n",
       "Date                                                                 \n",
       "2014-01-02  1190817660   0.000000   0.031000   0.869000   0.101000   \n",
       "2019-01-02  1396718105   0.000000   0.053750   0.877000   0.069250   \n",
       "2018-01-03  1948048885   0.000000   0.053000   0.817000   0.130000   \n",
       "2019-01-03  1361975220   0.000000   0.069667   0.839667   0.090333   \n",
       "2018-01-04  1898325920  57.882067   0.051500   0.858750   0.090000   \n",
       "...                ...        ...        ...        ...        ...   \n",
       "2019-12-30  1464246615  49.491721   0.064000   0.836000   0.100000   \n",
       "2020-12-30  5090467975  62.712273   0.073500   0.837500   0.089500   \n",
       "2013-12-31  1221758670  48.074430   0.103000   0.763000   0.134000   \n",
       "2019-12-31  1515708915  49.319325   0.062000   0.875000   0.063000   \n",
       "2020-12-31  5140117905  61.848719   0.071500   0.808000   0.120500   \n",
       "\n",
       "            Vader_compound  article_count  TextBlob_article_polarity  \\\n",
       "Date                                                                   \n",
       "2014-01-02        0.994900              1                   0.104228   \n",
       "2019-01-02        0.391675              4                   0.107059   \n",
       "2018-01-03        0.992750              2                   0.082165   \n",
       "2019-01-03        0.909767              3                   0.126922   \n",
       "2018-01-04        0.966500              4                   0.075833   \n",
       "...                    ...            ...                        ...   \n",
       "2019-12-30        0.988800              1                   0.085343   \n",
       "2020-12-30        0.165700              2                   0.076615   \n",
       "2013-12-31        0.989200              1                   0.053483   \n",
       "2019-12-31       -0.650500              1                   0.047203   \n",
       "2020-12-31        0.992300              2                   0.103684   \n",
       "\n",
       "            TextBlob_article_subjectivity  TextBlob_snippet_polarity  \\\n",
       "Date                                                                   \n",
       "2014-01-02                       0.433051                   0.000000   \n",
       "2019-01-02                       0.393232                   0.002083   \n",
       "2018-01-03                       0.433961                  -0.137500   \n",
       "2019-01-03                       0.440809                   0.245833   \n",
       "2018-01-04                       0.423203                   0.093561   \n",
       "...                                   ...                        ...   \n",
       "2019-12-30                       0.383371                  -0.300000   \n",
       "2020-12-30                       0.428176                   0.135417   \n",
       "2013-12-31                       0.481260                   0.000000   \n",
       "2019-12-31                       0.372470                  -0.231818   \n",
       "2020-12-31                       0.404006                   0.000000   \n",
       "\n",
       "            TextBlob_snippet_subjectivity  TextBlob_lead_polarity  \\\n",
       "Date                                                                \n",
       "2014-01-02                       0.000000                0.250000   \n",
       "2019-01-02                       0.189583                0.175000   \n",
       "2018-01-03                       0.312500                0.350000   \n",
       "2019-01-03                       0.483333                0.208333   \n",
       "2018-01-04                       0.359091                0.225000   \n",
       "...                                   ...                     ...   \n",
       "2019-12-30                       0.475000                0.166667   \n",
       "2020-12-30                       0.454375                0.130000   \n",
       "2013-12-31                       0.000000                0.000000   \n",
       "2019-12-31                       0.677273                0.362500   \n",
       "2020-12-31                       0.000000                0.100000   \n",
       "\n",
       "            TextBlob_lead_subjectivity  Green  \n",
       "Date                                           \n",
       "2014-01-02                    0.283333      1  \n",
       "2019-01-02                    0.150000      1  \n",
       "2018-01-03                    0.300000      1  \n",
       "2019-01-03                    0.394444      1  \n",
       "2018-01-04                    0.241667      0  \n",
       "...                                ...    ...  \n",
       "2019-12-30                    0.205556      0  \n",
       "2020-12-30                    0.320000      0  \n",
       "2013-12-31                    0.000000      0  \n",
       "2019-12-31                    0.625000      0  \n",
       "2020-12-31                    0.300000      0  \n",
       "\n",
       "[1312 rows x 14 columns]"
      ]
     },
     "execution_count": 17,
     "metadata": {},
     "output_type": "execute_result"
    }
   ],
   "source": [
    "df_TSLA_Senti"
   ]
  },
  {
   "cell_type": "code",
   "execution_count": 18,
   "id": "aa783398",
   "metadata": {
    "ExecuteTime": {
     "end_time": "2021-09-15T19:51:15.721569Z",
     "start_time": "2021-09-15T19:51:15.719322Z"
    }
   },
   "outputs": [],
   "source": [
    "## Shows how to calculate OBV does not need to be run becasue it is already in the DATAFRAME\n",
    "\n",
    "# # reset the date in ascending order so we can start calculating OBV\n",
    "# tesla_stock_df.sort_index(ascending=False, inplace=True)\n",
    "# #create a net row in order to calculate OBV\n",
    "# # tesla_stock_df['day_net']= tesla_stock_df['Open']-tesla_stock_df['Close/Last']\n",
    "\n",
    "# # tesla_stock_df[\"OBV\"]=0\n",
    "\n",
    "\n",
    "# tesla_stock_df['OBV'] = (np.sign(tesla_stock_df['Close/Last'].diff()) * tesla_stock_df['Volume']).fillna(0).cumsum().astype(int)\n",
    "\n",
    "# tesla_stock_df"
   ]
  },
  {
   "cell_type": "code",
   "execution_count": 19,
   "id": "8682f7d6",
   "metadata": {
    "ExecuteTime": {
     "end_time": "2021-09-15T19:51:15.724341Z",
     "start_time": "2021-09-15T19:51:15.723010Z"
    }
   },
   "outputs": [],
   "source": [
    "# OBV_df= tesla_stock_df.drop(['Close/Last', 'Volume', 'Open', \"High\", \"Low\"], 1)\n",
    "# OBV_df.set_index('Date', inplace= True)\n",
    "# OBV_df.head()"
   ]
  },
  {
   "cell_type": "code",
   "execution_count": 20,
   "id": "c1eb7017",
   "metadata": {
    "ExecuteTime": {
     "end_time": "2021-09-15T19:51:15.726661Z",
     "start_time": "2021-09-15T19:51:15.725318Z"
    }
   },
   "outputs": [],
   "source": [
    "# df_TSLA_Senti=pd.merge(OBV_df ,df_TSLA_Senti, how='inner', left_index=True, right_index= True)\n",
    "# # df_TSLA_Senti.drop(['Close/Last', 'Volume', 'Open', \"High\", \"Low\", \"Day_Net\"], 1, inplace=True)"
   ]
  },
  {
   "cell_type": "code",
   "execution_count": 21,
   "id": "b9d0b1fe",
   "metadata": {
    "ExecuteTime": {
     "end_time": "2021-09-15T19:51:15.741279Z",
     "start_time": "2021-09-15T19:51:15.727565Z"
    }
   },
   "outputs": [
    {
     "data": {
      "text/html": [
       "<div>\n",
       "<style scoped>\n",
       "    .dataframe tbody tr th:only-of-type {\n",
       "        vertical-align: middle;\n",
       "    }\n",
       "\n",
       "    .dataframe tbody tr th {\n",
       "        vertical-align: top;\n",
       "    }\n",
       "\n",
       "    .dataframe thead th {\n",
       "        text-align: right;\n",
       "    }\n",
       "</style>\n",
       "<table border=\"1\" class=\"dataframe\">\n",
       "  <thead>\n",
       "    <tr style=\"text-align: right;\">\n",
       "      <th></th>\n",
       "      <th>OBV</th>\n",
       "      <th>RSI</th>\n",
       "      <th>Vader_neg</th>\n",
       "      <th>Vader_neu</th>\n",
       "      <th>Vader_pos</th>\n",
       "      <th>Vader_compound</th>\n",
       "      <th>article_count</th>\n",
       "      <th>TextBlob_article_polarity</th>\n",
       "      <th>TextBlob_article_subjectivity</th>\n",
       "      <th>TextBlob_snippet_polarity</th>\n",
       "      <th>TextBlob_snippet_subjectivity</th>\n",
       "      <th>TextBlob_lead_polarity</th>\n",
       "      <th>TextBlob_lead_subjectivity</th>\n",
       "      <th>Green</th>\n",
       "    </tr>\n",
       "    <tr>\n",
       "      <th>Date</th>\n",
       "      <th></th>\n",
       "      <th></th>\n",
       "      <th></th>\n",
       "      <th></th>\n",
       "      <th></th>\n",
       "      <th></th>\n",
       "      <th></th>\n",
       "      <th></th>\n",
       "      <th></th>\n",
       "      <th></th>\n",
       "      <th></th>\n",
       "      <th></th>\n",
       "      <th></th>\n",
       "      <th></th>\n",
       "    </tr>\n",
       "  </thead>\n",
       "  <tbody>\n",
       "    <tr>\n",
       "      <th>2014-01-02</th>\n",
       "      <td>1190817660</td>\n",
       "      <td>0.000000</td>\n",
       "      <td>0.031000</td>\n",
       "      <td>0.869000</td>\n",
       "      <td>0.101000</td>\n",
       "      <td>0.994900</td>\n",
       "      <td>1</td>\n",
       "      <td>0.104228</td>\n",
       "      <td>0.433051</td>\n",
       "      <td>0.000000</td>\n",
       "      <td>0.000000</td>\n",
       "      <td>0.250000</td>\n",
       "      <td>0.283333</td>\n",
       "      <td>1</td>\n",
       "    </tr>\n",
       "    <tr>\n",
       "      <th>2019-01-02</th>\n",
       "      <td>1396718105</td>\n",
       "      <td>0.000000</td>\n",
       "      <td>0.053750</td>\n",
       "      <td>0.877000</td>\n",
       "      <td>0.069250</td>\n",
       "      <td>0.391675</td>\n",
       "      <td>4</td>\n",
       "      <td>0.107059</td>\n",
       "      <td>0.393232</td>\n",
       "      <td>0.002083</td>\n",
       "      <td>0.189583</td>\n",
       "      <td>0.175000</td>\n",
       "      <td>0.150000</td>\n",
       "      <td>1</td>\n",
       "    </tr>\n",
       "    <tr>\n",
       "      <th>2018-01-03</th>\n",
       "      <td>1948048885</td>\n",
       "      <td>0.000000</td>\n",
       "      <td>0.053000</td>\n",
       "      <td>0.817000</td>\n",
       "      <td>0.130000</td>\n",
       "      <td>0.992750</td>\n",
       "      <td>2</td>\n",
       "      <td>0.082165</td>\n",
       "      <td>0.433961</td>\n",
       "      <td>-0.137500</td>\n",
       "      <td>0.312500</td>\n",
       "      <td>0.350000</td>\n",
       "      <td>0.300000</td>\n",
       "      <td>1</td>\n",
       "    </tr>\n",
       "    <tr>\n",
       "      <th>2019-01-03</th>\n",
       "      <td>1361975220</td>\n",
       "      <td>0.000000</td>\n",
       "      <td>0.069667</td>\n",
       "      <td>0.839667</td>\n",
       "      <td>0.090333</td>\n",
       "      <td>0.909767</td>\n",
       "      <td>3</td>\n",
       "      <td>0.126922</td>\n",
       "      <td>0.440809</td>\n",
       "      <td>0.245833</td>\n",
       "      <td>0.483333</td>\n",
       "      <td>0.208333</td>\n",
       "      <td>0.394444</td>\n",
       "      <td>1</td>\n",
       "    </tr>\n",
       "    <tr>\n",
       "      <th>2018-01-04</th>\n",
       "      <td>1898325920</td>\n",
       "      <td>57.882067</td>\n",
       "      <td>0.051500</td>\n",
       "      <td>0.858750</td>\n",
       "      <td>0.090000</td>\n",
       "      <td>0.966500</td>\n",
       "      <td>4</td>\n",
       "      <td>0.075833</td>\n",
       "      <td>0.423203</td>\n",
       "      <td>0.093561</td>\n",
       "      <td>0.359091</td>\n",
       "      <td>0.225000</td>\n",
       "      <td>0.241667</td>\n",
       "      <td>0</td>\n",
       "    </tr>\n",
       "    <tr>\n",
       "      <th>...</th>\n",
       "      <td>...</td>\n",
       "      <td>...</td>\n",
       "      <td>...</td>\n",
       "      <td>...</td>\n",
       "      <td>...</td>\n",
       "      <td>...</td>\n",
       "      <td>...</td>\n",
       "      <td>...</td>\n",
       "      <td>...</td>\n",
       "      <td>...</td>\n",
       "      <td>...</td>\n",
       "      <td>...</td>\n",
       "      <td>...</td>\n",
       "      <td>...</td>\n",
       "    </tr>\n",
       "    <tr>\n",
       "      <th>2019-12-30</th>\n",
       "      <td>1464246615</td>\n",
       "      <td>49.491721</td>\n",
       "      <td>0.064000</td>\n",
       "      <td>0.836000</td>\n",
       "      <td>0.100000</td>\n",
       "      <td>0.988800</td>\n",
       "      <td>1</td>\n",
       "      <td>0.085343</td>\n",
       "      <td>0.383371</td>\n",
       "      <td>-0.300000</td>\n",
       "      <td>0.475000</td>\n",
       "      <td>0.166667</td>\n",
       "      <td>0.205556</td>\n",
       "      <td>0</td>\n",
       "    </tr>\n",
       "    <tr>\n",
       "      <th>2020-12-30</th>\n",
       "      <td>5090467975</td>\n",
       "      <td>62.712273</td>\n",
       "      <td>0.073500</td>\n",
       "      <td>0.837500</td>\n",
       "      <td>0.089500</td>\n",
       "      <td>0.165700</td>\n",
       "      <td>2</td>\n",
       "      <td>0.076615</td>\n",
       "      <td>0.428176</td>\n",
       "      <td>0.135417</td>\n",
       "      <td>0.454375</td>\n",
       "      <td>0.130000</td>\n",
       "      <td>0.320000</td>\n",
       "      <td>0</td>\n",
       "    </tr>\n",
       "    <tr>\n",
       "      <th>2013-12-31</th>\n",
       "      <td>1221758670</td>\n",
       "      <td>48.074430</td>\n",
       "      <td>0.103000</td>\n",
       "      <td>0.763000</td>\n",
       "      <td>0.134000</td>\n",
       "      <td>0.989200</td>\n",
       "      <td>1</td>\n",
       "      <td>0.053483</td>\n",
       "      <td>0.481260</td>\n",
       "      <td>0.000000</td>\n",
       "      <td>0.000000</td>\n",
       "      <td>0.000000</td>\n",
       "      <td>0.000000</td>\n",
       "      <td>0</td>\n",
       "    </tr>\n",
       "    <tr>\n",
       "      <th>2019-12-31</th>\n",
       "      <td>1515708915</td>\n",
       "      <td>49.319325</td>\n",
       "      <td>0.062000</td>\n",
       "      <td>0.875000</td>\n",
       "      <td>0.063000</td>\n",
       "      <td>-0.650500</td>\n",
       "      <td>1</td>\n",
       "      <td>0.047203</td>\n",
       "      <td>0.372470</td>\n",
       "      <td>-0.231818</td>\n",
       "      <td>0.677273</td>\n",
       "      <td>0.362500</td>\n",
       "      <td>0.625000</td>\n",
       "      <td>0</td>\n",
       "    </tr>\n",
       "    <tr>\n",
       "      <th>2020-12-31</th>\n",
       "      <td>5140117905</td>\n",
       "      <td>61.848719</td>\n",
       "      <td>0.071500</td>\n",
       "      <td>0.808000</td>\n",
       "      <td>0.120500</td>\n",
       "      <td>0.992300</td>\n",
       "      <td>2</td>\n",
       "      <td>0.103684</td>\n",
       "      <td>0.404006</td>\n",
       "      <td>0.000000</td>\n",
       "      <td>0.000000</td>\n",
       "      <td>0.100000</td>\n",
       "      <td>0.300000</td>\n",
       "      <td>0</td>\n",
       "    </tr>\n",
       "  </tbody>\n",
       "</table>\n",
       "<p>1312 rows × 14 columns</p>\n",
       "</div>"
      ],
      "text/plain": [
       "                   OBV        RSI  Vader_neg  Vader_neu  Vader_pos  \\\n",
       "Date                                                                 \n",
       "2014-01-02  1190817660   0.000000   0.031000   0.869000   0.101000   \n",
       "2019-01-02  1396718105   0.000000   0.053750   0.877000   0.069250   \n",
       "2018-01-03  1948048885   0.000000   0.053000   0.817000   0.130000   \n",
       "2019-01-03  1361975220   0.000000   0.069667   0.839667   0.090333   \n",
       "2018-01-04  1898325920  57.882067   0.051500   0.858750   0.090000   \n",
       "...                ...        ...        ...        ...        ...   \n",
       "2019-12-30  1464246615  49.491721   0.064000   0.836000   0.100000   \n",
       "2020-12-30  5090467975  62.712273   0.073500   0.837500   0.089500   \n",
       "2013-12-31  1221758670  48.074430   0.103000   0.763000   0.134000   \n",
       "2019-12-31  1515708915  49.319325   0.062000   0.875000   0.063000   \n",
       "2020-12-31  5140117905  61.848719   0.071500   0.808000   0.120500   \n",
       "\n",
       "            Vader_compound  article_count  TextBlob_article_polarity  \\\n",
       "Date                                                                   \n",
       "2014-01-02        0.994900              1                   0.104228   \n",
       "2019-01-02        0.391675              4                   0.107059   \n",
       "2018-01-03        0.992750              2                   0.082165   \n",
       "2019-01-03        0.909767              3                   0.126922   \n",
       "2018-01-04        0.966500              4                   0.075833   \n",
       "...                    ...            ...                        ...   \n",
       "2019-12-30        0.988800              1                   0.085343   \n",
       "2020-12-30        0.165700              2                   0.076615   \n",
       "2013-12-31        0.989200              1                   0.053483   \n",
       "2019-12-31       -0.650500              1                   0.047203   \n",
       "2020-12-31        0.992300              2                   0.103684   \n",
       "\n",
       "            TextBlob_article_subjectivity  TextBlob_snippet_polarity  \\\n",
       "Date                                                                   \n",
       "2014-01-02                       0.433051                   0.000000   \n",
       "2019-01-02                       0.393232                   0.002083   \n",
       "2018-01-03                       0.433961                  -0.137500   \n",
       "2019-01-03                       0.440809                   0.245833   \n",
       "2018-01-04                       0.423203                   0.093561   \n",
       "...                                   ...                        ...   \n",
       "2019-12-30                       0.383371                  -0.300000   \n",
       "2020-12-30                       0.428176                   0.135417   \n",
       "2013-12-31                       0.481260                   0.000000   \n",
       "2019-12-31                       0.372470                  -0.231818   \n",
       "2020-12-31                       0.404006                   0.000000   \n",
       "\n",
       "            TextBlob_snippet_subjectivity  TextBlob_lead_polarity  \\\n",
       "Date                                                                \n",
       "2014-01-02                       0.000000                0.250000   \n",
       "2019-01-02                       0.189583                0.175000   \n",
       "2018-01-03                       0.312500                0.350000   \n",
       "2019-01-03                       0.483333                0.208333   \n",
       "2018-01-04                       0.359091                0.225000   \n",
       "...                                   ...                     ...   \n",
       "2019-12-30                       0.475000                0.166667   \n",
       "2020-12-30                       0.454375                0.130000   \n",
       "2013-12-31                       0.000000                0.000000   \n",
       "2019-12-31                       0.677273                0.362500   \n",
       "2020-12-31                       0.000000                0.100000   \n",
       "\n",
       "            TextBlob_lead_subjectivity  Green  \n",
       "Date                                           \n",
       "2014-01-02                    0.283333      1  \n",
       "2019-01-02                    0.150000      1  \n",
       "2018-01-03                    0.300000      1  \n",
       "2019-01-03                    0.394444      1  \n",
       "2018-01-04                    0.241667      0  \n",
       "...                                ...    ...  \n",
       "2019-12-30                    0.205556      0  \n",
       "2020-12-30                    0.320000      0  \n",
       "2013-12-31                    0.000000      0  \n",
       "2019-12-31                    0.625000      0  \n",
       "2020-12-31                    0.300000      0  \n",
       "\n",
       "[1312 rows x 14 columns]"
      ]
     },
     "execution_count": 21,
     "metadata": {},
     "output_type": "execute_result"
    }
   ],
   "source": [
    "df_TSLA_Senti"
   ]
  },
  {
   "cell_type": "code",
   "execution_count": 22,
   "id": "0f4bde6a",
   "metadata": {
    "ExecuteTime": {
     "end_time": "2021-09-15T19:51:15.743673Z",
     "start_time": "2021-09-15T19:51:15.742168Z"
    }
   },
   "outputs": [],
   "source": [
    "# df_TSLA_Senti.to_csv('tesla_baseline_sentiment_data')"
   ]
  },
  {
   "cell_type": "code",
   "execution_count": null,
   "id": "adae2e06",
   "metadata": {
    "ExecuteTime": {
     "end_time": "2021-09-14T19:57:27.193264Z",
     "start_time": "2021-09-14T19:57:27.161816Z"
    }
   },
   "outputs": [],
   "source": []
  },
  {
   "cell_type": "markdown",
   "id": "c77797c6",
   "metadata": {},
   "source": [
    "### Models"
   ]
  },
  {
   "cell_type": "code",
   "execution_count": 23,
   "id": "59d11e4d",
   "metadata": {
    "ExecuteTime": {
     "end_time": "2021-09-15T19:51:15.755887Z",
     "start_time": "2021-09-15T19:51:15.748081Z"
    }
   },
   "outputs": [],
   "source": [
    "from sklearn.model_selection import train_test_split\n",
    "from sklearn.preprocessing import StandardScaler\n",
    "from sklearn.linear_model import LogisticRegression\n",
    "from sklearn.pipeline import Pipeline\n",
    "from sklearn.metrics import classification_report\n",
    "#split the train and test sets \n",
    "\n",
    "X=df_TSLA_Senti.drop('Green',1)\n",
    "y=df_TSLA_Senti['Green']\n",
    "X_train, X_test, y_train, y_test = train_test_split(X, y, test_size = 0.3, random_state=42)\n",
    "\n",
    "#create a pipeline\n",
    "pipe=Pipeline([('sd', StandardScaler()),('log_clf', LogisticRegression(random_state=42))])\n"
   ]
  },
  {
   "cell_type": "code",
   "execution_count": 24,
   "id": "6f1d7f0e",
   "metadata": {
    "ExecuteTime": {
     "end_time": "2021-09-15T19:51:15.764012Z",
     "start_time": "2021-09-15T19:51:15.759741Z"
    }
   },
   "outputs": [],
   "source": [
    "def scores_news(model, actual = y_test  ,X_train_scaled = X_train, X_test_scaled = X_test ,y_train = y_train):\n",
    "    pred_train = model.predict(X_train_scaled)\n",
    "    pred_test = model.predict(X_test_scaled)\n",
    "    \n",
    "    print(\"Train Scores\")\n",
    "    print(\"log loss: \", log_loss(y_train, pred_train))\n",
    "    print(\"accuracy: \", accuracy_score(y_train, pred_train))\n",
    "    print(\"precision:\", precision_score(y_train, pred_train))\n",
    "    print(\"recall:   \", recall_score(y_train, pred_train))\n",
    "    plot_confusion_matrix(model, X_train_scaled, y_train)\n",
    "    \n",
    "    print(\"Test Scores\")\n",
    "    print(\"log loss: \", log_loss(actual, pred_test))\n",
    "    print(\"accuracy: \", accuracy_score(actual, pred_test))\n",
    "    print(\"precision:\", precision_score(actual, pred_test))\n",
    "    print(\"recall:   \", recall_score(actual, pred_test))\n",
    "    \n",
    "    \n",
    "    plot_confusion_matrix(model, X_test_scaled, actual)"
   ]
  },
  {
   "cell_type": "code",
   "execution_count": 25,
   "id": "bec1e0f8",
   "metadata": {
    "ExecuteTime": {
     "end_time": "2021-09-15T19:51:16.002336Z",
     "start_time": "2021-09-15T19:51:15.765507Z"
    }
   },
   "outputs": [
    {
     "name": "stdout",
     "output_type": "stream",
     "text": [
      "              precision    recall  f1-score   support\n",
      "\n",
      "           0       0.51      0.60      0.55       197\n",
      "           1       0.52      0.43      0.47       197\n",
      "\n",
      "    accuracy                           0.51       394\n",
      "   macro avg       0.51      0.51      0.51       394\n",
      "weighted avg       0.51      0.51      0.51       394\n",
      "\n",
      "Train Scores\n",
      "log loss:  15.726964335738048\n",
      "accuracy:  0.5446623093681917\n",
      "precision: 0.5406091370558376\n",
      "recall:    0.47333333333333333\n",
      "Test Scores\n",
      "log loss:  16.831239177715318\n",
      "accuracy:  0.5126903553299492\n",
      "precision: 0.5153374233128835\n",
      "recall:    0.4263959390862944\n",
      "None\n"
     ]
    },
    {
     "data": {
      "image/png": "[encoded data removed]",
      "text/plain": [
       "<Figure size 432x288 with 2 Axes>"
      ]
     },
     "metadata": {
      "needs_background": "light"
     },
     "output_type": "display_data"
    },
    {
     "data": {
      "image/png": "[encoded data removed]",
      "text/plain": [
       "<Figure size 432x288 with 2 Axes>"
      ]
     },
     "metadata": {
      "needs_background": "light"
     },
     "output_type": "display_data"
    }
   ],
   "source": [
    "pipe.fit(X_train, y_train)\n",
    "log_preds=pipe.predict(X_test)\n",
    "\n",
    "print(classification_report(y_test,log_preds))\n",
    "\n",
    "print(scores_news(pipe, y_test))"
   ]
  },
  {
   "cell_type": "code",
   "execution_count": 26,
   "id": "06b66397",
   "metadata": {
    "ExecuteTime": {
     "end_time": "2021-09-15T19:51:19.063311Z",
     "start_time": "2021-09-15T19:51:16.004570Z"
    }
   },
   "outputs": [
    {
     "name": "stdout",
     "output_type": "stream",
     "text": [
      "              precision    recall  f1-score   support\n",
      "\n",
      "           0       0.51      0.53      0.52       197\n",
      "           1       0.51      0.48      0.49       197\n",
      "\n",
      "    accuracy                           0.51       394\n",
      "   macro avg       0.51      0.51      0.51       394\n",
      "weighted avg       0.51      0.51      0.51       394\n",
      "\n"
     ]
    }
   ],
   "source": [
    "pipe_RF=Pipeline([('sd', StandardScaler()),('RF_clf', RandomForestClassifier(criterion = 'entropy', \n",
    "                                  n_estimators = 1150,))])\n",
    "#fitting the model\n",
    "pipe_RF.fit(X_train, y_train)\n",
    "rf_preds=pipe_RF.predict(X_test)\n",
    "\n",
    "print(classification_report(y_test,rf_preds))"
   ]
  },
  {
   "cell_type": "code",
   "execution_count": 27,
   "id": "7a12d385",
   "metadata": {
    "ExecuteTime": {
     "end_time": "2021-09-15T19:51:19.065738Z",
     "start_time": "2021-09-15T19:51:19.064183Z"
    }
   },
   "outputs": [],
   "source": [
    "## Takes around 15 minsb\n",
    "\n",
    "# # let's run a gridsearch on this model\n",
    "# from sklearn.model_selection import GridSearchCV\n",
    "\n",
    "# param_grid = {\n",
    "#                'RF_clf__n_estimators': [200, 500,1000, 2000],\n",
    "#                'RF_clf__criterion' :['gini','entropy'],\n",
    "#                'RF_clf__max_depth': [3,5,8],\n",
    "#                'RF_clf__max_features' : [5,10,13]\n",
    "               \n",
    "#              }\n",
    "\n",
    "\n",
    "# gs = GridSearchCV(pipe_RF, \n",
    "#                   param_grid, \n",
    "#                   cv=5,\n",
    "#                   verbose = 2\n",
    "#                  )\n",
    "# rf_gs_results= gs.fit(X_train,y_train)"
   ]
  },
  {
   "cell_type": "code",
   "execution_count": 28,
   "id": "562ea5ba",
   "metadata": {
    "ExecuteTime": {
     "end_time": "2021-09-15T19:51:19.068067Z",
     "start_time": "2021-09-15T19:51:19.066697Z"
    }
   },
   "outputs": [],
   "source": [
    "# rf_gs_results.best_score_\n"
   ]
  },
  {
   "cell_type": "code",
   "execution_count": 29,
   "id": "669df2f5",
   "metadata": {
    "ExecuteTime": {
     "end_time": "2021-09-15T19:51:19.070430Z",
     "start_time": "2021-09-15T19:51:19.069075Z"
    }
   },
   "outputs": [],
   "source": [
    "# rf_gs_results.best_params_"
   ]
  },
  {
   "cell_type": "code",
   "execution_count": 30,
   "id": "ce3322b6",
   "metadata": {
    "ExecuteTime": {
     "end_time": "2021-09-15T19:51:20.008447Z",
     "start_time": "2021-09-15T19:51:19.071276Z"
    }
   },
   "outputs": [
    {
     "name": "stdout",
     "output_type": "stream",
     "text": [
      "Fitting 5 folds for each of 28 candidates, totalling 140 fits\n",
      "[CV] log_clf__max_iter=40, log_clf__penalty=l1, log_clf__solver=liblinear \n",
      "[CV]  log_clf__max_iter=40, log_clf__penalty=l1, log_clf__solver=liblinear, total=   0.0s\n",
      "[CV] log_clf__max_iter=40, log_clf__penalty=l1, log_clf__solver=liblinear \n",
      "[CV]  log_clf__max_iter=40, log_clf__penalty=l1, log_clf__solver=liblinear, total=   0.0s\n",
      "[CV] log_clf__max_iter=40, log_clf__penalty=l1, log_clf__solver=liblinear \n",
      "[CV]  log_clf__max_iter=40, log_clf__penalty=l1, log_clf__solver=liblinear, total=   0.0s\n",
      "[CV] log_clf__max_iter=40, log_clf__penalty=l1, log_clf__solver=liblinear \n",
      "[CV]  log_clf__max_iter=40, log_clf__penalty=l1, log_clf__solver=liblinear, total=   0.0s\n",
      "[CV] log_clf__max_iter=40, log_clf__penalty=l1, log_clf__solver=liblinear \n",
      "[CV]  log_clf__max_iter=40, log_clf__penalty=l1, log_clf__solver=liblinear, total=   0.0s\n",
      "[CV] log_clf__max_iter=40, log_clf__penalty=l1, log_clf__solver=saga .\n",
      "[CV]  log_clf__max_iter=40, log_clf__penalty=l1, log_clf__solver=saga, total=   0.0s\n",
      "[CV] log_clf__max_iter=40, log_clf__penalty=l1, log_clf__solver=saga .\n",
      "[CV]  log_clf__max_iter=40, log_clf__penalty=l1, log_clf__solver=saga, total=   0.0s\n",
      "[CV] log_clf__max_iter=40, log_clf__penalty=l1, log_clf__solver=saga .\n",
      "[CV]  log_clf__max_iter=40, log_clf__penalty=l1, log_clf__solver=saga, total=   0.0s\n",
      "[CV] log_clf__max_iter=40, log_clf__penalty=l1, log_clf__solver=saga .\n",
      "[CV]  log_clf__max_iter=40, log_clf__penalty=l1, log_clf__solver=saga, total=   0.0s\n",
      "[CV] log_clf__max_iter=40, log_clf__penalty=l1, log_clf__solver=saga .\n",
      "[CV]  log_clf__max_iter=40, log_clf__penalty=l1, log_clf__solver=saga, total=   0.0s\n",
      "[CV] log_clf__max_iter=40, log_clf__penalty=l2, log_clf__solver=liblinear \n",
      "[CV]  log_clf__max_iter=40, log_clf__penalty=l2, log_clf__solver=liblinear, total=   0.0s\n",
      "[CV] log_clf__max_iter=40, log_clf__penalty=l2, log_clf__solver=liblinear \n",
      "[CV]  log_clf__max_iter=40, log_clf__penalty=l2, log_clf__solver=liblinear, total=   0.0s\n",
      "[CV] log_clf__max_iter=40, log_clf__penalty=l2, log_clf__solver=liblinear \n",
      "[CV]  log_clf__max_iter=40, log_clf__penalty=l2, log_clf__solver=liblinear, total=   0.0s\n",
      "[CV] log_clf__max_iter=40, log_clf__penalty=l2, log_clf__solver=liblinear \n",
      "[CV]  log_clf__max_iter=40, log_clf__penalty=l2, log_clf__solver=liblinear, total=   0.0s\n",
      "[CV] log_clf__max_iter=40, log_clf__penalty=l2, log_clf__solver=liblinear \n",
      "[CV]  log_clf__max_iter=40, log_clf__penalty=l2, log_clf__solver=liblinear, total=   0.0s\n",
      "[CV] log_clf__max_iter=40, log_clf__penalty=l2, log_clf__solver=saga .\n",
      "[CV]  log_clf__max_iter=40, log_clf__penalty=l2, log_clf__solver=saga, total=   0.0s\n",
      "[CV] log_clf__max_iter=40, log_clf__penalty=l2, log_clf__solver=saga .\n",
      "[CV]  log_clf__max_iter=40, log_clf__penalty=l2, log_clf__solver=saga, total=   0.0s\n",
      "[CV] log_clf__max_iter=40, log_clf__penalty=l2, log_clf__solver=saga .\n",
      "[CV]  log_clf__max_iter=40, log_clf__penalty=l2, log_clf__solver=saga, total=   0.0s\n",
      "[CV] log_clf__max_iter=40, log_clf__penalty=l2, log_clf__solver=saga .\n",
      "[CV]  log_clf__max_iter=40, log_clf__penalty=l2, log_clf__solver=saga, total=   0.0s\n",
      "[CV] log_clf__max_iter=40, log_clf__penalty=l2, log_clf__solver=saga .\n",
      "[CV]  log_clf__max_iter=40, log_clf__penalty=l2, log_clf__solver=saga, total=   0.0s\n",
      "[CV] log_clf__max_iter=50, log_clf__penalty=l1, log_clf__solver=liblinear \n",
      "[CV]  log_clf__max_iter=50, log_clf__penalty=l1, log_clf__solver=liblinear, total=   0.0s\n",
      "[CV] log_clf__max_iter=50, log_clf__penalty=l1, log_clf__solver=liblinear \n",
      "[CV]  log_clf__max_iter=50, log_clf__penalty=l1, log_clf__solver=liblinear, total=   0.0s\n",
      "[CV] log_clf__max_iter=50, log_clf__penalty=l1, log_clf__solver=liblinear \n",
      "[CV]  log_clf__max_iter=50, log_clf__penalty=l1, log_clf__solver=liblinear, total=   0.0s\n",
      "[CV] log_clf__max_iter=50, log_clf__penalty=l1, log_clf__solver=liblinear \n",
      "[CV]  log_clf__max_iter=50, log_clf__penalty=l1, log_clf__solver=liblinear, total=   0.0s\n",
      "[CV] log_clf__max_iter=50, log_clf__penalty=l1, log_clf__solver=liblinear \n",
      "[CV]  log_clf__max_iter=50, log_clf__penalty=l1, log_clf__solver=liblinear, total=   0.0s\n",
      "[CV] log_clf__max_iter=50, log_clf__penalty=l1, log_clf__solver=saga .\n",
      "[CV]  log_clf__max_iter=50, log_clf__penalty=l1, log_clf__solver=saga, total=   0.0s\n",
      "[CV] log_clf__max_iter=50, log_clf__penalty=l1, log_clf__solver=saga .\n",
      "[CV]  log_clf__max_iter=50, log_clf__penalty=l1, log_clf__solver=saga, total=   0.0s\n",
      "[CV] log_clf__max_iter=50, log_clf__penalty=l1, log_clf__solver=saga .\n"
     ]
    },
    {
     "name": "stderr",
     "output_type": "stream",
     "text": [
      "[Parallel(n_jobs=1)]: Using backend SequentialBackend with 1 concurrent workers.\n",
      "[Parallel(n_jobs=1)]: Done   1 out of   1 | elapsed:    0.0s remaining:    0.0s\n"
     ]
    },
    {
     "name": "stdout",
     "output_type": "stream",
     "text": [
      "[CV]  log_clf__max_iter=50, log_clf__penalty=l1, log_clf__solver=saga, total=   0.0s\n",
      "[CV] log_clf__max_iter=50, log_clf__penalty=l1, log_clf__solver=saga .\n",
      "[CV]  log_clf__max_iter=50, log_clf__penalty=l1, log_clf__solver=saga, total=   0.0s\n",
      "[CV] log_clf__max_iter=50, log_clf__penalty=l1, log_clf__solver=saga .\n",
      "[CV]  log_clf__max_iter=50, log_clf__penalty=l1, log_clf__solver=saga, total=   0.0s\n",
      "[CV] log_clf__max_iter=50, log_clf__penalty=l2, log_clf__solver=liblinear \n",
      "[CV]  log_clf__max_iter=50, log_clf__penalty=l2, log_clf__solver=liblinear, total=   0.0s\n",
      "[CV] log_clf__max_iter=50, log_clf__penalty=l2, log_clf__solver=liblinear \n",
      "[CV]  log_clf__max_iter=50, log_clf__penalty=l2, log_clf__solver=liblinear, total=   0.0s\n",
      "[CV] log_clf__max_iter=50, log_clf__penalty=l2, log_clf__solver=liblinear \n",
      "[CV]  log_clf__max_iter=50, log_clf__penalty=l2, log_clf__solver=liblinear, total=   0.0s\n",
      "[CV] log_clf__max_iter=50, log_clf__penalty=l2, log_clf__solver=liblinear \n",
      "[CV]  log_clf__max_iter=50, log_clf__penalty=l2, log_clf__solver=liblinear, total=   0.0s\n",
      "[CV] log_clf__max_iter=50, log_clf__penalty=l2, log_clf__solver=liblinear \n",
      "[CV]  log_clf__max_iter=50, log_clf__penalty=l2, log_clf__solver=liblinear, total=   0.0s\n",
      "[CV] log_clf__max_iter=50, log_clf__penalty=l2, log_clf__solver=saga .\n",
      "[CV]  log_clf__max_iter=50, log_clf__penalty=l2, log_clf__solver=saga, total=   0.0s\n",
      "[CV] log_clf__max_iter=50, log_clf__penalty=l2, log_clf__solver=saga .\n",
      "[CV]  log_clf__max_iter=50, log_clf__penalty=l2, log_clf__solver=saga, total=   0.0s\n",
      "[CV] log_clf__max_iter=50, log_clf__penalty=l2, log_clf__solver=saga .\n",
      "[CV]  log_clf__max_iter=50, log_clf__penalty=l2, log_clf__solver=saga, total=   0.0s\n",
      "[CV] log_clf__max_iter=50, log_clf__penalty=l2, log_clf__solver=saga .\n",
      "[CV]  log_clf__max_iter=50, log_clf__penalty=l2, log_clf__solver=saga, total=   0.0s\n",
      "[CV] log_clf__max_iter=50, log_clf__penalty=l2, log_clf__solver=saga .\n",
      "[CV]  log_clf__max_iter=50, log_clf__penalty=l2, log_clf__solver=saga, total=   0.0s\n",
      "[CV] log_clf__max_iter=100, log_clf__penalty=l1, log_clf__solver=liblinear \n",
      "[CV]  log_clf__max_iter=100, log_clf__penalty=l1, log_clf__solver=liblinear, total=   0.0s\n",
      "[CV] log_clf__max_iter=100, log_clf__penalty=l1, log_clf__solver=liblinear \n",
      "[CV]  log_clf__max_iter=100, log_clf__penalty=l1, log_clf__solver=liblinear, total=   0.0s\n",
      "[CV] log_clf__max_iter=100, log_clf__penalty=l1, log_clf__solver=liblinear \n",
      "[CV]  log_clf__max_iter=100, log_clf__penalty=l1, log_clf__solver=liblinear, total=   0.0s\n",
      "[CV] log_clf__max_iter=100, log_clf__penalty=l1, log_clf__solver=liblinear \n",
      "[CV]  log_clf__max_iter=100, log_clf__penalty=l1, log_clf__solver=liblinear, total=   0.0s\n",
      "[CV] log_clf__max_iter=100, log_clf__penalty=l1, log_clf__solver=liblinear \n",
      "[CV]  log_clf__max_iter=100, log_clf__penalty=l1, log_clf__solver=liblinear, total=   0.0s\n",
      "[CV] log_clf__max_iter=100, log_clf__penalty=l1, log_clf__solver=saga \n",
      "[CV]  log_clf__max_iter=100, log_clf__penalty=l1, log_clf__solver=saga, total=   0.0s\n",
      "[CV] log_clf__max_iter=100, log_clf__penalty=l1, log_clf__solver=saga \n",
      "[CV]  log_clf__max_iter=100, log_clf__penalty=l1, log_clf__solver=saga, total=   0.0s\n",
      "[CV] log_clf__max_iter=100, log_clf__penalty=l1, log_clf__solver=saga \n",
      "[CV]  log_clf__max_iter=100, log_clf__penalty=l1, log_clf__solver=saga, total=   0.0s\n",
      "[CV] log_clf__max_iter=100, log_clf__penalty=l1, log_clf__solver=saga \n",
      "[CV]  log_clf__max_iter=100, log_clf__penalty=l1, log_clf__solver=saga, total=   0.0s\n",
      "[CV] log_clf__max_iter=100, log_clf__penalty=l1, log_clf__solver=saga \n",
      "[CV]  log_clf__max_iter=100, log_clf__penalty=l1, log_clf__solver=saga, total=   0.0s\n",
      "[CV] log_clf__max_iter=100, log_clf__penalty=l2, log_clf__solver=liblinear \n",
      "[CV]  log_clf__max_iter=100, log_clf__penalty=l2, log_clf__solver=liblinear, total=   0.0s\n",
      "[CV] log_clf__max_iter=100, log_clf__penalty=l2, log_clf__solver=liblinear \n",
      "[CV]  log_clf__max_iter=100, log_clf__penalty=l2, log_clf__solver=liblinear, total=   0.0s\n",
      "[CV] log_clf__max_iter=100, log_clf__penalty=l2, log_clf__solver=liblinear \n",
      "[CV]  log_clf__max_iter=100, log_clf__penalty=l2, log_clf__solver=liblinear, total=   0.0s\n",
      "[CV] log_clf__max_iter=100, log_clf__penalty=l2, log_clf__solver=liblinear \n",
      "[CV]  log_clf__max_iter=100, log_clf__penalty=l2, log_clf__solver=liblinear, total=   0.0s\n",
      "[CV] log_clf__max_iter=100, log_clf__penalty=l2, log_clf__solver=liblinear \n",
      "[CV]  log_clf__max_iter=100, log_clf__penalty=l2, log_clf__solver=liblinear, total=   0.0s\n",
      "[CV] log_clf__max_iter=100, log_clf__penalty=l2, log_clf__solver=saga \n",
      "[CV]  log_clf__max_iter=100, log_clf__penalty=l2, log_clf__solver=saga, total=   0.0s\n",
      "[CV] log_clf__max_iter=100, log_clf__penalty=l2, log_clf__solver=saga \n",
      "[CV]  log_clf__max_iter=100, log_clf__penalty=l2, log_clf__solver=saga, total=   0.0s\n",
      "[CV] log_clf__max_iter=100, log_clf__penalty=l2, log_clf__solver=saga \n",
      "[CV]  log_clf__max_iter=100, log_clf__penalty=l2, log_clf__solver=saga, total=   0.0s\n",
      "[CV] log_clf__max_iter=100, log_clf__penalty=l2, log_clf__solver=saga \n",
      "[CV]  log_clf__max_iter=100, log_clf__penalty=l2, log_clf__solver=saga, total=   0.0s\n",
      "[CV] log_clf__max_iter=100, log_clf__penalty=l2, log_clf__solver=saga \n",
      "[CV]  log_clf__max_iter=100, log_clf__penalty=l2, log_clf__solver=saga, total=   0.0s\n",
      "[CV] log_clf__max_iter=200, log_clf__penalty=l1, log_clf__solver=liblinear \n",
      "[CV]  log_clf__max_iter=200, log_clf__penalty=l1, log_clf__solver=liblinear, total=   0.0s\n",
      "[CV] log_clf__max_iter=200, log_clf__penalty=l1, log_clf__solver=liblinear \n",
      "[CV]  log_clf__max_iter=200, log_clf__penalty=l1, log_clf__solver=liblinear, total=   0.0s\n",
      "[CV] log_clf__max_iter=200, log_clf__penalty=l1, log_clf__solver=liblinear \n",
      "[CV]  log_clf__max_iter=200, log_clf__penalty=l1, log_clf__solver=liblinear, total=   0.0s\n",
      "[CV] log_clf__max_iter=200, log_clf__penalty=l1, log_clf__solver=liblinear \n",
      "[CV]  log_clf__max_iter=200, log_clf__penalty=l1, log_clf__solver=liblinear, total=   0.0s\n",
      "[CV] log_clf__max_iter=200, log_clf__penalty=l1, log_clf__solver=liblinear \n",
      "[CV]  log_clf__max_iter=200, log_clf__penalty=l1, log_clf__solver=liblinear, total=   0.0s\n",
      "[CV] log_clf__max_iter=200, log_clf__penalty=l1, log_clf__solver=saga \n",
      "[CV]  log_clf__max_iter=200, log_clf__penalty=l1, log_clf__solver=saga, total=   0.0s\n",
      "[CV] log_clf__max_iter=200, log_clf__penalty=l1, log_clf__solver=saga \n",
      "[CV]  log_clf__max_iter=200, log_clf__penalty=l1, log_clf__solver=saga, total=   0.0s\n",
      "[CV] log_clf__max_iter=200, log_clf__penalty=l1, log_clf__solver=saga \n",
      "[CV]  log_clf__max_iter=200, log_clf__penalty=l1, log_clf__solver=saga, total=   0.0s\n",
      "[CV] log_clf__max_iter=200, log_clf__penalty=l1, log_clf__solver=saga \n",
      "[CV]  log_clf__max_iter=200, log_clf__penalty=l1, log_clf__solver=saga, total=   0.0s\n",
      "[CV] log_clf__max_iter=200, log_clf__penalty=l1, log_clf__solver=saga \n",
      "[CV]  log_clf__max_iter=200, log_clf__penalty=l1, log_clf__solver=saga, total=   0.0s\n",
      "[CV] log_clf__max_iter=200, log_clf__penalty=l2, log_clf__solver=liblinear \n",
      "[CV]  log_clf__max_iter=200, log_clf__penalty=l2, log_clf__solver=liblinear, total=   0.0s\n",
      "[CV] log_clf__max_iter=200, log_clf__penalty=l2, log_clf__solver=liblinear \n",
      "[CV]  log_clf__max_iter=200, log_clf__penalty=l2, log_clf__solver=liblinear, total=   0.0s\n",
      "[CV] log_clf__max_iter=200, log_clf__penalty=l2, log_clf__solver=liblinear \n",
      "[CV]  log_clf__max_iter=200, log_clf__penalty=l2, log_clf__solver=liblinear, total=   0.0s\n",
      "[CV] log_clf__max_iter=200, log_clf__penalty=l2, log_clf__solver=liblinear \n",
      "[CV]  log_clf__max_iter=200, log_clf__penalty=l2, log_clf__solver=liblinear, total=   0.0s\n",
      "[CV] log_clf__max_iter=200, log_clf__penalty=l2, log_clf__solver=liblinear \n",
      "[CV]  log_clf__max_iter=200, log_clf__penalty=l2, log_clf__solver=liblinear, total=   0.0s\n",
      "[CV] log_clf__max_iter=200, log_clf__penalty=l2, log_clf__solver=saga \n",
      "[CV]  log_clf__max_iter=200, log_clf__penalty=l2, log_clf__solver=saga, total=   0.0s\n",
      "[CV] log_clf__max_iter=200, log_clf__penalty=l2, log_clf__solver=saga \n",
      "[CV]  log_clf__max_iter=200, log_clf__penalty=l2, log_clf__solver=saga, total=   0.0s\n",
      "[CV] log_clf__max_iter=200, log_clf__penalty=l2, log_clf__solver=saga \n",
      "[CV]  log_clf__max_iter=200, log_clf__penalty=l2, log_clf__solver=saga, total=   0.0s\n",
      "[CV] log_clf__max_iter=200, log_clf__penalty=l2, log_clf__solver=saga \n",
      "[CV]  log_clf__max_iter=200, log_clf__penalty=l2, log_clf__solver=saga, total=   0.0s\n",
      "[CV] log_clf__max_iter=200, log_clf__penalty=l2, log_clf__solver=saga \n",
      "[CV]  log_clf__max_iter=200, log_clf__penalty=l2, log_clf__solver=saga, total=   0.0s\n",
      "[CV] log_clf__max_iter=300, log_clf__penalty=l1, log_clf__solver=liblinear \n",
      "[CV]  log_clf__max_iter=300, log_clf__penalty=l1, log_clf__solver=liblinear, total=   0.0s\n",
      "[CV] log_clf__max_iter=300, log_clf__penalty=l1, log_clf__solver=liblinear \n",
      "[CV]  log_clf__max_iter=300, log_clf__penalty=l1, log_clf__solver=liblinear, total=   0.0s\n",
      "[CV] log_clf__max_iter=300, log_clf__penalty=l1, log_clf__solver=liblinear \n",
      "[CV]  log_clf__max_iter=300, log_clf__penalty=l1, log_clf__solver=liblinear, total=   0.0s\n",
      "[CV] log_clf__max_iter=300, log_clf__penalty=l1, log_clf__solver=liblinear \n",
      "[CV]  log_clf__max_iter=300, log_clf__penalty=l1, log_clf__solver=liblinear, total=   0.0s\n",
      "[CV] log_clf__max_iter=300, log_clf__penalty=l1, log_clf__solver=liblinear \n",
      "[CV]  log_clf__max_iter=300, log_clf__penalty=l1, log_clf__solver=liblinear, total=   0.0s\n",
      "[CV] log_clf__max_iter=300, log_clf__penalty=l1, log_clf__solver=saga \n",
      "[CV]  log_clf__max_iter=300, log_clf__penalty=l1, log_clf__solver=saga, total=   0.0s\n",
      "[CV] log_clf__max_iter=300, log_clf__penalty=l1, log_clf__solver=saga \n",
      "[CV]  log_clf__max_iter=300, log_clf__penalty=l1, log_clf__solver=saga, total=   0.0s\n",
      "[CV] log_clf__max_iter=300, log_clf__penalty=l1, log_clf__solver=saga \n",
      "[CV]  log_clf__max_iter=300, log_clf__penalty=l1, log_clf__solver=saga, total=   0.0s\n",
      "[CV] log_clf__max_iter=300, log_clf__penalty=l1, log_clf__solver=saga \n"
     ]
    },
    {
     "name": "stdout",
     "output_type": "stream",
     "text": [
      "[CV]  log_clf__max_iter=300, log_clf__penalty=l1, log_clf__solver=saga, total=   0.0s\n",
      "[CV] log_clf__max_iter=300, log_clf__penalty=l1, log_clf__solver=saga \n",
      "[CV]  log_clf__max_iter=300, log_clf__penalty=l1, log_clf__solver=saga, total=   0.0s\n",
      "[CV] log_clf__max_iter=300, log_clf__penalty=l2, log_clf__solver=liblinear \n",
      "[CV]  log_clf__max_iter=300, log_clf__penalty=l2, log_clf__solver=liblinear, total=   0.0s\n",
      "[CV] log_clf__max_iter=300, log_clf__penalty=l2, log_clf__solver=liblinear \n",
      "[CV]  log_clf__max_iter=300, log_clf__penalty=l2, log_clf__solver=liblinear, total=   0.0s\n",
      "[CV] log_clf__max_iter=300, log_clf__penalty=l2, log_clf__solver=liblinear \n",
      "[CV]  log_clf__max_iter=300, log_clf__penalty=l2, log_clf__solver=liblinear, total=   0.0s\n",
      "[CV] log_clf__max_iter=300, log_clf__penalty=l2, log_clf__solver=liblinear \n",
      "[CV]  log_clf__max_iter=300, log_clf__penalty=l2, log_clf__solver=liblinear, total=   0.0s\n",
      "[CV] log_clf__max_iter=300, log_clf__penalty=l2, log_clf__solver=liblinear \n",
      "[CV]  log_clf__max_iter=300, log_clf__penalty=l2, log_clf__solver=liblinear, total=   0.0s\n",
      "[CV] log_clf__max_iter=300, log_clf__penalty=l2, log_clf__solver=saga \n",
      "[CV]  log_clf__max_iter=300, log_clf__penalty=l2, log_clf__solver=saga, total=   0.0s\n",
      "[CV] log_clf__max_iter=300, log_clf__penalty=l2, log_clf__solver=saga \n",
      "[CV]  log_clf__max_iter=300, log_clf__penalty=l2, log_clf__solver=saga, total=   0.0s\n",
      "[CV] log_clf__max_iter=300, log_clf__penalty=l2, log_clf__solver=saga \n",
      "[CV]  log_clf__max_iter=300, log_clf__penalty=l2, log_clf__solver=saga, total=   0.0s\n",
      "[CV] log_clf__max_iter=300, log_clf__penalty=l2, log_clf__solver=saga \n",
      "[CV]  log_clf__max_iter=300, log_clf__penalty=l2, log_clf__solver=saga, total=   0.0s\n",
      "[CV] log_clf__max_iter=300, log_clf__penalty=l2, log_clf__solver=saga \n",
      "[CV]  log_clf__max_iter=300, log_clf__penalty=l2, log_clf__solver=saga, total=   0.0s\n",
      "[CV] log_clf__max_iter=500, log_clf__penalty=l1, log_clf__solver=liblinear \n",
      "[CV]  log_clf__max_iter=500, log_clf__penalty=l1, log_clf__solver=liblinear, total=   0.0s\n",
      "[CV] log_clf__max_iter=500, log_clf__penalty=l1, log_clf__solver=liblinear \n",
      "[CV]  log_clf__max_iter=500, log_clf__penalty=l1, log_clf__solver=liblinear, total=   0.0s\n",
      "[CV] log_clf__max_iter=500, log_clf__penalty=l1, log_clf__solver=liblinear \n",
      "[CV]  log_clf__max_iter=500, log_clf__penalty=l1, log_clf__solver=liblinear, total=   0.0s\n",
      "[CV] log_clf__max_iter=500, log_clf__penalty=l1, log_clf__solver=liblinear \n",
      "[CV]  log_clf__max_iter=500, log_clf__penalty=l1, log_clf__solver=liblinear, total=   0.0s\n",
      "[CV] log_clf__max_iter=500, log_clf__penalty=l1, log_clf__solver=liblinear \n",
      "[CV]  log_clf__max_iter=500, log_clf__penalty=l1, log_clf__solver=liblinear, total=   0.0s\n",
      "[CV] log_clf__max_iter=500, log_clf__penalty=l1, log_clf__solver=saga \n",
      "[CV]  log_clf__max_iter=500, log_clf__penalty=l1, log_clf__solver=saga, total=   0.0s\n",
      "[CV] log_clf__max_iter=500, log_clf__penalty=l1, log_clf__solver=saga \n",
      "[CV]  log_clf__max_iter=500, log_clf__penalty=l1, log_clf__solver=saga, total=   0.0s\n",
      "[CV] log_clf__max_iter=500, log_clf__penalty=l1, log_clf__solver=saga \n",
      "[CV]  log_clf__max_iter=500, log_clf__penalty=l1, log_clf__solver=saga, total=   0.0s\n",
      "[CV] log_clf__max_iter=500, log_clf__penalty=l1, log_clf__solver=saga \n",
      "[CV]  log_clf__max_iter=500, log_clf__penalty=l1, log_clf__solver=saga, total=   0.0s\n",
      "[CV] log_clf__max_iter=500, log_clf__penalty=l1, log_clf__solver=saga \n",
      "[CV]  log_clf__max_iter=500, log_clf__penalty=l1, log_clf__solver=saga, total=   0.0s\n",
      "[CV] log_clf__max_iter=500, log_clf__penalty=l2, log_clf__solver=liblinear \n",
      "[CV]  log_clf__max_iter=500, log_clf__penalty=l2, log_clf__solver=liblinear, total=   0.0s\n",
      "[CV] log_clf__max_iter=500, log_clf__penalty=l2, log_clf__solver=liblinear \n",
      "[CV]  log_clf__max_iter=500, log_clf__penalty=l2, log_clf__solver=liblinear, total=   0.0s\n",
      "[CV] log_clf__max_iter=500, log_clf__penalty=l2, log_clf__solver=liblinear \n",
      "[CV]  log_clf__max_iter=500, log_clf__penalty=l2, log_clf__solver=liblinear, total=   0.0s\n",
      "[CV] log_clf__max_iter=500, log_clf__penalty=l2, log_clf__solver=liblinear \n",
      "[CV]  log_clf__max_iter=500, log_clf__penalty=l2, log_clf__solver=liblinear, total=   0.0s\n",
      "[CV] log_clf__max_iter=500, log_clf__penalty=l2, log_clf__solver=liblinear \n",
      "[CV]  log_clf__max_iter=500, log_clf__penalty=l2, log_clf__solver=liblinear, total=   0.0s\n",
      "[CV] log_clf__max_iter=500, log_clf__penalty=l2, log_clf__solver=saga \n",
      "[CV]  log_clf__max_iter=500, log_clf__penalty=l2, log_clf__solver=saga, total=   0.0s\n",
      "[CV] log_clf__max_iter=500, log_clf__penalty=l2, log_clf__solver=saga \n",
      "[CV]  log_clf__max_iter=500, log_clf__penalty=l2, log_clf__solver=saga, total=   0.0s\n",
      "[CV] log_clf__max_iter=500, log_clf__penalty=l2, log_clf__solver=saga \n",
      "[CV]  log_clf__max_iter=500, log_clf__penalty=l2, log_clf__solver=saga, total=   0.0s\n",
      "[CV] log_clf__max_iter=500, log_clf__penalty=l2, log_clf__solver=saga \n",
      "[CV]  log_clf__max_iter=500, log_clf__penalty=l2, log_clf__solver=saga, total=   0.0s\n",
      "[CV] log_clf__max_iter=500, log_clf__penalty=l2, log_clf__solver=saga \n",
      "[CV]  log_clf__max_iter=500, log_clf__penalty=l2, log_clf__solver=saga, total=   0.0s\n",
      "[CV] log_clf__max_iter=1000, log_clf__penalty=l1, log_clf__solver=liblinear \n",
      "[CV]  log_clf__max_iter=1000, log_clf__penalty=l1, log_clf__solver=liblinear, total=   0.0s\n",
      "[CV] log_clf__max_iter=1000, log_clf__penalty=l1, log_clf__solver=liblinear \n",
      "[CV]  log_clf__max_iter=1000, log_clf__penalty=l1, log_clf__solver=liblinear, total=   0.0s\n",
      "[CV] log_clf__max_iter=1000, log_clf__penalty=l1, log_clf__solver=liblinear \n",
      "[CV]  log_clf__max_iter=1000, log_clf__penalty=l1, log_clf__solver=liblinear, total=   0.0s\n",
      "[CV] log_clf__max_iter=1000, log_clf__penalty=l1, log_clf__solver=liblinear \n",
      "[CV]  log_clf__max_iter=1000, log_clf__penalty=l1, log_clf__solver=liblinear, total=   0.0s\n",
      "[CV] log_clf__max_iter=1000, log_clf__penalty=l1, log_clf__solver=liblinear \n",
      "[CV]  log_clf__max_iter=1000, log_clf__penalty=l1, log_clf__solver=liblinear, total=   0.0s\n",
      "[CV] log_clf__max_iter=1000, log_clf__penalty=l1, log_clf__solver=saga \n",
      "[CV]  log_clf__max_iter=1000, log_clf__penalty=l1, log_clf__solver=saga, total=   0.0s\n",
      "[CV] log_clf__max_iter=1000, log_clf__penalty=l1, log_clf__solver=saga \n",
      "[CV]  log_clf__max_iter=1000, log_clf__penalty=l1, log_clf__solver=saga, total=   0.0s\n",
      "[CV] log_clf__max_iter=1000, log_clf__penalty=l1, log_clf__solver=saga \n",
      "[CV]  log_clf__max_iter=1000, log_clf__penalty=l1, log_clf__solver=saga, total=   0.0s\n",
      "[CV] log_clf__max_iter=1000, log_clf__penalty=l1, log_clf__solver=saga \n",
      "[CV]  log_clf__max_iter=1000, log_clf__penalty=l1, log_clf__solver=saga, total=   0.0s\n",
      "[CV] log_clf__max_iter=1000, log_clf__penalty=l1, log_clf__solver=saga \n",
      "[CV]  log_clf__max_iter=1000, log_clf__penalty=l1, log_clf__solver=saga, total=   0.0s\n",
      "[CV] log_clf__max_iter=1000, log_clf__penalty=l2, log_clf__solver=liblinear \n",
      "[CV]  log_clf__max_iter=1000, log_clf__penalty=l2, log_clf__solver=liblinear, total=   0.0s\n",
      "[CV] log_clf__max_iter=1000, log_clf__penalty=l2, log_clf__solver=liblinear \n",
      "[CV]  log_clf__max_iter=1000, log_clf__penalty=l2, log_clf__solver=liblinear, total=   0.0s\n",
      "[CV] log_clf__max_iter=1000, log_clf__penalty=l2, log_clf__solver=liblinear \n",
      "[CV]  log_clf__max_iter=1000, log_clf__penalty=l2, log_clf__solver=liblinear, total=   0.0s\n",
      "[CV] log_clf__max_iter=1000, log_clf__penalty=l2, log_clf__solver=liblinear \n",
      "[CV]  log_clf__max_iter=1000, log_clf__penalty=l2, log_clf__solver=liblinear, total=   0.0s\n",
      "[CV] log_clf__max_iter=1000, log_clf__penalty=l2, log_clf__solver=liblinear \n",
      "[CV]  log_clf__max_iter=1000, log_clf__penalty=l2, log_clf__solver=liblinear, total=   0.0s\n",
      "[CV] log_clf__max_iter=1000, log_clf__penalty=l2, log_clf__solver=saga \n",
      "[CV]  log_clf__max_iter=1000, log_clf__penalty=l2, log_clf__solver=saga, total=   0.0s\n",
      "[CV] log_clf__max_iter=1000, log_clf__penalty=l2, log_clf__solver=saga \n",
      "[CV]  log_clf__max_iter=1000, log_clf__penalty=l2, log_clf__solver=saga, total=   0.0s\n",
      "[CV] log_clf__max_iter=1000, log_clf__penalty=l2, log_clf__solver=saga \n",
      "[CV]  log_clf__max_iter=1000, log_clf__penalty=l2, log_clf__solver=saga, total=   0.0s\n",
      "[CV] log_clf__max_iter=1000, log_clf__penalty=l2, log_clf__solver=saga \n",
      "[CV]  log_clf__max_iter=1000, log_clf__penalty=l2, log_clf__solver=saga, total=   0.0s\n",
      "[CV] log_clf__max_iter=1000, log_clf__penalty=l2, log_clf__solver=saga \n",
      "[CV]  log_clf__max_iter=1000, log_clf__penalty=l2, log_clf__solver=saga, total=   0.0s\n"
     ]
    },
    {
     "name": "stderr",
     "output_type": "stream",
     "text": [
      "[Parallel(n_jobs=1)]: Done 140 out of 140 | elapsed:    0.9s finished\n"
     ]
    }
   ],
   "source": [
    "\n",
    "param_grid_log = {\n",
    "               'log_clf__penalty': ['l1', 'l2'],\n",
    "               'log_clf__solver' :['liblinear','saga'],\n",
    "               'log_clf__max_iter': [40,50,100,200,300,500,1000],\n",
    "               \n",
    "               \n",
    "             }\n",
    "\n",
    "gs = GridSearchCV(pipe, \n",
    "                  param_grid_log, \n",
    "                  cv=5,\n",
    "                  verbose = 2\n",
    "                 )\n",
    "log_gs_results = gs.fit(X_train,y_train)"
   ]
  },
  {
   "cell_type": "code",
   "execution_count": 31,
   "id": "99eefd41",
   "metadata": {
    "ExecuteTime": {
     "end_time": "2021-09-15T19:51:20.011795Z",
     "start_time": "2021-09-15T19:51:20.009332Z"
    }
   },
   "outputs": [
    {
     "data": {
      "text/plain": [
       "0.49792706105963414"
      ]
     },
     "execution_count": 31,
     "metadata": {},
     "output_type": "execute_result"
    }
   ],
   "source": [
    "log_gs_results.best_score_"
   ]
  },
  {
   "cell_type": "code",
   "execution_count": 32,
   "id": "94f519ac",
   "metadata": {
    "ExecuteTime": {
     "end_time": "2021-09-15T19:51:20.022820Z",
     "start_time": "2021-09-15T19:51:20.012929Z"
    }
   },
   "outputs": [
    {
     "name": "stdout",
     "output_type": "stream",
     "text": [
      "              precision    recall  f1-score   support\n",
      "\n",
      "           0       0.51      0.87      0.64       197\n",
      "           1       0.54      0.15      0.23       197\n",
      "\n",
      "    accuracy                           0.51       394\n",
      "   macro avg       0.52      0.51      0.44       394\n",
      "weighted avg       0.52      0.51      0.44       394\n",
      "\n"
     ]
    }
   ],
   "source": [
    "## Naive Bayes\n",
    "from sklearn.naive_bayes import GaussianNB\n",
    "NB_clf=Pipeline([('sd', StandardScaler()),('NB_clf', GaussianNB())])\n",
    "\n",
    "NB_clf.fit(X_train, y_train)\n",
    "\n",
    "nb_preds = NB_clf.predict(X_test)\n",
    "\n",
    "\n",
    "print(classification_report(y_test,nb_preds))"
   ]
  },
  {
   "cell_type": "code",
   "execution_count": 33,
   "id": "a91d2902",
   "metadata": {
    "ExecuteTime": {
     "end_time": "2021-09-15T19:51:20.219711Z",
     "start_time": "2021-09-15T19:51:20.023932Z"
    }
   },
   "outputs": [
    {
     "name": "stdout",
     "output_type": "stream",
     "text": [
      "Train Scores\n",
      "log loss:  15.99023087327887\n",
      "accuracy:  0.5370370370370371\n",
      "precision: 0.5806451612903226\n",
      "recall:    0.2\n",
      "Test Scores\n",
      "log loss:  16.918791457242428\n",
      "accuracy:  0.5101522842639594\n",
      "precision: 0.5370370370370371\n",
      "recall:    0.14720812182741116\n"
     ]
    },
    {
     "data": {
      "image/png": "[encoded data removed]",
      "text/plain": [
       "<Figure size 432x288 with 2 Axes>"
      ]
     },
     "metadata": {
      "needs_background": "light"
     },
     "output_type": "display_data"
    },
    {
     "data": {
      "image/png": "[encoded data removed]",
      "text/plain": [
       "<Figure size 432x288 with 2 Axes>"
      ]
     },
     "metadata": {
      "needs_background": "light"
     },
     "output_type": "display_data"
    }
   ],
   "source": [
    "scores_news(NB_clf, y_test)"
   ]
  },
  {
   "cell_type": "code",
   "execution_count": 34,
   "id": "acb88abd",
   "metadata": {
    "ExecuteTime": {
     "end_time": "2021-09-15T19:51:20.245244Z",
     "start_time": "2021-09-15T19:51:20.220968Z"
    }
   },
   "outputs": [],
   "source": [
    "## a few more models\n",
    "from sklearn.ensemble import GradientBoostingClassifier\n",
    "from xgboost import XGBClassifier\n",
    "\n",
    "## Initial the pipelines for new models\n",
    "XGB_clf=Pipeline([('sd', StandardScaler()),('XGB_clf', XGBClassifier(random_state=42, objective='binary:logistic', alpha=2))])\n",
    "GB_clf=Pipeline([('sd', StandardScaler()),('GB_clf', GradientBoostingClassifier(random_state=42))])\n",
    "\n"
   ]
  },
  {
   "cell_type": "code",
   "execution_count": 35,
   "id": "511f6d6e",
   "metadata": {
    "ExecuteTime": {
     "end_time": "2021-09-15T19:51:23.509908Z",
     "start_time": "2021-09-15T19:51:20.246186Z"
    }
   },
   "outputs": [],
   "source": [
    "#Random Forest\n",
    "\n",
    "pipe_RF.fit(X_train, y_train)\n",
    "rf_preds_news= pipe_RF.predict(X_test)\n",
    "\n",
    "# XGBoost\n",
    "XGB_clf.fit(X_train, y_train)\n",
    "XGB_preds_news= XGB_clf.predict(X_test)\n",
    "\n",
    "# Gradient Boost\n",
    "GB_clf.fit(X_train, y_train)\n",
    "GB_preds_news= GB_clf.predict(X_test)"
   ]
  },
  {
   "cell_type": "code",
   "execution_count": 36,
   "id": "5be46294",
   "metadata": {
    "ExecuteTime": {
     "end_time": "2021-09-15T19:51:24.172155Z",
     "start_time": "2021-09-15T19:51:23.510972Z"
    }
   },
   "outputs": [
    {
     "name": "stdout",
     "output_type": "stream",
     "text": [
      "Train Scores\n",
      "log loss:  9.992007221626413e-16\n",
      "accuracy:  1.0\n",
      "precision: 1.0\n",
      "recall:    1.0\n",
      "Test Scores\n",
      "log loss:  17.181919124767415\n",
      "accuracy:  0.5025380710659898\n",
      "precision: 0.5026178010471204\n",
      "recall:    0.4873096446700508\n"
     ]
    },
    {
     "data": {
      "image/png": "[encoded data removed]",
      "text/plain": [
       "<Figure size 432x288 with 2 Axes>"
      ]
     },
     "metadata": {
      "needs_background": "light"
     },
     "output_type": "display_data"
    },
    {
     "data": {
      "image/png": "[encoded data removed]",
      "text/plain": [
       "<Figure size 432x288 with 2 Axes>"
      ]
     },
     "metadata": {
      "needs_background": "light"
     },
     "output_type": "display_data"
    }
   ],
   "source": [
    "scores_news(pipe_RF, y_test)"
   ]
  },
  {
   "cell_type": "code",
   "execution_count": 37,
   "id": "8c2813fd",
   "metadata": {
    "ExecuteTime": {
     "end_time": "2021-09-15T19:51:24.415275Z",
     "start_time": "2021-09-15T19:51:24.173546Z"
    }
   },
   "outputs": [
    {
     "name": "stdout",
     "output_type": "stream",
     "text": [
      "Train Scores\n",
      "log loss:  9.992007221626413e-16\n",
      "accuracy:  1.0\n",
      "precision: 1.0\n",
      "recall:    1.0\n",
      "Test Scores\n",
      "log loss:  16.042304680297896\n",
      "accuracy:  0.5355329949238579\n",
      "precision: 0.5360824742268041\n",
      "recall:    0.5279187817258884\n"
     ]
    },
    {
     "data": {
      "image/png": "[encoded data removed]",
      "text/plain": [
       "<Figure size 432x288 with 2 Axes>"
      ]
     },
     "metadata": {
      "needs_background": "light"
     },
     "output_type": "display_data"
    },
    {
     "data": {
      "image/png": "[encoded data removed]",
      "text/plain": [
       "<Figure size 432x288 with 2 Axes>"
      ]
     },
     "metadata": {
      "needs_background": "light"
     },
     "output_type": "display_data"
    }
   ],
   "source": [
    "scores_news(XGB_clf, y_test)"
   ]
  },
  {
   "cell_type": "code",
   "execution_count": 38,
   "id": "de899563",
   "metadata": {
    "ExecuteTime": {
     "end_time": "2021-09-15T19:51:24.604954Z",
     "start_time": "2021-09-15T19:51:24.416302Z"
    }
   },
   "outputs": [
    {
     "name": "stdout",
     "output_type": "stream",
     "text": [
      "Train Scores\n",
      "log loss:  3.2356910185917607\n",
      "accuracy:  0.906318082788671\n",
      "precision: 0.9155251141552512\n",
      "recall:    0.8911111111111111\n",
      "Test Scores\n",
      "log loss:  14.639704628760533\n",
      "accuracy:  0.5761421319796954\n",
      "precision: 0.575\n",
      "recall:    0.583756345177665\n"
     ]
    },
    {
     "data": {
      "image/png": "[encoded data removed]",
      "text/plain": [
       "<Figure size 432x288 with 2 Axes>"
      ]
     },
     "metadata": {
      "needs_background": "light"
     },
     "output_type": "display_data"
    },
    {
     "data": {
      "image/png": "[encoded data removed]",
      "text/plain": [
       "<Figure size 432x288 with 2 Axes>"
      ]
     },
     "metadata": {
      "needs_background": "light"
     },
     "output_type": "display_data"
    }
   ],
   "source": [
    "scores_news(GB_clf, y_test)"
   ]
  },
  {
   "cell_type": "markdown",
   "id": "2846d83e",
   "metadata": {},
   "source": [
    "## Feature Importances and drop some features"
   ]
  },
  {
   "cell_type": "code",
   "execution_count": 39,
   "id": "e3a93634",
   "metadata": {
    "ExecuteTime": {
     "end_time": "2021-09-15T19:51:24.608632Z",
     "start_time": "2021-09-15T19:51:24.606216Z"
    }
   },
   "outputs": [],
   "source": [
    "# Lets drop some features from the model to make it better for news paper\n",
    "def plot_feature_importance_news(model):\n",
    "    name=model.steps[1][0]\n",
    "    X_var=model.steps[1][1].feature_importances_\n",
    "    y_var=X_train.columns\n",
    "    sns.barplot(x=X_var, y= y_var)\n",
    "    plt.title(\"News Feature Importance %s\" %name)"
   ]
  },
  {
   "cell_type": "code",
   "execution_count": 40,
   "id": "14a83be2",
   "metadata": {
    "ExecuteTime": {
     "end_time": "2021-09-15T19:51:25.014678Z",
     "start_time": "2021-09-15T19:51:24.609909Z"
    }
   },
   "outputs": [
    {
     "data": {
      "image/png": "[encoded data removed]",
      "text/plain": [
       "<Figure size 432x288 with 1 Axes>"
      ]
     },
     "metadata": {
      "needs_background": "light"
     },
     "output_type": "display_data"
    },
    {
     "data": {
      "image/png": "[encoded data removed]",
      "text/plain": [
       "<Figure size 432x288 with 1 Axes>"
      ]
     },
     "metadata": {
      "needs_background": "light"
     },
     "output_type": "display_data"
    },
    {
     "data": {
      "image/png": "[encoded data removed]",
      "text/plain": [
       "<Figure size 432x288 with 1 Axes>"
      ]
     },
     "metadata": {
      "needs_background": "light"
     },
     "output_type": "display_data"
    }
   ],
   "source": [
    "## Lets pick 5 features out of these\n",
    "\n",
    "models= [pipe_RF, XGB_clf, GB_clf]\n",
    "\n",
    "# \n",
    "for model in models:    \n",
    "    plot_feature_importance_news(model)\n",
    "    plt.show()"
   ]
  },
  {
   "cell_type": "code",
   "execution_count": 41,
   "id": "eed0fee6",
   "metadata": {
    "ExecuteTime": {
     "end_time": "2021-09-15T19:51:25.020679Z",
     "start_time": "2021-09-15T19:51:25.015848Z"
    }
   },
   "outputs": [],
   "source": [
    "## I have selected the 5 features that seems to overlap and be most important from the graphs above\n",
    "\n",
    "select_features_news=['RSI','Vader_neg','Vader_compound', 'TextBlob_article_subjectivity', 'TextBlob_article_polarity']\n",
    "X1=df_TSLA_Senti[select_features_news]\n",
    "y1=df_TSLA_Senti['Green']\n",
    "X_train_news_f, X_test_news_f, y_train_news_f, y_test_news_f = train_test_split(X1, y1, test_size = 0.3, random_state=42)"
   ]
  },
  {
   "cell_type": "code",
   "execution_count": 42,
   "id": "ddfb58ee",
   "metadata": {
    "ExecuteTime": {
     "end_time": "2021-09-15T19:51:25.026210Z",
     "start_time": "2021-09-15T19:51:25.022413Z"
    }
   },
   "outputs": [],
   "source": [
    "### reinitiate this for the new trains\n",
    "\n",
    "def scores_news(model, actual = y_test_news_f  ,X_train_scaled = X_train_news_f, X_test_scaled = X_test_news_f ,y_train = y_train_news_f):\n",
    "    pred_train = model.predict(X_train_scaled)\n",
    "    pred_test = model.predict(X_test_scaled)\n",
    "    \n",
    "    print(\"Train Scores\")\n",
    "    print(\"log loss: \", log_loss(y_train, pred_train))\n",
    "    print(\"accuracy: \", accuracy_score(y_train, pred_train))\n",
    "    print(\"precision:\", precision_score(y_train, pred_train))\n",
    "    print(\"recall:   \", recall_score(y_train, pred_train))\n",
    "    plot_confusion_matrix(model, X_train_scaled, y_train)\n",
    "    \n",
    "    print(\"Test Scores\")\n",
    "    print(\"log loss: \", log_loss(actual, pred_test))\n",
    "    print(\"accuracy: \", accuracy_score(actual, pred_test))\n",
    "    print(\"precision:\", precision_score(actual, pred_test))\n",
    "    print(\"recall:   \", recall_score(actual, pred_test))\n",
    "    \n",
    "    \n",
    "    plot_confusion_matrix(model, X_test_scaled, actual)"
   ]
  },
  {
   "cell_type": "code",
   "execution_count": 43,
   "id": "458f950f",
   "metadata": {
    "ExecuteTime": {
     "end_time": "2021-09-15T19:51:27.779701Z",
     "start_time": "2021-09-15T19:51:25.027292Z"
    }
   },
   "outputs": [],
   "source": [
    "## RUN all the models\n",
    "\n",
    "## LOG\n",
    "\n",
    "pipe.fit(X_train_news_f, y_train_news_f)\n",
    "log_preds_news=pipe.predict(X_test_news_f)\n",
    "\n",
    "# NAive Bayes\n",
    "NB_clf.fit(X_train_news_f, y_train_news_f)\n",
    "nb_preds = NB_clf.predict(X_test_news_f)\n",
    "\n",
    "#Random Forest\n",
    "\n",
    "pipe_RF.fit(X_train_news_f, y_train_news_f)\n",
    "rf_preds_news= pipe_RF.predict(X_test_news_f)\n",
    "\n",
    "# XGBoost\n",
    "XGB_clf.fit(X_train_news_f, y_train_news_f)\n",
    "XGB_preds_news= XGB_clf.predict(X_test_news_f)\n",
    "\n",
    "# Gradient Boost\n",
    "GB_clf.fit(X_train_news_f, y_train_news_f)\n",
    "GB_preds_news= GB_clf.predict(X_test_news_f)"
   ]
  },
  {
   "cell_type": "markdown",
   "id": "25d86e8c",
   "metadata": {},
   "source": [
    "## News Scores"
   ]
  },
  {
   "cell_type": "code",
   "execution_count": 44,
   "id": "9601527f",
   "metadata": {
    "ExecuteTime": {
     "end_time": "2021-09-15T19:51:27.972093Z",
     "start_time": "2021-09-15T19:51:27.780712Z"
    }
   },
   "outputs": [
    {
     "name": "stdout",
     "output_type": "stream",
     "text": [
      "Train Scores\n",
      "log loss:  16.291279005078703\n",
      "accuracy:  0.528322440087146\n",
      "precision: 0.5306859205776173\n",
      "recall:    0.32666666666666666\n",
      "Test Scores\n",
      "log loss:  17.35715559710326\n",
      "accuracy:  0.49746192893401014\n",
      "precision: 0.49514563106796117\n",
      "recall:    0.25888324873096447\n",
      "\n",
      "\n",
      "              precision    recall  f1-score   support\n",
      "\n",
      "           0       0.50      0.74      0.59       197\n",
      "           1       0.50      0.26      0.34       197\n",
      "\n",
      "    accuracy                           0.50       394\n",
      "   macro avg       0.50      0.50      0.47       394\n",
      "weighted avg       0.50      0.50      0.47       394\n",
      "\n"
     ]
    },
    {
     "data": {
      "image/png": "[encoded data removed]",
      "text/plain": [
       "<Figure size 432x288 with 2 Axes>"
      ]
     },
     "metadata": {
      "needs_background": "light"
     },
     "output_type": "display_data"
    },
    {
     "data": {
      "image/png": "[encoded data removed]",
      "text/plain": [
       "<Figure size 432x288 with 2 Axes>"
      ]
     },
     "metadata": {
      "needs_background": "light"
     },
     "output_type": "display_data"
    }
   ],
   "source": [
    "scores_news(pipe, y_test_news_f)\n",
    "print('\\n')\n",
    "print(classification_report(y_test_news_f,log_preds_news))"
   ]
  },
  {
   "cell_type": "code",
   "execution_count": 45,
   "id": "86e94bfd",
   "metadata": {
    "ExecuteTime": {
     "end_time": "2021-09-15T19:51:28.224990Z",
     "start_time": "2021-09-15T19:51:27.973236Z"
    }
   },
   "outputs": [
    {
     "name": "stdout",
     "output_type": "stream",
     "text": [
      "Train Scores\n",
      "log loss:  16.366443265902802\n",
      "accuracy:  0.5261437908496732\n",
      "precision: 0.5903614457831325\n",
      "recall:    0.10888888888888888\n",
      "Test Scores\n",
      "log loss:  17.444746435897308\n",
      "accuracy:  0.4949238578680203\n",
      "precision: 0.46875\n",
      "recall:    0.07614213197969544\n",
      "\n",
      "\n",
      "              precision    recall  f1-score   support\n",
      "\n",
      "           0       0.50      0.91      0.64       197\n",
      "           1       0.47      0.08      0.13       197\n",
      "\n",
      "    accuracy                           0.49       394\n",
      "   macro avg       0.48      0.49      0.39       394\n",
      "weighted avg       0.48      0.49      0.39       394\n",
      "\n"
     ]
    },
    {
     "data": {
      "image/png": "[encoded data removed]",
      "text/plain": [
       "<Figure size 432x288 with 2 Axes>"
      ]
     },
     "metadata": {
      "needs_background": "light"
     },
     "output_type": "display_data"
    },
    {
     "data": {
      "image/png": "[encoded data removed]",
      "text/plain": [
       "<Figure size 432x288 with 2 Axes>"
      ]
     },
     "metadata": {
      "needs_background": "light"
     },
     "output_type": "display_data"
    }
   ],
   "source": [
    "scores_news(NB_clf, y_test_news_f)\n",
    "print('\\n')\n",
    "print(classification_report(y_test_news_f,nb_preds))"
   ]
  },
  {
   "cell_type": "code",
   "execution_count": 46,
   "id": "a41cf303",
   "metadata": {
    "ExecuteTime": {
     "end_time": "2021-09-15T19:51:28.896494Z",
     "start_time": "2021-09-15T19:51:28.226123Z"
    }
   },
   "outputs": [
    {
     "name": "stdout",
     "output_type": "stream",
     "text": [
      "Train Scores\n",
      "log loss:  9.992007221626413e-16\n",
      "accuracy:  1.0\n",
      "precision: 1.0\n",
      "recall:    1.0\n",
      "Test Scores\n",
      "log loss:  16.655925586845598\n",
      "accuracy:  0.5177664974619289\n",
      "precision: 0.52\n",
      "recall:    0.4619289340101523\n",
      "\n",
      "\n",
      "              precision    recall  f1-score   support\n",
      "\n",
      "           0       0.52      0.57      0.54       197\n",
      "           1       0.52      0.46      0.49       197\n",
      "\n",
      "    accuracy                           0.52       394\n",
      "   macro avg       0.52      0.52      0.52       394\n",
      "weighted avg       0.52      0.52      0.52       394\n",
      "\n"
     ]
    },
    {
     "data": {
      "image/png": "[encoded data removed]",
      "text/plain": [
       "<Figure size 432x288 with 2 Axes>"
      ]
     },
     "metadata": {
      "needs_background": "light"
     },
     "output_type": "display_data"
    },
    {
     "data": {
      "image/png": "[encoded data removed]",
      "text/plain": [
       "<Figure size 432x288 with 2 Axes>"
      ]
     },
     "metadata": {
      "needs_background": "light"
     },
     "output_type": "display_data"
    }
   ],
   "source": [
    "## Overfit\n",
    "scores_news(pipe_RF, y_test_news_f)\n",
    "print('\\n')\n",
    "print(classification_report(y_test_news_f,rf_preds_news))"
   ]
  },
  {
   "cell_type": "code",
   "execution_count": 47,
   "id": "08447097",
   "metadata": {
    "ExecuteTime": {
     "end_time": "2021-09-15T19:51:29.098940Z",
     "start_time": "2021-09-15T19:51:28.897782Z"
    }
   },
   "outputs": [
    {
     "name": "stdout",
     "output_type": "stream",
     "text": [
      "Train Scores\n",
      "log loss:  0.5267412491402633\n",
      "accuracy:  0.9847494553376906\n",
      "precision: 0.9844444444444445\n",
      "recall:    0.9844444444444445\n",
      "Test Scores\n",
      "log loss:  17.444894584659757\n",
      "accuracy:  0.4949238578680203\n",
      "precision: 0.4943820224719101\n",
      "recall:    0.4467005076142132\n",
      "\n",
      "\n",
      "              precision    recall  f1-score   support\n",
      "\n",
      "           0       0.50      0.54      0.52       197\n",
      "           1       0.49      0.45      0.47       197\n",
      "\n",
      "    accuracy                           0.49       394\n",
      "   macro avg       0.49      0.49      0.49       394\n",
      "weighted avg       0.49      0.49      0.49       394\n",
      "\n"
     ]
    },
    {
     "data": {
      "image/png": "[encoded data removed]",
      "text/plain": [
       "<Figure size 432x288 with 2 Axes>"
      ]
     },
     "metadata": {
      "needs_background": "light"
     },
     "output_type": "display_data"
    },
    {
     "data": {
      "image/png": "[encoded data removed]",
      "text/plain": [
       "<Figure size 432x288 with 2 Axes>"
      ]
     },
     "metadata": {
      "needs_background": "light"
     },
     "output_type": "display_data"
    }
   ],
   "source": [
    "# OVerfit\n",
    "scores_news(XGB_clf, y_test_news_f)\n",
    "print('\\n')\n",
    "print(classification_report(y_test_news_f, XGB_preds_news))"
   ]
  },
  {
   "cell_type": "code",
   "execution_count": 48,
   "id": "3ae2d1db",
   "metadata": {
    "ExecuteTime": {
     "end_time": "2021-09-15T19:51:29.103279Z",
     "start_time": "2021-09-15T19:51:29.100506Z"
    }
   },
   "outputs": [],
   "source": [
    "from sklearn import svm \n",
    "from sklearn.preprocessing import PolynomialFeatures\n",
    "from sklearn.svm import LinearSVC"
   ]
  },
  {
   "cell_type": "code",
   "execution_count": 49,
   "id": "a5ce1ca1",
   "metadata": {
    "ExecuteTime": {
     "end_time": "2021-09-15T19:51:29.732542Z",
     "start_time": "2021-09-15T19:51:29.105144Z"
    }
   },
   "outputs": [],
   "source": [
    "poly_svm_clf= Pipeline([('poly_features', PolynomialFeatures(degree=3)),\n",
    "                        ('sd', StandardScaler()),\n",
    "                        ('svm_clf', LinearSVC(C=5, loss='hinge',max_iter=1000000))])\n",
    "poly_svm_clf.fit(X_train_news_f, y_train_news_f)\n",
    "\n",
    "svm_preds_news = poly_svm_clf.predict(X_test_news_f)"
   ]
  },
  {
   "cell_type": "code",
   "execution_count": 50,
   "id": "1a198e8a",
   "metadata": {
    "ExecuteTime": {
     "end_time": "2021-09-15T19:51:29.932965Z",
     "start_time": "2021-09-15T19:51:29.733529Z"
    }
   },
   "outputs": [
    {
     "name": "stdout",
     "output_type": "stream",
     "text": [
      "Train Scores\n",
      "log loss:  14.598229603495682\n",
      "accuracy:  0.5773420479302832\n",
      "precision: 0.5803108808290155\n",
      "recall:    0.49777777777777776\n",
      "Test Scores\n",
      "log loss:  17.532536159331347\n",
      "accuracy:  0.49238578680203043\n",
      "precision: 0.49044585987261147\n",
      "recall:    0.39086294416243655\n",
      "\n",
      "\n",
      "              precision    recall  f1-score   support\n",
      "\n",
      "           0       0.49      0.59      0.54       197\n",
      "           1       0.49      0.39      0.44       197\n",
      "\n",
      "    accuracy                           0.49       394\n",
      "   macro avg       0.49      0.49      0.49       394\n",
      "weighted avg       0.49      0.49      0.49       394\n",
      "\n"
     ]
    },
    {
     "data": {
      "image/png": "[encoded data removed]",
      "text/plain": [
       "<Figure size 432x288 with 2 Axes>"
      ]
     },
     "metadata": {
      "needs_background": "light"
     },
     "output_type": "display_data"
    },
    {
     "data": {
      "image/png": "[encoded data removed]",
      "text/plain": [
       "<Figure size 432x288 with 2 Axes>"
      ]
     },
     "metadata": {
      "needs_background": "light"
     },
     "output_type": "display_data"
    }
   ],
   "source": [
    "scores_news(poly_svm_clf, y_test_news_f)\n",
    "print('\\n')\n",
    "print(classification_report(y_test_news_f, svm_preds_news))"
   ]
  },
  {
   "cell_type": "markdown",
   "id": "e7cf6e8f",
   "metadata": {},
   "source": [
    "## Elon Musk Tweets"
   ]
  },
  {
   "cell_type": "code",
   "execution_count": 51,
   "id": "91ecccce",
   "metadata": {
    "ExecuteTime": {
     "end_time": "2021-09-15T19:51:29.995601Z",
     "start_time": "2021-09-15T19:51:29.934082Z"
    }
   },
   "outputs": [
    {
     "data": {
      "text/plain": [
       "Index(['id', 'conversation_id', 'created_at', 'date', 'time', 'timezone',\n",
       "       'user_id', 'username', 'name', 'place', 'tweet', 'mentions', 'urls',\n",
       "       'photos', 'replies_count', 'retweets_count', 'likes_count', 'hashtags',\n",
       "       'cashtags', 'link', 'retweet', 'quote_url', 'video', 'near', 'geo',\n",
       "       'source', 'user_rt_id', 'user_rt', 'retweet_id', 'reply_to',\n",
       "       'retweet_date', 'translate', 'trans_src', 'trans_dest'],\n",
       "      dtype='object')"
      ]
     },
     "execution_count": 51,
     "metadata": {},
     "output_type": "execute_result"
    }
   ],
   "source": [
    "tesla_tweets = pd.read_csv('elonmusk.csv')\n",
    "\n",
    "tesla_tweets.columns"
   ]
  },
  {
   "cell_type": "code",
   "execution_count": 52,
   "id": "4fc06f25",
   "metadata": {
    "ExecuteTime": {
     "end_time": "2021-09-15T19:51:30.006145Z",
     "start_time": "2021-09-15T19:51:29.996767Z"
    }
   },
   "outputs": [
    {
     "data": {
      "text/html": [
       "<div>\n",
       "<style scoped>\n",
       "    .dataframe tbody tr th:only-of-type {\n",
       "        vertical-align: middle;\n",
       "    }\n",
       "\n",
       "    .dataframe tbody tr th {\n",
       "        vertical-align: top;\n",
       "    }\n",
       "\n",
       "    .dataframe thead th {\n",
       "        text-align: right;\n",
       "    }\n",
       "</style>\n",
       "<table border=\"1\" class=\"dataframe\">\n",
       "  <thead>\n",
       "    <tr style=\"text-align: right;\">\n",
       "      <th></th>\n",
       "      <th>date</th>\n",
       "      <th>tweet</th>\n",
       "      <th>retweets_count</th>\n",
       "      <th>likes_count</th>\n",
       "    </tr>\n",
       "  </thead>\n",
       "  <tbody>\n",
       "    <tr>\n",
       "      <th>0</th>\n",
       "      <td>2020-07-14</td>\n",
       "      <td>Cute</td>\n",
       "      <td>176</td>\n",
       "      <td>7883</td>\n",
       "    </tr>\n",
       "    <tr>\n",
       "      <th>1</th>\n",
       "      <td>2020-07-14</td>\n",
       "      <td>Wow</td>\n",
       "      <td>180</td>\n",
       "      <td>4241</td>\n",
       "    </tr>\n",
       "    <tr>\n",
       "      <th>2</th>\n",
       "      <td>2020-07-13</td>\n",
       "      <td>Reusability is essential. A rocket that is sin...</td>\n",
       "      <td>126</td>\n",
       "      <td>1551</td>\n",
       "    </tr>\n",
       "    <tr>\n",
       "      <th>3</th>\n",
       "      <td>2020-07-13</td>\n",
       "      <td>Wild times!</td>\n",
       "      <td>415</td>\n",
       "      <td>13421</td>\n",
       "    </tr>\n",
       "    <tr>\n",
       "      <th>4</th>\n",
       "      <td>2020-07-13</td>\n",
       "      <td>We’re being extra paranoid. Maximizing probabi...</td>\n",
       "      <td>155</td>\n",
       "      <td>4238</td>\n",
       "    </tr>\n",
       "    <tr>\n",
       "      <th>...</th>\n",
       "      <td>...</td>\n",
       "      <td>...</td>\n",
       "      <td>...</td>\n",
       "      <td>...</td>\n",
       "    </tr>\n",
       "    <tr>\n",
       "      <th>9281</th>\n",
       "      <td>2015-02-08</td>\n",
       "      <td>Prob good though. Will give us time to replace...</td>\n",
       "      <td>452</td>\n",
       "      <td>940</td>\n",
       "    </tr>\n",
       "    <tr>\n",
       "      <th>9282</th>\n",
       "      <td>2015-02-08</td>\n",
       "      <td>Air Force tracking radar went down. Launch pos...</td>\n",
       "      <td>1479</td>\n",
       "      <td>1147</td>\n",
       "    </tr>\n",
       "    <tr>\n",
       "      <th>9283</th>\n",
       "      <td>2015-02-08</td>\n",
       "      <td>Rocket reentry will be much tougher this time ...</td>\n",
       "      <td>1154</td>\n",
       "      <td>2176</td>\n",
       "    </tr>\n",
       "    <tr>\n",
       "      <th>9284</th>\n",
       "      <td>2015-02-08</td>\n",
       "      <td>Launching our 1st deep space mission today. He...</td>\n",
       "      <td>3026</td>\n",
       "      <td>4198</td>\n",
       "    </tr>\n",
       "    <tr>\n",
       "      <th>9285</th>\n",
       "      <td>2015-01-30</td>\n",
       "      <td>If you are curious about the P85D, you can sch...</td>\n",
       "      <td>462</td>\n",
       "      <td>796</td>\n",
       "    </tr>\n",
       "  </tbody>\n",
       "</table>\n",
       "<p>9286 rows × 4 columns</p>\n",
       "</div>"
      ],
      "text/plain": [
       "            date                                              tweet  \\\n",
       "0     2020-07-14                                               Cute   \n",
       "1     2020-07-14                                                Wow   \n",
       "2     2020-07-13  Reusability is essential. A rocket that is sin...   \n",
       "3     2020-07-13                                        Wild times!   \n",
       "4     2020-07-13  We’re being extra paranoid. Maximizing probabi...   \n",
       "...          ...                                                ...   \n",
       "9281  2015-02-08  Prob good though. Will give us time to replace...   \n",
       "9282  2015-02-08  Air Force tracking radar went down. Launch pos...   \n",
       "9283  2015-02-08  Rocket reentry will be much tougher this time ...   \n",
       "9284  2015-02-08  Launching our 1st deep space mission today. He...   \n",
       "9285  2015-01-30  If you are curious about the P85D, you can sch...   \n",
       "\n",
       "      retweets_count  likes_count  \n",
       "0                176         7883  \n",
       "1                180         4241  \n",
       "2                126         1551  \n",
       "3                415        13421  \n",
       "4                155         4238  \n",
       "...              ...          ...  \n",
       "9281             452          940  \n",
       "9282            1479         1147  \n",
       "9283            1154         2176  \n",
       "9284            3026         4198  \n",
       "9285             462          796  \n",
       "\n",
       "[9286 rows x 4 columns]"
      ]
     },
     "execution_count": 52,
     "metadata": {},
     "output_type": "execute_result"
    }
   ],
   "source": [
    "#clean the data set, let's get rid of everything besides date, tweet, replies_count, retweets_count, likes_count, \n",
    "\n",
    "tesla_tweets.drop(['id', 'conversation_id', 'created_at', 'time', 'timezone',\n",
    "       'user_id', 'username', 'name', 'place', 'mentions', 'urls',\n",
    "       'photos', 'replies_count',  'hashtags',\n",
    "       'cashtags', 'link', 'retweet', 'quote_url', 'video', 'near', 'geo',\n",
    "       'source', 'user_rt_id', 'user_rt', 'retweet_id', 'reply_to',\n",
    "       'retweet_date', 'translate', 'trans_src', 'trans_dest'],1, inplace=True)\n",
    "tesla_tweets"
   ]
  },
  {
   "cell_type": "code",
   "execution_count": 53,
   "id": "417e9242",
   "metadata": {
    "ExecuteTime": {
     "end_time": "2021-09-15T19:51:30.013645Z",
     "start_time": "2021-09-15T19:51:30.007846Z"
    }
   },
   "outputs": [
    {
     "name": "stdout",
     "output_type": "stream",
     "text": [
      "<class 'pandas.core.frame.DataFrame'>\n",
      "RangeIndex: 9286 entries, 0 to 9285\n",
      "Data columns (total 4 columns):\n",
      " #   Column          Non-Null Count  Dtype \n",
      "---  ------          --------------  ----- \n",
      " 0   date            9286 non-null   object\n",
      " 1   tweet           9286 non-null   object\n",
      " 2   retweets_count  9286 non-null   int64 \n",
      " 3   likes_count     9286 non-null   int64 \n",
      "dtypes: int64(2), object(2)\n",
      "memory usage: 290.3+ KB\n"
     ]
    }
   ],
   "source": [
    "tesla_tweets.info()"
   ]
  },
  {
   "cell_type": "code",
   "execution_count": 54,
   "id": "e104c7d0",
   "metadata": {
    "ExecuteTime": {
     "end_time": "2021-09-15T19:51:34.022073Z",
     "start_time": "2021-09-15T19:51:30.015060Z"
    }
   },
   "outputs": [],
   "source": [
    "# lets update these tweets with the VADER polaroty scores\n",
    "SI= SentimentIntensityAnalyzer()\n",
    "scores = []\n",
    "# Declare variables for scores\n",
    "compound_list = []\n",
    "positive_list = []\n",
    "negative_list = []\n",
    "neutral_list = []\n",
    "for i in range(tesla_tweets['tweet'].shape[0]):\n",
    "#print(analyser.polarity_scores(sentiments_pd['text'][i]))\n",
    "    compound = SI.polarity_scores(tesla_tweets['tweet'][i])[\"compound\"]\n",
    "    pos = SI.polarity_scores(tesla_tweets['tweet'][i])[\"pos\"]\n",
    "    neu = SI.polarity_scores(tesla_tweets['tweet'][i])[\"neu\"]\n",
    "    neg = SI.polarity_scores(tesla_tweets['tweet'][i])[\"neg\"]\n",
    "    \n",
    "    scores.append({\"Compound\": compound,\n",
    "                       \"Positive\": pos,\n",
    "                       \"Negative\": neg,\n",
    "                       \"Neutral\": neu\n",
    "                  })\n"
   ]
  },
  {
   "cell_type": "code",
   "execution_count": 55,
   "id": "5563fc7d",
   "metadata": {
    "ExecuteTime": {
     "end_time": "2021-09-15T19:51:34.044162Z",
     "start_time": "2021-09-15T19:51:34.023319Z"
    }
   },
   "outputs": [
    {
     "data": {
      "text/html": [
       "<div>\n",
       "<style scoped>\n",
       "    .dataframe tbody tr th:only-of-type {\n",
       "        vertical-align: middle;\n",
       "    }\n",
       "\n",
       "    .dataframe tbody tr th {\n",
       "        vertical-align: top;\n",
       "    }\n",
       "\n",
       "    .dataframe thead th {\n",
       "        text-align: right;\n",
       "    }\n",
       "</style>\n",
       "<table border=\"1\" class=\"dataframe\">\n",
       "  <thead>\n",
       "    <tr style=\"text-align: right;\">\n",
       "      <th></th>\n",
       "      <th>date</th>\n",
       "      <th>tweet</th>\n",
       "      <th>retweets_count</th>\n",
       "      <th>likes_count</th>\n",
       "      <th>sentiment</th>\n",
       "    </tr>\n",
       "  </thead>\n",
       "  <tbody>\n",
       "    <tr>\n",
       "      <th>0</th>\n",
       "      <td>2020-07-14</td>\n",
       "      <td>Cute</td>\n",
       "      <td>176</td>\n",
       "      <td>7883</td>\n",
       "      <td>{'Compound': 0.4588, 'Positive': 1.0, 'Negativ...</td>\n",
       "    </tr>\n",
       "    <tr>\n",
       "      <th>1</th>\n",
       "      <td>2020-07-14</td>\n",
       "      <td>Wow</td>\n",
       "      <td>180</td>\n",
       "      <td>4241</td>\n",
       "      <td>{'Compound': 0.5859, 'Positive': 1.0, 'Negativ...</td>\n",
       "    </tr>\n",
       "    <tr>\n",
       "      <th>2</th>\n",
       "      <td>2020-07-13</td>\n",
       "      <td>Reusability is essential. A rocket that is sin...</td>\n",
       "      <td>126</td>\n",
       "      <td>1551</td>\n",
       "      <td>{'Compound': -0.34, 'Positive': 0.0, 'Negative...</td>\n",
       "    </tr>\n",
       "    <tr>\n",
       "      <th>3</th>\n",
       "      <td>2020-07-13</td>\n",
       "      <td>Wild times!</td>\n",
       "      <td>415</td>\n",
       "      <td>13421</td>\n",
       "      <td>{'Compound': 0.0, 'Positive': 0.0, 'Negative':...</td>\n",
       "    </tr>\n",
       "    <tr>\n",
       "      <th>4</th>\n",
       "      <td>2020-07-13</td>\n",
       "      <td>We’re being extra paranoid. Maximizing probabi...</td>\n",
       "      <td>155</td>\n",
       "      <td>4238</td>\n",
       "      <td>{'Compound': 0.4215, 'Positive': 0.257, 'Negat...</td>\n",
       "    </tr>\n",
       "    <tr>\n",
       "      <th>...</th>\n",
       "      <td>...</td>\n",
       "      <td>...</td>\n",
       "      <td>...</td>\n",
       "      <td>...</td>\n",
       "      <td>...</td>\n",
       "    </tr>\n",
       "    <tr>\n",
       "      <th>9281</th>\n",
       "      <td>2015-02-08</td>\n",
       "      <td>Prob good though. Will give us time to replace...</td>\n",
       "      <td>452</td>\n",
       "      <td>940</td>\n",
       "      <td>{'Compound': 0.6858, 'Positive': 0.229, 'Negat...</td>\n",
       "    </tr>\n",
       "    <tr>\n",
       "      <th>9282</th>\n",
       "      <td>2015-02-08</td>\n",
       "      <td>Air Force tracking radar went down. Launch pos...</td>\n",
       "      <td>1479</td>\n",
       "      <td>1147</td>\n",
       "      <td>{'Compound': -0.2023, 'Positive': 0.0, 'Negati...</td>\n",
       "    </tr>\n",
       "    <tr>\n",
       "      <th>9283</th>\n",
       "      <td>2015-02-08</td>\n",
       "      <td>Rocket reentry will be much tougher this time ...</td>\n",
       "      <td>1154</td>\n",
       "      <td>2176</td>\n",
       "      <td>{'Compound': 0.1779, 'Positive': 0.066, 'Negat...</td>\n",
       "    </tr>\n",
       "    <tr>\n",
       "      <th>9284</th>\n",
       "      <td>2015-02-08</td>\n",
       "      <td>Launching our 1st deep space mission today. He...</td>\n",
       "      <td>3026</td>\n",
       "      <td>4198</td>\n",
       "      <td>{'Compound': 0.0, 'Positive': 0.0, 'Negative':...</td>\n",
       "    </tr>\n",
       "    <tr>\n",
       "      <th>9285</th>\n",
       "      <td>2015-01-30</td>\n",
       "      <td>If you are curious about the P85D, you can sch...</td>\n",
       "      <td>462</td>\n",
       "      <td>796</td>\n",
       "      <td>{'Compound': 0.3182, 'Positive': 0.15, 'Negati...</td>\n",
       "    </tr>\n",
       "  </tbody>\n",
       "</table>\n",
       "<p>9286 rows × 5 columns</p>\n",
       "</div>"
      ],
      "text/plain": [
       "            date                                              tweet  \\\n",
       "0     2020-07-14                                               Cute   \n",
       "1     2020-07-14                                                Wow   \n",
       "2     2020-07-13  Reusability is essential. A rocket that is sin...   \n",
       "3     2020-07-13                                        Wild times!   \n",
       "4     2020-07-13  We’re being extra paranoid. Maximizing probabi...   \n",
       "...          ...                                                ...   \n",
       "9281  2015-02-08  Prob good though. Will give us time to replace...   \n",
       "9282  2015-02-08  Air Force tracking radar went down. Launch pos...   \n",
       "9283  2015-02-08  Rocket reentry will be much tougher this time ...   \n",
       "9284  2015-02-08  Launching our 1st deep space mission today. He...   \n",
       "9285  2015-01-30  If you are curious about the P85D, you can sch...   \n",
       "\n",
       "      retweets_count  likes_count  \\\n",
       "0                176         7883   \n",
       "1                180         4241   \n",
       "2                126         1551   \n",
       "3                415        13421   \n",
       "4                155         4238   \n",
       "...              ...          ...   \n",
       "9281             452          940   \n",
       "9282            1479         1147   \n",
       "9283            1154         2176   \n",
       "9284            3026         4198   \n",
       "9285             462          796   \n",
       "\n",
       "                                              sentiment  \n",
       "0     {'Compound': 0.4588, 'Positive': 1.0, 'Negativ...  \n",
       "1     {'Compound': 0.5859, 'Positive': 1.0, 'Negativ...  \n",
       "2     {'Compound': -0.34, 'Positive': 0.0, 'Negative...  \n",
       "3     {'Compound': 0.0, 'Positive': 0.0, 'Negative':...  \n",
       "4     {'Compound': 0.4215, 'Positive': 0.257, 'Negat...  \n",
       "...                                                 ...  \n",
       "9281  {'Compound': 0.6858, 'Positive': 0.229, 'Negat...  \n",
       "9282  {'Compound': -0.2023, 'Positive': 0.0, 'Negati...  \n",
       "9283  {'Compound': 0.1779, 'Positive': 0.066, 'Negat...  \n",
       "9284  {'Compound': 0.0, 'Positive': 0.0, 'Negative':...  \n",
       "9285  {'Compound': 0.3182, 'Positive': 0.15, 'Negati...  \n",
       "\n",
       "[9286 rows x 5 columns]"
      ]
     },
     "execution_count": 55,
     "metadata": {},
     "output_type": "execute_result"
    }
   ],
   "source": [
    "tesla_tweets['sentiment']=scores\n",
    "tesla_tweets"
   ]
  },
  {
   "cell_type": "code",
   "execution_count": 56,
   "id": "4634475c",
   "metadata": {
    "ExecuteTime": {
     "end_time": "2021-09-15T19:51:34.115194Z",
     "start_time": "2021-09-15T19:51:34.046382Z"
    }
   },
   "outputs": [
    {
     "data": {
      "text/html": [
       "<div>\n",
       "<style scoped>\n",
       "    .dataframe tbody tr th:only-of-type {\n",
       "        vertical-align: middle;\n",
       "    }\n",
       "\n",
       "    .dataframe tbody tr th {\n",
       "        vertical-align: top;\n",
       "    }\n",
       "\n",
       "    .dataframe thead th {\n",
       "        text-align: right;\n",
       "    }\n",
       "</style>\n",
       "<table border=\"1\" class=\"dataframe\">\n",
       "  <thead>\n",
       "    <tr style=\"text-align: right;\">\n",
       "      <th></th>\n",
       "      <th>Compound</th>\n",
       "      <th>Positive</th>\n",
       "      <th>Negative</th>\n",
       "      <th>Neutral</th>\n",
       "      <th>date</th>\n",
       "      <th>tweet</th>\n",
       "      <th>retweets_count</th>\n",
       "      <th>likes_count</th>\n",
       "      <th>sentiment</th>\n",
       "    </tr>\n",
       "  </thead>\n",
       "  <tbody>\n",
       "    <tr>\n",
       "      <th>0</th>\n",
       "      <td>0.4588</td>\n",
       "      <td>1.000</td>\n",
       "      <td>0.000</td>\n",
       "      <td>0.000</td>\n",
       "      <td>2020-07-14</td>\n",
       "      <td>Cute</td>\n",
       "      <td>176</td>\n",
       "      <td>7883</td>\n",
       "      <td>{'Compound': 0.4588, 'Positive': 1.0, 'Negativ...</td>\n",
       "    </tr>\n",
       "    <tr>\n",
       "      <th>1</th>\n",
       "      <td>0.5859</td>\n",
       "      <td>1.000</td>\n",
       "      <td>0.000</td>\n",
       "      <td>0.000</td>\n",
       "      <td>2020-07-14</td>\n",
       "      <td>Wow</td>\n",
       "      <td>180</td>\n",
       "      <td>4241</td>\n",
       "      <td>{'Compound': 0.5859, 'Positive': 1.0, 'Negativ...</td>\n",
       "    </tr>\n",
       "    <tr>\n",
       "      <th>2</th>\n",
       "      <td>-0.3400</td>\n",
       "      <td>0.000</td>\n",
       "      <td>0.098</td>\n",
       "      <td>0.902</td>\n",
       "      <td>2020-07-13</td>\n",
       "      <td>Reusability is essential. A rocket that is sin...</td>\n",
       "      <td>126</td>\n",
       "      <td>1551</td>\n",
       "      <td>{'Compound': -0.34, 'Positive': 0.0, 'Negative...</td>\n",
       "    </tr>\n",
       "    <tr>\n",
       "      <th>3</th>\n",
       "      <td>0.0000</td>\n",
       "      <td>0.000</td>\n",
       "      <td>0.000</td>\n",
       "      <td>1.000</td>\n",
       "      <td>2020-07-13</td>\n",
       "      <td>Wild times!</td>\n",
       "      <td>415</td>\n",
       "      <td>13421</td>\n",
       "      <td>{'Compound': 0.0, 'Positive': 0.0, 'Negative':...</td>\n",
       "    </tr>\n",
       "    <tr>\n",
       "      <th>4</th>\n",
       "      <td>0.4215</td>\n",
       "      <td>0.257</td>\n",
       "      <td>0.135</td>\n",
       "      <td>0.608</td>\n",
       "      <td>2020-07-13</td>\n",
       "      <td>We’re being extra paranoid. Maximizing probabi...</td>\n",
       "      <td>155</td>\n",
       "      <td>4238</td>\n",
       "      <td>{'Compound': 0.4215, 'Positive': 0.257, 'Negat...</td>\n",
       "    </tr>\n",
       "    <tr>\n",
       "      <th>...</th>\n",
       "      <td>...</td>\n",
       "      <td>...</td>\n",
       "      <td>...</td>\n",
       "      <td>...</td>\n",
       "      <td>...</td>\n",
       "      <td>...</td>\n",
       "      <td>...</td>\n",
       "      <td>...</td>\n",
       "      <td>...</td>\n",
       "    </tr>\n",
       "    <tr>\n",
       "      <th>9281</th>\n",
       "      <td>0.6858</td>\n",
       "      <td>0.229</td>\n",
       "      <td>0.000</td>\n",
       "      <td>0.771</td>\n",
       "      <td>2015-02-08</td>\n",
       "      <td>Prob good though. Will give us time to replace...</td>\n",
       "      <td>452</td>\n",
       "      <td>940</td>\n",
       "      <td>{'Compound': 0.6858, 'Positive': 0.229, 'Negat...</td>\n",
       "    </tr>\n",
       "    <tr>\n",
       "      <th>9282</th>\n",
       "      <td>-0.2023</td>\n",
       "      <td>0.000</td>\n",
       "      <td>0.141</td>\n",
       "      <td>0.859</td>\n",
       "      <td>2015-02-08</td>\n",
       "      <td>Air Force tracking radar went down. Launch pos...</td>\n",
       "      <td>1479</td>\n",
       "      <td>1147</td>\n",
       "      <td>{'Compound': -0.2023, 'Positive': 0.0, 'Negati...</td>\n",
       "    </tr>\n",
       "    <tr>\n",
       "      <th>9283</th>\n",
       "      <td>0.1779</td>\n",
       "      <td>0.066</td>\n",
       "      <td>0.000</td>\n",
       "      <td>0.934</td>\n",
       "      <td>2015-02-08</td>\n",
       "      <td>Rocket reentry will be much tougher this time ...</td>\n",
       "      <td>1154</td>\n",
       "      <td>2176</td>\n",
       "      <td>{'Compound': 0.1779, 'Positive': 0.066, 'Negat...</td>\n",
       "    </tr>\n",
       "    <tr>\n",
       "      <th>9284</th>\n",
       "      <td>0.0000</td>\n",
       "      <td>0.000</td>\n",
       "      <td>0.000</td>\n",
       "      <td>1.000</td>\n",
       "      <td>2015-02-08</td>\n",
       "      <td>Launching our 1st deep space mission today. He...</td>\n",
       "      <td>3026</td>\n",
       "      <td>4198</td>\n",
       "      <td>{'Compound': 0.0, 'Positive': 0.0, 'Negative':...</td>\n",
       "    </tr>\n",
       "    <tr>\n",
       "      <th>9285</th>\n",
       "      <td>0.3182</td>\n",
       "      <td>0.150</td>\n",
       "      <td>0.000</td>\n",
       "      <td>0.850</td>\n",
       "      <td>2015-01-30</td>\n",
       "      <td>If you are curious about the P85D, you can sch...</td>\n",
       "      <td>462</td>\n",
       "      <td>796</td>\n",
       "      <td>{'Compound': 0.3182, 'Positive': 0.15, 'Negati...</td>\n",
       "    </tr>\n",
       "  </tbody>\n",
       "</table>\n",
       "<p>9286 rows × 9 columns</p>\n",
       "</div>"
      ],
      "text/plain": [
       "      Compound  Positive  Negative  Neutral        date  \\\n",
       "0       0.4588     1.000     0.000    0.000  2020-07-14   \n",
       "1       0.5859     1.000     0.000    0.000  2020-07-14   \n",
       "2      -0.3400     0.000     0.098    0.902  2020-07-13   \n",
       "3       0.0000     0.000     0.000    1.000  2020-07-13   \n",
       "4       0.4215     0.257     0.135    0.608  2020-07-13   \n",
       "...        ...       ...       ...      ...         ...   \n",
       "9281    0.6858     0.229     0.000    0.771  2015-02-08   \n",
       "9282   -0.2023     0.000     0.141    0.859  2015-02-08   \n",
       "9283    0.1779     0.066     0.000    0.934  2015-02-08   \n",
       "9284    0.0000     0.000     0.000    1.000  2015-02-08   \n",
       "9285    0.3182     0.150     0.000    0.850  2015-01-30   \n",
       "\n",
       "                                                  tweet  retweets_count  \\\n",
       "0                                                  Cute             176   \n",
       "1                                                   Wow             180   \n",
       "2     Reusability is essential. A rocket that is sin...             126   \n",
       "3                                           Wild times!             415   \n",
       "4     We’re being extra paranoid. Maximizing probabi...             155   \n",
       "...                                                 ...             ...   \n",
       "9281  Prob good though. Will give us time to replace...             452   \n",
       "9282  Air Force tracking radar went down. Launch pos...            1479   \n",
       "9283  Rocket reentry will be much tougher this time ...            1154   \n",
       "9284  Launching our 1st deep space mission today. He...            3026   \n",
       "9285  If you are curious about the P85D, you can sch...             462   \n",
       "\n",
       "      likes_count                                          sentiment  \n",
       "0            7883  {'Compound': 0.4588, 'Positive': 1.0, 'Negativ...  \n",
       "1            4241  {'Compound': 0.5859, 'Positive': 1.0, 'Negativ...  \n",
       "2            1551  {'Compound': -0.34, 'Positive': 0.0, 'Negative...  \n",
       "3           13421  {'Compound': 0.0, 'Positive': 0.0, 'Negative':...  \n",
       "4            4238  {'Compound': 0.4215, 'Positive': 0.257, 'Negat...  \n",
       "...           ...                                                ...  \n",
       "9281          940  {'Compound': 0.6858, 'Positive': 0.229, 'Negat...  \n",
       "9282         1147  {'Compound': -0.2023, 'Positive': 0.0, 'Negati...  \n",
       "9283         2176  {'Compound': 0.1779, 'Positive': 0.066, 'Negat...  \n",
       "9284         4198  {'Compound': 0.0, 'Positive': 0.0, 'Negative':...  \n",
       "9285          796  {'Compound': 0.3182, 'Positive': 0.15, 'Negati...  \n",
       "\n",
       "[9286 rows x 9 columns]"
      ]
     },
     "execution_count": 56,
     "metadata": {},
     "output_type": "execute_result"
    }
   ],
   "source": [
    "## explode out the dictionary into its own columns\n",
    "\n",
    "df3 = pd.json_normalize(tesla_tweets['sentiment'])\n",
    "df3 = pd.DataFrame(df3)\n",
    "\n",
    "tesla_tweets= pd.concat([df3, tesla_tweets],1)\n",
    "tesla_tweets"
   ]
  },
  {
   "cell_type": "code",
   "execution_count": 57,
   "id": "313845f1",
   "metadata": {
    "ExecuteTime": {
     "end_time": "2021-09-15T19:51:34.120193Z",
     "start_time": "2021-09-15T19:51:34.116272Z"
    }
   },
   "outputs": [],
   "source": [
    "tesla_tweets.drop(['tweet','sentiment'],1 , inplace=True)"
   ]
  },
  {
   "cell_type": "code",
   "execution_count": 58,
   "id": "255b109d",
   "metadata": {
    "ExecuteTime": {
     "end_time": "2021-09-15T19:51:34.130337Z",
     "start_time": "2021-09-15T19:51:34.121696Z"
    }
   },
   "outputs": [
    {
     "data": {
      "text/html": [
       "<div>\n",
       "<style scoped>\n",
       "    .dataframe tbody tr th:only-of-type {\n",
       "        vertical-align: middle;\n",
       "    }\n",
       "\n",
       "    .dataframe tbody tr th {\n",
       "        vertical-align: top;\n",
       "    }\n",
       "\n",
       "    .dataframe thead th {\n",
       "        text-align: right;\n",
       "    }\n",
       "</style>\n",
       "<table border=\"1\" class=\"dataframe\">\n",
       "  <thead>\n",
       "    <tr style=\"text-align: right;\">\n",
       "      <th></th>\n",
       "      <th>Compound</th>\n",
       "      <th>Positive</th>\n",
       "      <th>Negative</th>\n",
       "      <th>Neutral</th>\n",
       "      <th>date</th>\n",
       "      <th>retweets_count</th>\n",
       "      <th>likes_count</th>\n",
       "    </tr>\n",
       "  </thead>\n",
       "  <tbody>\n",
       "    <tr>\n",
       "      <th>0</th>\n",
       "      <td>0.4588</td>\n",
       "      <td>1.000</td>\n",
       "      <td>0.000</td>\n",
       "      <td>0.000</td>\n",
       "      <td>2020-07-14</td>\n",
       "      <td>176</td>\n",
       "      <td>7883</td>\n",
       "    </tr>\n",
       "    <tr>\n",
       "      <th>1</th>\n",
       "      <td>0.5859</td>\n",
       "      <td>1.000</td>\n",
       "      <td>0.000</td>\n",
       "      <td>0.000</td>\n",
       "      <td>2020-07-14</td>\n",
       "      <td>180</td>\n",
       "      <td>4241</td>\n",
       "    </tr>\n",
       "    <tr>\n",
       "      <th>2</th>\n",
       "      <td>-0.3400</td>\n",
       "      <td>0.000</td>\n",
       "      <td>0.098</td>\n",
       "      <td>0.902</td>\n",
       "      <td>2020-07-13</td>\n",
       "      <td>126</td>\n",
       "      <td>1551</td>\n",
       "    </tr>\n",
       "    <tr>\n",
       "      <th>3</th>\n",
       "      <td>0.0000</td>\n",
       "      <td>0.000</td>\n",
       "      <td>0.000</td>\n",
       "      <td>1.000</td>\n",
       "      <td>2020-07-13</td>\n",
       "      <td>415</td>\n",
       "      <td>13421</td>\n",
       "    </tr>\n",
       "    <tr>\n",
       "      <th>4</th>\n",
       "      <td>0.4215</td>\n",
       "      <td>0.257</td>\n",
       "      <td>0.135</td>\n",
       "      <td>0.608</td>\n",
       "      <td>2020-07-13</td>\n",
       "      <td>155</td>\n",
       "      <td>4238</td>\n",
       "    </tr>\n",
       "    <tr>\n",
       "      <th>...</th>\n",
       "      <td>...</td>\n",
       "      <td>...</td>\n",
       "      <td>...</td>\n",
       "      <td>...</td>\n",
       "      <td>...</td>\n",
       "      <td>...</td>\n",
       "      <td>...</td>\n",
       "    </tr>\n",
       "    <tr>\n",
       "      <th>9281</th>\n",
       "      <td>0.6858</td>\n",
       "      <td>0.229</td>\n",
       "      <td>0.000</td>\n",
       "      <td>0.771</td>\n",
       "      <td>2015-02-08</td>\n",
       "      <td>452</td>\n",
       "      <td>940</td>\n",
       "    </tr>\n",
       "    <tr>\n",
       "      <th>9282</th>\n",
       "      <td>-0.2023</td>\n",
       "      <td>0.000</td>\n",
       "      <td>0.141</td>\n",
       "      <td>0.859</td>\n",
       "      <td>2015-02-08</td>\n",
       "      <td>1479</td>\n",
       "      <td>1147</td>\n",
       "    </tr>\n",
       "    <tr>\n",
       "      <th>9283</th>\n",
       "      <td>0.1779</td>\n",
       "      <td>0.066</td>\n",
       "      <td>0.000</td>\n",
       "      <td>0.934</td>\n",
       "      <td>2015-02-08</td>\n",
       "      <td>1154</td>\n",
       "      <td>2176</td>\n",
       "    </tr>\n",
       "    <tr>\n",
       "      <th>9284</th>\n",
       "      <td>0.0000</td>\n",
       "      <td>0.000</td>\n",
       "      <td>0.000</td>\n",
       "      <td>1.000</td>\n",
       "      <td>2015-02-08</td>\n",
       "      <td>3026</td>\n",
       "      <td>4198</td>\n",
       "    </tr>\n",
       "    <tr>\n",
       "      <th>9285</th>\n",
       "      <td>0.3182</td>\n",
       "      <td>0.150</td>\n",
       "      <td>0.000</td>\n",
       "      <td>0.850</td>\n",
       "      <td>2015-01-30</td>\n",
       "      <td>462</td>\n",
       "      <td>796</td>\n",
       "    </tr>\n",
       "  </tbody>\n",
       "</table>\n",
       "<p>9286 rows × 7 columns</p>\n",
       "</div>"
      ],
      "text/plain": [
       "      Compound  Positive  Negative  Neutral        date  retweets_count  \\\n",
       "0       0.4588     1.000     0.000    0.000  2020-07-14             176   \n",
       "1       0.5859     1.000     0.000    0.000  2020-07-14             180   \n",
       "2      -0.3400     0.000     0.098    0.902  2020-07-13             126   \n",
       "3       0.0000     0.000     0.000    1.000  2020-07-13             415   \n",
       "4       0.4215     0.257     0.135    0.608  2020-07-13             155   \n",
       "...        ...       ...       ...      ...         ...             ...   \n",
       "9281    0.6858     0.229     0.000    0.771  2015-02-08             452   \n",
       "9282   -0.2023     0.000     0.141    0.859  2015-02-08            1479   \n",
       "9283    0.1779     0.066     0.000    0.934  2015-02-08            1154   \n",
       "9284    0.0000     0.000     0.000    1.000  2015-02-08            3026   \n",
       "9285    0.3182     0.150     0.000    0.850  2015-01-30             462   \n",
       "\n",
       "      likes_count  \n",
       "0            7883  \n",
       "1            4241  \n",
       "2            1551  \n",
       "3           13421  \n",
       "4            4238  \n",
       "...           ...  \n",
       "9281          940  \n",
       "9282         1147  \n",
       "9283         2176  \n",
       "9284         4198  \n",
       "9285          796  \n",
       "\n",
       "[9286 rows x 7 columns]"
      ]
     },
     "execution_count": 58,
     "metadata": {},
     "output_type": "execute_result"
    }
   ],
   "source": [
    "tesla_tweets"
   ]
  },
  {
   "cell_type": "code",
   "execution_count": 59,
   "id": "69c5653a",
   "metadata": {
    "ExecuteTime": {
     "end_time": "2021-09-15T19:51:34.135735Z",
     "start_time": "2021-09-15T19:51:34.131429Z"
    }
   },
   "outputs": [],
   "source": [
    "#lets aggregative the days with \n",
    "tweet_counts= tesla_tweets.groupby('date').mean()\n"
   ]
  },
  {
   "cell_type": "code",
   "execution_count": 60,
   "id": "fa9d6ceb",
   "metadata": {
    "ExecuteTime": {
     "end_time": "2021-09-15T19:51:34.144343Z",
     "start_time": "2021-09-15T19:51:34.136726Z"
    }
   },
   "outputs": [
    {
     "data": {
      "text/html": [
       "<div>\n",
       "<style scoped>\n",
       "    .dataframe tbody tr th:only-of-type {\n",
       "        vertical-align: middle;\n",
       "    }\n",
       "\n",
       "    .dataframe tbody tr th {\n",
       "        vertical-align: top;\n",
       "    }\n",
       "\n",
       "    .dataframe thead th {\n",
       "        text-align: right;\n",
       "    }\n",
       "</style>\n",
       "<table border=\"1\" class=\"dataframe\">\n",
       "  <thead>\n",
       "    <tr style=\"text-align: right;\">\n",
       "      <th></th>\n",
       "      <th>Compound</th>\n",
       "      <th>Positive</th>\n",
       "      <th>Negative</th>\n",
       "      <th>Neutral</th>\n",
       "      <th>retweets_count</th>\n",
       "      <th>likes_count</th>\n",
       "    </tr>\n",
       "    <tr>\n",
       "      <th>date</th>\n",
       "      <th></th>\n",
       "      <th></th>\n",
       "      <th></th>\n",
       "      <th></th>\n",
       "      <th></th>\n",
       "      <th></th>\n",
       "    </tr>\n",
       "  </thead>\n",
       "  <tbody>\n",
       "    <tr>\n",
       "      <th>2015-01-30</th>\n",
       "      <td>0.318200</td>\n",
       "      <td>0.150000</td>\n",
       "      <td>0.000000</td>\n",
       "      <td>0.850000</td>\n",
       "      <td>462.000000</td>\n",
       "      <td>796.000000</td>\n",
       "    </tr>\n",
       "    <tr>\n",
       "      <th>2015-02-08</th>\n",
       "      <td>0.165350</td>\n",
       "      <td>0.073750</td>\n",
       "      <td>0.035250</td>\n",
       "      <td>0.891000</td>\n",
       "      <td>1527.750000</td>\n",
       "      <td>2115.250000</td>\n",
       "    </tr>\n",
       "    <tr>\n",
       "      <th>2015-02-10</th>\n",
       "      <td>0.181967</td>\n",
       "      <td>0.087000</td>\n",
       "      <td>0.023000</td>\n",
       "      <td>0.890000</td>\n",
       "      <td>526.666667</td>\n",
       "      <td>773.666667</td>\n",
       "    </tr>\n",
       "    <tr>\n",
       "      <th>2015-02-11</th>\n",
       "      <td>0.275738</td>\n",
       "      <td>0.109625</td>\n",
       "      <td>0.007250</td>\n",
       "      <td>0.883125</td>\n",
       "      <td>1361.625000</td>\n",
       "      <td>2531.750000</td>\n",
       "    </tr>\n",
       "    <tr>\n",
       "      <th>2015-02-12</th>\n",
       "      <td>0.000000</td>\n",
       "      <td>0.000000</td>\n",
       "      <td>0.000000</td>\n",
       "      <td>1.000000</td>\n",
       "      <td>1467.000000</td>\n",
       "      <td>2660.000000</td>\n",
       "    </tr>\n",
       "    <tr>\n",
       "      <th>...</th>\n",
       "      <td>...</td>\n",
       "      <td>...</td>\n",
       "      <td>...</td>\n",
       "      <td>...</td>\n",
       "      <td>...</td>\n",
       "      <td>...</td>\n",
       "    </tr>\n",
       "    <tr>\n",
       "      <th>2020-07-10</th>\n",
       "      <td>0.267573</td>\n",
       "      <td>0.315727</td>\n",
       "      <td>0.050273</td>\n",
       "      <td>0.543045</td>\n",
       "      <td>540.772727</td>\n",
       "      <td>9638.545455</td>\n",
       "    </tr>\n",
       "    <tr>\n",
       "      <th>2020-07-11</th>\n",
       "      <td>0.114700</td>\n",
       "      <td>0.250000</td>\n",
       "      <td>0.000000</td>\n",
       "      <td>0.750000</td>\n",
       "      <td>3255.000000</td>\n",
       "      <td>64089.750000</td>\n",
       "    </tr>\n",
       "    <tr>\n",
       "      <th>2020-07-12</th>\n",
       "      <td>0.339633</td>\n",
       "      <td>0.472667</td>\n",
       "      <td>0.120667</td>\n",
       "      <td>0.406667</td>\n",
       "      <td>85.000000</td>\n",
       "      <td>4840.000000</td>\n",
       "    </tr>\n",
       "    <tr>\n",
       "      <th>2020-07-13</th>\n",
       "      <td>0.164587</td>\n",
       "      <td>0.216067</td>\n",
       "      <td>0.098333</td>\n",
       "      <td>0.618933</td>\n",
       "      <td>196.266667</td>\n",
       "      <td>5705.333333</td>\n",
       "    </tr>\n",
       "    <tr>\n",
       "      <th>2020-07-14</th>\n",
       "      <td>0.522350</td>\n",
       "      <td>1.000000</td>\n",
       "      <td>0.000000</td>\n",
       "      <td>0.000000</td>\n",
       "      <td>178.000000</td>\n",
       "      <td>6062.000000</td>\n",
       "    </tr>\n",
       "  </tbody>\n",
       "</table>\n",
       "<p>1360 rows × 6 columns</p>\n",
       "</div>"
      ],
      "text/plain": [
       "            Compound  Positive  Negative   Neutral  retweets_count  \\\n",
       "date                                                                 \n",
       "2015-01-30  0.318200  0.150000  0.000000  0.850000      462.000000   \n",
       "2015-02-08  0.165350  0.073750  0.035250  0.891000     1527.750000   \n",
       "2015-02-10  0.181967  0.087000  0.023000  0.890000      526.666667   \n",
       "2015-02-11  0.275738  0.109625  0.007250  0.883125     1361.625000   \n",
       "2015-02-12  0.000000  0.000000  0.000000  1.000000     1467.000000   \n",
       "...              ...       ...       ...       ...             ...   \n",
       "2020-07-10  0.267573  0.315727  0.050273  0.543045      540.772727   \n",
       "2020-07-11  0.114700  0.250000  0.000000  0.750000     3255.000000   \n",
       "2020-07-12  0.339633  0.472667  0.120667  0.406667       85.000000   \n",
       "2020-07-13  0.164587  0.216067  0.098333  0.618933      196.266667   \n",
       "2020-07-14  0.522350  1.000000  0.000000  0.000000      178.000000   \n",
       "\n",
       "             likes_count  \n",
       "date                      \n",
       "2015-01-30    796.000000  \n",
       "2015-02-08   2115.250000  \n",
       "2015-02-10    773.666667  \n",
       "2015-02-11   2531.750000  \n",
       "2015-02-12   2660.000000  \n",
       "...                  ...  \n",
       "2020-07-10   9638.545455  \n",
       "2020-07-11  64089.750000  \n",
       "2020-07-12   4840.000000  \n",
       "2020-07-13   5705.333333  \n",
       "2020-07-14   6062.000000  \n",
       "\n",
       "[1360 rows x 6 columns]"
      ]
     },
     "execution_count": 60,
     "metadata": {},
     "output_type": "execute_result"
    }
   ],
   "source": [
    "tweet_counts"
   ]
  },
  {
   "cell_type": "code",
   "execution_count": 61,
   "id": "a068d1fc",
   "metadata": {
    "ExecuteTime": {
     "end_time": "2021-09-15T19:51:34.160508Z",
     "start_time": "2021-09-15T19:51:34.145281Z"
    }
   },
   "outputs": [
    {
     "data": {
      "text/html": [
       "<div>\n",
       "<style scoped>\n",
       "    .dataframe tbody tr th:only-of-type {\n",
       "        vertical-align: middle;\n",
       "    }\n",
       "\n",
       "    .dataframe tbody tr th {\n",
       "        vertical-align: top;\n",
       "    }\n",
       "\n",
       "    .dataframe thead th {\n",
       "        text-align: right;\n",
       "    }\n",
       "</style>\n",
       "<table border=\"1\" class=\"dataframe\">\n",
       "  <thead>\n",
       "    <tr style=\"text-align: right;\">\n",
       "      <th></th>\n",
       "      <th>Compound</th>\n",
       "      <th>Positive</th>\n",
       "      <th>Negative</th>\n",
       "      <th>Neutral</th>\n",
       "      <th>retweets_count</th>\n",
       "      <th>likes_count</th>\n",
       "      <th>count_x</th>\n",
       "      <th>count_y</th>\n",
       "    </tr>\n",
       "    <tr>\n",
       "      <th>date</th>\n",
       "      <th></th>\n",
       "      <th></th>\n",
       "      <th></th>\n",
       "      <th></th>\n",
       "      <th></th>\n",
       "      <th></th>\n",
       "      <th></th>\n",
       "      <th></th>\n",
       "    </tr>\n",
       "  </thead>\n",
       "  <tbody>\n",
       "    <tr>\n",
       "      <th>2015-01-30</th>\n",
       "      <td>0.318200</td>\n",
       "      <td>0.150000</td>\n",
       "      <td>0.000000</td>\n",
       "      <td>0.850000</td>\n",
       "      <td>462.000000</td>\n",
       "      <td>796.000000</td>\n",
       "      <td>1</td>\n",
       "      <td>1</td>\n",
       "    </tr>\n",
       "    <tr>\n",
       "      <th>2015-02-08</th>\n",
       "      <td>0.165350</td>\n",
       "      <td>0.073750</td>\n",
       "      <td>0.035250</td>\n",
       "      <td>0.891000</td>\n",
       "      <td>1527.750000</td>\n",
       "      <td>2115.250000</td>\n",
       "      <td>1</td>\n",
       "      <td>1</td>\n",
       "    </tr>\n",
       "    <tr>\n",
       "      <th>2015-02-10</th>\n",
       "      <td>0.181967</td>\n",
       "      <td>0.087000</td>\n",
       "      <td>0.023000</td>\n",
       "      <td>0.890000</td>\n",
       "      <td>526.666667</td>\n",
       "      <td>773.666667</td>\n",
       "      <td>1</td>\n",
       "      <td>1</td>\n",
       "    </tr>\n",
       "    <tr>\n",
       "      <th>2015-02-11</th>\n",
       "      <td>0.275738</td>\n",
       "      <td>0.109625</td>\n",
       "      <td>0.007250</td>\n",
       "      <td>0.883125</td>\n",
       "      <td>1361.625000</td>\n",
       "      <td>2531.750000</td>\n",
       "      <td>1</td>\n",
       "      <td>1</td>\n",
       "    </tr>\n",
       "    <tr>\n",
       "      <th>2015-02-12</th>\n",
       "      <td>0.000000</td>\n",
       "      <td>0.000000</td>\n",
       "      <td>0.000000</td>\n",
       "      <td>1.000000</td>\n",
       "      <td>1467.000000</td>\n",
       "      <td>2660.000000</td>\n",
       "      <td>1</td>\n",
       "      <td>1</td>\n",
       "    </tr>\n",
       "    <tr>\n",
       "      <th>...</th>\n",
       "      <td>...</td>\n",
       "      <td>...</td>\n",
       "      <td>...</td>\n",
       "      <td>...</td>\n",
       "      <td>...</td>\n",
       "      <td>...</td>\n",
       "      <td>...</td>\n",
       "      <td>...</td>\n",
       "    </tr>\n",
       "    <tr>\n",
       "      <th>2020-07-10</th>\n",
       "      <td>0.267573</td>\n",
       "      <td>0.315727</td>\n",
       "      <td>0.050273</td>\n",
       "      <td>0.543045</td>\n",
       "      <td>540.772727</td>\n",
       "      <td>9638.545455</td>\n",
       "      <td>1</td>\n",
       "      <td>1</td>\n",
       "    </tr>\n",
       "    <tr>\n",
       "      <th>2020-07-11</th>\n",
       "      <td>0.114700</td>\n",
       "      <td>0.250000</td>\n",
       "      <td>0.000000</td>\n",
       "      <td>0.750000</td>\n",
       "      <td>3255.000000</td>\n",
       "      <td>64089.750000</td>\n",
       "      <td>1</td>\n",
       "      <td>1</td>\n",
       "    </tr>\n",
       "    <tr>\n",
       "      <th>2020-07-12</th>\n",
       "      <td>0.339633</td>\n",
       "      <td>0.472667</td>\n",
       "      <td>0.120667</td>\n",
       "      <td>0.406667</td>\n",
       "      <td>85.000000</td>\n",
       "      <td>4840.000000</td>\n",
       "      <td>1</td>\n",
       "      <td>1</td>\n",
       "    </tr>\n",
       "    <tr>\n",
       "      <th>2020-07-13</th>\n",
       "      <td>0.164587</td>\n",
       "      <td>0.216067</td>\n",
       "      <td>0.098333</td>\n",
       "      <td>0.618933</td>\n",
       "      <td>196.266667</td>\n",
       "      <td>5705.333333</td>\n",
       "      <td>1</td>\n",
       "      <td>1</td>\n",
       "    </tr>\n",
       "    <tr>\n",
       "      <th>2020-07-14</th>\n",
       "      <td>0.522350</td>\n",
       "      <td>1.000000</td>\n",
       "      <td>0.000000</td>\n",
       "      <td>0.000000</td>\n",
       "      <td>178.000000</td>\n",
       "      <td>6062.000000</td>\n",
       "      <td>1</td>\n",
       "      <td>1</td>\n",
       "    </tr>\n",
       "  </tbody>\n",
       "</table>\n",
       "<p>1360 rows × 8 columns</p>\n",
       "</div>"
      ],
      "text/plain": [
       "            Compound  Positive  Negative   Neutral  retweets_count  \\\n",
       "date                                                                 \n",
       "2015-01-30  0.318200  0.150000  0.000000  0.850000      462.000000   \n",
       "2015-02-08  0.165350  0.073750  0.035250  0.891000     1527.750000   \n",
       "2015-02-10  0.181967  0.087000  0.023000  0.890000      526.666667   \n",
       "2015-02-11  0.275738  0.109625  0.007250  0.883125     1361.625000   \n",
       "2015-02-12  0.000000  0.000000  0.000000  1.000000     1467.000000   \n",
       "...              ...       ...       ...       ...             ...   \n",
       "2020-07-10  0.267573  0.315727  0.050273  0.543045      540.772727   \n",
       "2020-07-11  0.114700  0.250000  0.000000  0.750000     3255.000000   \n",
       "2020-07-12  0.339633  0.472667  0.120667  0.406667       85.000000   \n",
       "2020-07-13  0.164587  0.216067  0.098333  0.618933      196.266667   \n",
       "2020-07-14  0.522350  1.000000  0.000000  0.000000      178.000000   \n",
       "\n",
       "             likes_count  count_x  count_y  \n",
       "date                                        \n",
       "2015-01-30    796.000000        1        1  \n",
       "2015-02-08   2115.250000        1        1  \n",
       "2015-02-10    773.666667        1        1  \n",
       "2015-02-11   2531.750000        1        1  \n",
       "2015-02-12   2660.000000        1        1  \n",
       "...                  ...      ...      ...  \n",
       "2020-07-10   9638.545455        1        1  \n",
       "2020-07-11  64089.750000        1        1  \n",
       "2020-07-12   4840.000000        1        1  \n",
       "2020-07-13   5705.333333        1        1  \n",
       "2020-07-14   6062.000000        1        1  \n",
       "\n",
       "[1360 rows x 8 columns]"
      ]
     },
     "execution_count": 61,
     "metadata": {},
     "output_type": "execute_result"
    }
   ],
   "source": [
    "# tesla_tweets['date']=pd.to_datetime(tesla_tweets['date'])\n",
    "tesla_counts= tesla_tweets.groupby('date').mean()\n",
    "\n",
    "tweet_counts['count']=1\n",
    "# tesla_tweets.set_index('date',inplace= True)\n",
    "t=tweet_counts.groupby('date')['count'].count().to_frame()\n",
    "t\n",
    "\n",
    "tesla_tweets_final= tweet_counts.merge(t, how='inner', left_on = 'date', right_on = 'date')\n",
    "tesla_tweets_final"
   ]
  },
  {
   "cell_type": "code",
   "execution_count": 62,
   "id": "fcce80ae",
   "metadata": {
    "ExecuteTime": {
     "end_time": "2021-09-15T19:51:34.172016Z",
     "start_time": "2021-09-15T19:51:34.161564Z"
    }
   },
   "outputs": [
    {
     "data": {
      "text/html": [
       "<div>\n",
       "<style scoped>\n",
       "    .dataframe tbody tr th:only-of-type {\n",
       "        vertical-align: middle;\n",
       "    }\n",
       "\n",
       "    .dataframe tbody tr th {\n",
       "        vertical-align: top;\n",
       "    }\n",
       "\n",
       "    .dataframe thead th {\n",
       "        text-align: right;\n",
       "    }\n",
       "</style>\n",
       "<table border=\"1\" class=\"dataframe\">\n",
       "  <thead>\n",
       "    <tr style=\"text-align: right;\">\n",
       "      <th></th>\n",
       "      <th>Tweet_compound_score</th>\n",
       "      <th>Tweet_positive_score</th>\n",
       "      <th>Tweet_negative_score</th>\n",
       "      <th>Tweet_neutral_score</th>\n",
       "      <th>retweets_count</th>\n",
       "      <th>likes_count</th>\n",
       "      <th>daily_tweet_count</th>\n",
       "    </tr>\n",
       "    <tr>\n",
       "      <th>date</th>\n",
       "      <th></th>\n",
       "      <th></th>\n",
       "      <th></th>\n",
       "      <th></th>\n",
       "      <th></th>\n",
       "      <th></th>\n",
       "      <th></th>\n",
       "    </tr>\n",
       "  </thead>\n",
       "  <tbody>\n",
       "    <tr>\n",
       "      <th>2015-01-30</th>\n",
       "      <td>0.318200</td>\n",
       "      <td>0.150000</td>\n",
       "      <td>0.000000</td>\n",
       "      <td>0.850000</td>\n",
       "      <td>462.000000</td>\n",
       "      <td>796.000000</td>\n",
       "      <td>1</td>\n",
       "    </tr>\n",
       "    <tr>\n",
       "      <th>2015-02-08</th>\n",
       "      <td>0.165350</td>\n",
       "      <td>0.073750</td>\n",
       "      <td>0.035250</td>\n",
       "      <td>0.891000</td>\n",
       "      <td>1527.750000</td>\n",
       "      <td>2115.250000</td>\n",
       "      <td>1</td>\n",
       "    </tr>\n",
       "    <tr>\n",
       "      <th>2015-02-10</th>\n",
       "      <td>0.181967</td>\n",
       "      <td>0.087000</td>\n",
       "      <td>0.023000</td>\n",
       "      <td>0.890000</td>\n",
       "      <td>526.666667</td>\n",
       "      <td>773.666667</td>\n",
       "      <td>1</td>\n",
       "    </tr>\n",
       "    <tr>\n",
       "      <th>2015-02-11</th>\n",
       "      <td>0.275738</td>\n",
       "      <td>0.109625</td>\n",
       "      <td>0.007250</td>\n",
       "      <td>0.883125</td>\n",
       "      <td>1361.625000</td>\n",
       "      <td>2531.750000</td>\n",
       "      <td>1</td>\n",
       "    </tr>\n",
       "    <tr>\n",
       "      <th>2015-02-12</th>\n",
       "      <td>0.000000</td>\n",
       "      <td>0.000000</td>\n",
       "      <td>0.000000</td>\n",
       "      <td>1.000000</td>\n",
       "      <td>1467.000000</td>\n",
       "      <td>2660.000000</td>\n",
       "      <td>1</td>\n",
       "    </tr>\n",
       "    <tr>\n",
       "      <th>...</th>\n",
       "      <td>...</td>\n",
       "      <td>...</td>\n",
       "      <td>...</td>\n",
       "      <td>...</td>\n",
       "      <td>...</td>\n",
       "      <td>...</td>\n",
       "      <td>...</td>\n",
       "    </tr>\n",
       "    <tr>\n",
       "      <th>2020-07-10</th>\n",
       "      <td>0.267573</td>\n",
       "      <td>0.315727</td>\n",
       "      <td>0.050273</td>\n",
       "      <td>0.543045</td>\n",
       "      <td>540.772727</td>\n",
       "      <td>9638.545455</td>\n",
       "      <td>1</td>\n",
       "    </tr>\n",
       "    <tr>\n",
       "      <th>2020-07-11</th>\n",
       "      <td>0.114700</td>\n",
       "      <td>0.250000</td>\n",
       "      <td>0.000000</td>\n",
       "      <td>0.750000</td>\n",
       "      <td>3255.000000</td>\n",
       "      <td>64089.750000</td>\n",
       "      <td>1</td>\n",
       "    </tr>\n",
       "    <tr>\n",
       "      <th>2020-07-12</th>\n",
       "      <td>0.339633</td>\n",
       "      <td>0.472667</td>\n",
       "      <td>0.120667</td>\n",
       "      <td>0.406667</td>\n",
       "      <td>85.000000</td>\n",
       "      <td>4840.000000</td>\n",
       "      <td>1</td>\n",
       "    </tr>\n",
       "    <tr>\n",
       "      <th>2020-07-13</th>\n",
       "      <td>0.164587</td>\n",
       "      <td>0.216067</td>\n",
       "      <td>0.098333</td>\n",
       "      <td>0.618933</td>\n",
       "      <td>196.266667</td>\n",
       "      <td>5705.333333</td>\n",
       "      <td>1</td>\n",
       "    </tr>\n",
       "    <tr>\n",
       "      <th>2020-07-14</th>\n",
       "      <td>0.522350</td>\n",
       "      <td>1.000000</td>\n",
       "      <td>0.000000</td>\n",
       "      <td>0.000000</td>\n",
       "      <td>178.000000</td>\n",
       "      <td>6062.000000</td>\n",
       "      <td>1</td>\n",
       "    </tr>\n",
       "  </tbody>\n",
       "</table>\n",
       "<p>1360 rows × 7 columns</p>\n",
       "</div>"
      ],
      "text/plain": [
       "            Tweet_compound_score  Tweet_positive_score  Tweet_negative_score  \\\n",
       "date                                                                           \n",
       "2015-01-30              0.318200              0.150000              0.000000   \n",
       "2015-02-08              0.165350              0.073750              0.035250   \n",
       "2015-02-10              0.181967              0.087000              0.023000   \n",
       "2015-02-11              0.275738              0.109625              0.007250   \n",
       "2015-02-12              0.000000              0.000000              0.000000   \n",
       "...                          ...                   ...                   ...   \n",
       "2020-07-10              0.267573              0.315727              0.050273   \n",
       "2020-07-11              0.114700              0.250000              0.000000   \n",
       "2020-07-12              0.339633              0.472667              0.120667   \n",
       "2020-07-13              0.164587              0.216067              0.098333   \n",
       "2020-07-14              0.522350              1.000000              0.000000   \n",
       "\n",
       "            Tweet_neutral_score  retweets_count   likes_count  \\\n",
       "date                                                            \n",
       "2015-01-30             0.850000      462.000000    796.000000   \n",
       "2015-02-08             0.891000     1527.750000   2115.250000   \n",
       "2015-02-10             0.890000      526.666667    773.666667   \n",
       "2015-02-11             0.883125     1361.625000   2531.750000   \n",
       "2015-02-12             1.000000     1467.000000   2660.000000   \n",
       "...                         ...             ...           ...   \n",
       "2020-07-10             0.543045      540.772727   9638.545455   \n",
       "2020-07-11             0.750000     3255.000000  64089.750000   \n",
       "2020-07-12             0.406667       85.000000   4840.000000   \n",
       "2020-07-13             0.618933      196.266667   5705.333333   \n",
       "2020-07-14             0.000000      178.000000   6062.000000   \n",
       "\n",
       "            daily_tweet_count  \n",
       "date                           \n",
       "2015-01-30                  1  \n",
       "2015-02-08                  1  \n",
       "2015-02-10                  1  \n",
       "2015-02-11                  1  \n",
       "2015-02-12                  1  \n",
       "...                       ...  \n",
       "2020-07-10                  1  \n",
       "2020-07-11                  1  \n",
       "2020-07-12                  1  \n",
       "2020-07-13                  1  \n",
       "2020-07-14                  1  \n",
       "\n",
       "[1360 rows x 7 columns]"
      ]
     },
     "execution_count": 62,
     "metadata": {},
     "output_type": "execute_result"
    }
   ],
   "source": [
    "# drop unecessary cols\n",
    "tesla_tweets_final.drop([ 'count_x'], 1, inplace=True)\n",
    "tesla_tweets_final.rename(columns={'count_y':'daily_tweet_count', 'Compound' : 'Tweet_compound_score', \n",
    "                                   'Positive' : 'Tweet_positive_score', \n",
    "                                   'Negative': 'Tweet_negative_score', \n",
    "                                   'Neutral' :'Tweet_neutral_score'}, inplace=True)\n",
    "tesla_tweets_final"
   ]
  },
  {
   "cell_type": "code",
   "execution_count": 63,
   "id": "2bb4456a",
   "metadata": {
    "ExecuteTime": {
     "end_time": "2021-09-15T19:51:34.178609Z",
     "start_time": "2021-09-15T19:51:34.173118Z"
    },
    "scrolled": true
   },
   "outputs": [
    {
     "data": {
      "text/html": [
       "<div>\n",
       "<style scoped>\n",
       "    .dataframe tbody tr th:only-of-type {\n",
       "        vertical-align: middle;\n",
       "    }\n",
       "\n",
       "    .dataframe tbody tr th {\n",
       "        vertical-align: top;\n",
       "    }\n",
       "\n",
       "    .dataframe thead th {\n",
       "        text-align: right;\n",
       "    }\n",
       "</style>\n",
       "<table border=\"1\" class=\"dataframe\">\n",
       "  <thead>\n",
       "    <tr style=\"text-align: right;\">\n",
       "      <th></th>\n",
       "      <th>Date</th>\n",
       "      <th>Close/Last</th>\n",
       "      <th>Volume</th>\n",
       "      <th>Open</th>\n",
       "      <th>High</th>\n",
       "      <th>Low</th>\n",
       "    </tr>\n",
       "  </thead>\n",
       "  <tbody>\n",
       "    <tr>\n",
       "      <th>0</th>\n",
       "      <td>08/30/2021</td>\n",
       "      <td>730.91</td>\n",
       "      <td>18604220</td>\n",
       "      <td>714.715</td>\n",
       "      <td>731.00</td>\n",
       "      <td>712.7300</td>\n",
       "    </tr>\n",
       "    <tr>\n",
       "      <th>1</th>\n",
       "      <td>08/27/2021</td>\n",
       "      <td>711.92</td>\n",
       "      <td>13833760</td>\n",
       "      <td>705.000</td>\n",
       "      <td>715.00</td>\n",
       "      <td>702.1001</td>\n",
       "    </tr>\n",
       "    <tr>\n",
       "      <th>2</th>\n",
       "      <td>08/26/2021</td>\n",
       "      <td>701.16</td>\n",
       "      <td>13214290</td>\n",
       "      <td>708.310</td>\n",
       "      <td>715.40</td>\n",
       "      <td>697.6201</td>\n",
       "    </tr>\n",
       "    <tr>\n",
       "      <th>3</th>\n",
       "      <td>08/25/2021</td>\n",
       "      <td>711.20</td>\n",
       "      <td>12645560</td>\n",
       "      <td>707.030</td>\n",
       "      <td>716.97</td>\n",
       "      <td>704.0000</td>\n",
       "    </tr>\n",
       "    <tr>\n",
       "      <th>4</th>\n",
       "      <td>08/24/2021</td>\n",
       "      <td>708.49</td>\n",
       "      <td>13083070</td>\n",
       "      <td>710.680</td>\n",
       "      <td>715.22</td>\n",
       "      <td>702.6400</td>\n",
       "    </tr>\n",
       "  </tbody>\n",
       "</table>\n",
       "</div>"
      ],
      "text/plain": [
       "         Date  Close/Last    Volume     Open    High       Low\n",
       "0  08/30/2021      730.91  18604220  714.715  731.00  712.7300\n",
       "1  08/27/2021      711.92  13833760  705.000  715.00  702.1001\n",
       "2  08/26/2021      701.16  13214290  708.310  715.40  697.6201\n",
       "3  08/25/2021      711.20  12645560  707.030  716.97  704.0000\n",
       "4  08/24/2021      708.49  13083070  710.680  715.22  702.6400"
      ]
     },
     "execution_count": 63,
     "metadata": {},
     "output_type": "execute_result"
    }
   ],
   "source": [
    "tesla_stock_df.head()"
   ]
  },
  {
   "cell_type": "code",
   "execution_count": 64,
   "id": "6a92ad3d",
   "metadata": {
    "ExecuteTime": {
     "end_time": "2021-09-15T19:51:34.186105Z",
     "start_time": "2021-09-15T19:51:34.179530Z"
    }
   },
   "outputs": [
    {
     "data": {
      "text/html": [
       "<div>\n",
       "<style scoped>\n",
       "    .dataframe tbody tr th:only-of-type {\n",
       "        vertical-align: middle;\n",
       "    }\n",
       "\n",
       "    .dataframe tbody tr th {\n",
       "        vertical-align: top;\n",
       "    }\n",
       "\n",
       "    .dataframe thead th {\n",
       "        text-align: right;\n",
       "    }\n",
       "</style>\n",
       "<table border=\"1\" class=\"dataframe\">\n",
       "  <thead>\n",
       "    <tr style=\"text-align: right;\">\n",
       "      <th></th>\n",
       "      <th>Tweet_compound_score</th>\n",
       "      <th>Tweet_positive_score</th>\n",
       "      <th>Tweet_negative_score</th>\n",
       "      <th>Tweet_neutral_score</th>\n",
       "      <th>retweets_count</th>\n",
       "      <th>likes_count</th>\n",
       "      <th>daily_tweet_count</th>\n",
       "    </tr>\n",
       "    <tr>\n",
       "      <th>date</th>\n",
       "      <th></th>\n",
       "      <th></th>\n",
       "      <th></th>\n",
       "      <th></th>\n",
       "      <th></th>\n",
       "      <th></th>\n",
       "      <th></th>\n",
       "    </tr>\n",
       "  </thead>\n",
       "  <tbody>\n",
       "    <tr>\n",
       "      <th>2015-01-30</th>\n",
       "      <td>0.318200</td>\n",
       "      <td>0.150000</td>\n",
       "      <td>0.00000</td>\n",
       "      <td>0.850000</td>\n",
       "      <td>462.000000</td>\n",
       "      <td>796.000000</td>\n",
       "      <td>1</td>\n",
       "    </tr>\n",
       "    <tr>\n",
       "      <th>2015-02-08</th>\n",
       "      <td>0.165350</td>\n",
       "      <td>0.073750</td>\n",
       "      <td>0.03525</td>\n",
       "      <td>0.891000</td>\n",
       "      <td>1527.750000</td>\n",
       "      <td>2115.250000</td>\n",
       "      <td>1</td>\n",
       "    </tr>\n",
       "    <tr>\n",
       "      <th>2015-02-10</th>\n",
       "      <td>0.181967</td>\n",
       "      <td>0.087000</td>\n",
       "      <td>0.02300</td>\n",
       "      <td>0.890000</td>\n",
       "      <td>526.666667</td>\n",
       "      <td>773.666667</td>\n",
       "      <td>1</td>\n",
       "    </tr>\n",
       "    <tr>\n",
       "      <th>2015-02-11</th>\n",
       "      <td>0.275738</td>\n",
       "      <td>0.109625</td>\n",
       "      <td>0.00725</td>\n",
       "      <td>0.883125</td>\n",
       "      <td>1361.625000</td>\n",
       "      <td>2531.750000</td>\n",
       "      <td>1</td>\n",
       "    </tr>\n",
       "    <tr>\n",
       "      <th>2015-02-12</th>\n",
       "      <td>0.000000</td>\n",
       "      <td>0.000000</td>\n",
       "      <td>0.00000</td>\n",
       "      <td>1.000000</td>\n",
       "      <td>1467.000000</td>\n",
       "      <td>2660.000000</td>\n",
       "      <td>1</td>\n",
       "    </tr>\n",
       "  </tbody>\n",
       "</table>\n",
       "</div>"
      ],
      "text/plain": [
       "            Tweet_compound_score  Tweet_positive_score  Tweet_negative_score  \\\n",
       "date                                                                           \n",
       "2015-01-30              0.318200              0.150000               0.00000   \n",
       "2015-02-08              0.165350              0.073750               0.03525   \n",
       "2015-02-10              0.181967              0.087000               0.02300   \n",
       "2015-02-11              0.275738              0.109625               0.00725   \n",
       "2015-02-12              0.000000              0.000000               0.00000   \n",
       "\n",
       "            Tweet_neutral_score  retweets_count  likes_count  \\\n",
       "date                                                           \n",
       "2015-01-30             0.850000      462.000000   796.000000   \n",
       "2015-02-08             0.891000     1527.750000  2115.250000   \n",
       "2015-02-10             0.890000      526.666667   773.666667   \n",
       "2015-02-11             0.883125     1361.625000  2531.750000   \n",
       "2015-02-12             1.000000     1467.000000  2660.000000   \n",
       "\n",
       "            daily_tweet_count  \n",
       "date                           \n",
       "2015-01-30                  1  \n",
       "2015-02-08                  1  \n",
       "2015-02-10                  1  \n",
       "2015-02-11                  1  \n",
       "2015-02-12                  1  "
      ]
     },
     "execution_count": 64,
     "metadata": {},
     "output_type": "execute_result"
    }
   ],
   "source": [
    "tesla_tweets_final.head()"
   ]
  },
  {
   "cell_type": "code",
   "execution_count": 65,
   "id": "3d0e8dff",
   "metadata": {
    "ExecuteTime": {
     "end_time": "2021-09-15T19:51:34.193918Z",
     "start_time": "2021-09-15T19:51:34.187100Z"
    }
   },
   "outputs": [],
   "source": [
    "tesla_stock_df['Date'] = pd.to_datetime(tesla_stock_df['Date'], format= \"%m/%d/%Y\")"
   ]
  },
  {
   "cell_type": "code",
   "execution_count": 66,
   "id": "c996cf9b",
   "metadata": {
    "ExecuteTime": {
     "end_time": "2021-09-15T19:51:34.203587Z",
     "start_time": "2021-09-15T19:51:34.194861Z"
    }
   },
   "outputs": [
    {
     "data": {
      "text/html": [
       "<div>\n",
       "<style scoped>\n",
       "    .dataframe tbody tr th:only-of-type {\n",
       "        vertical-align: middle;\n",
       "    }\n",
       "\n",
       "    .dataframe tbody tr th {\n",
       "        vertical-align: top;\n",
       "    }\n",
       "\n",
       "    .dataframe thead th {\n",
       "        text-align: right;\n",
       "    }\n",
       "</style>\n",
       "<table border=\"1\" class=\"dataframe\">\n",
       "  <thead>\n",
       "    <tr style=\"text-align: right;\">\n",
       "      <th></th>\n",
       "      <th>Date</th>\n",
       "      <th>Close/Last</th>\n",
       "      <th>Volume</th>\n",
       "      <th>Open</th>\n",
       "      <th>High</th>\n",
       "      <th>Low</th>\n",
       "    </tr>\n",
       "  </thead>\n",
       "  <tbody>\n",
       "    <tr>\n",
       "      <th>0</th>\n",
       "      <td>2021-08-30</td>\n",
       "      <td>730.910</td>\n",
       "      <td>18604220</td>\n",
       "      <td>714.715</td>\n",
       "      <td>731.000</td>\n",
       "      <td>712.7300</td>\n",
       "    </tr>\n",
       "    <tr>\n",
       "      <th>1</th>\n",
       "      <td>2021-08-27</td>\n",
       "      <td>711.920</td>\n",
       "      <td>13833760</td>\n",
       "      <td>705.000</td>\n",
       "      <td>715.000</td>\n",
       "      <td>702.1001</td>\n",
       "    </tr>\n",
       "    <tr>\n",
       "      <th>2</th>\n",
       "      <td>2021-08-26</td>\n",
       "      <td>701.160</td>\n",
       "      <td>13214290</td>\n",
       "      <td>708.310</td>\n",
       "      <td>715.400</td>\n",
       "      <td>697.6201</td>\n",
       "    </tr>\n",
       "    <tr>\n",
       "      <th>3</th>\n",
       "      <td>2021-08-25</td>\n",
       "      <td>711.200</td>\n",
       "      <td>12645560</td>\n",
       "      <td>707.030</td>\n",
       "      <td>716.970</td>\n",
       "      <td>704.0000</td>\n",
       "    </tr>\n",
       "    <tr>\n",
       "      <th>4</th>\n",
       "      <td>2021-08-24</td>\n",
       "      <td>708.490</td>\n",
       "      <td>13083070</td>\n",
       "      <td>710.680</td>\n",
       "      <td>715.220</td>\n",
       "      <td>702.6400</td>\n",
       "    </tr>\n",
       "    <tr>\n",
       "      <th>...</th>\n",
       "      <td>...</td>\n",
       "      <td>...</td>\n",
       "      <td>...</td>\n",
       "      <td>...</td>\n",
       "      <td>...</td>\n",
       "      <td>...</td>\n",
       "    </tr>\n",
       "    <tr>\n",
       "      <th>2511</th>\n",
       "      <td>2011-09-07</td>\n",
       "      <td>4.768</td>\n",
       "      <td>2295930</td>\n",
       "      <td>4.678</td>\n",
       "      <td>4.800</td>\n",
       "      <td>4.6560</td>\n",
       "    </tr>\n",
       "    <tr>\n",
       "      <th>2512</th>\n",
       "      <td>2011-09-06</td>\n",
       "      <td>4.588</td>\n",
       "      <td>4048800</td>\n",
       "      <td>4.500</td>\n",
       "      <td>4.640</td>\n",
       "      <td>4.4580</td>\n",
       "    </tr>\n",
       "    <tr>\n",
       "      <th>2513</th>\n",
       "      <td>2011-09-02</td>\n",
       "      <td>4.614</td>\n",
       "      <td>3849155</td>\n",
       "      <td>4.732</td>\n",
       "      <td>4.798</td>\n",
       "      <td>4.5360</td>\n",
       "    </tr>\n",
       "    <tr>\n",
       "      <th>2514</th>\n",
       "      <td>2011-09-01</td>\n",
       "      <td>4.800</td>\n",
       "      <td>4240425</td>\n",
       "      <td>4.932</td>\n",
       "      <td>4.974</td>\n",
       "      <td>4.7670</td>\n",
       "    </tr>\n",
       "    <tr>\n",
       "      <th>2515</th>\n",
       "      <td>2011-08-31</td>\n",
       "      <td>4.948</td>\n",
       "      <td>4118675</td>\n",
       "      <td>4.960</td>\n",
       "      <td>5.100</td>\n",
       "      <td>4.8560</td>\n",
       "    </tr>\n",
       "  </tbody>\n",
       "</table>\n",
       "<p>2516 rows × 6 columns</p>\n",
       "</div>"
      ],
      "text/plain": [
       "           Date  Close/Last    Volume     Open     High       Low\n",
       "0    2021-08-30     730.910  18604220  714.715  731.000  712.7300\n",
       "1    2021-08-27     711.920  13833760  705.000  715.000  702.1001\n",
       "2    2021-08-26     701.160  13214290  708.310  715.400  697.6201\n",
       "3    2021-08-25     711.200  12645560  707.030  716.970  704.0000\n",
       "4    2021-08-24     708.490  13083070  710.680  715.220  702.6400\n",
       "...         ...         ...       ...      ...      ...       ...\n",
       "2511 2011-09-07       4.768   2295930    4.678    4.800    4.6560\n",
       "2512 2011-09-06       4.588   4048800    4.500    4.640    4.4580\n",
       "2513 2011-09-02       4.614   3849155    4.732    4.798    4.5360\n",
       "2514 2011-09-01       4.800   4240425    4.932    4.974    4.7670\n",
       "2515 2011-08-31       4.948   4118675    4.960    5.100    4.8560\n",
       "\n",
       "[2516 rows x 6 columns]"
      ]
     },
     "execution_count": 66,
     "metadata": {},
     "output_type": "execute_result"
    }
   ],
   "source": [
    "tesla_stock_df"
   ]
  },
  {
   "cell_type": "code",
   "execution_count": 67,
   "id": "5bc77490",
   "metadata": {
    "ExecuteTime": {
     "end_time": "2021-09-15T19:51:34.206845Z",
     "start_time": "2021-09-15T19:51:34.204573Z"
    }
   },
   "outputs": [],
   "source": [
    "tesla_tweets_final.index= pd.to_datetime(tesla_tweets_final.index)"
   ]
  },
  {
   "cell_type": "code",
   "execution_count": 68,
   "id": "6e098e47",
   "metadata": {
    "ExecuteTime": {
     "end_time": "2021-09-15T19:51:34.232665Z",
     "start_time": "2021-09-15T19:51:34.216008Z"
    }
   },
   "outputs": [
    {
     "data": {
      "text/html": [
       "<div>\n",
       "<style scoped>\n",
       "    .dataframe tbody tr th:only-of-type {\n",
       "        vertical-align: middle;\n",
       "    }\n",
       "\n",
       "    .dataframe tbody tr th {\n",
       "        vertical-align: top;\n",
       "    }\n",
       "\n",
       "    .dataframe thead th {\n",
       "        text-align: right;\n",
       "    }\n",
       "</style>\n",
       "<table border=\"1\" class=\"dataframe\">\n",
       "  <thead>\n",
       "    <tr style=\"text-align: right;\">\n",
       "      <th></th>\n",
       "      <th>Date</th>\n",
       "      <th>Close/Last</th>\n",
       "      <th>Volume</th>\n",
       "      <th>Open</th>\n",
       "      <th>High</th>\n",
       "      <th>Low</th>\n",
       "      <th>Tweet_compound_score</th>\n",
       "      <th>Tweet_positive_score</th>\n",
       "      <th>Tweet_negative_score</th>\n",
       "      <th>Tweet_neutral_score</th>\n",
       "      <th>retweets_count</th>\n",
       "      <th>likes_count</th>\n",
       "      <th>daily_tweet_count</th>\n",
       "    </tr>\n",
       "  </thead>\n",
       "  <tbody>\n",
       "    <tr>\n",
       "      <th>0</th>\n",
       "      <td>2020-07-14</td>\n",
       "      <td>303.360</td>\n",
       "      <td>117090700</td>\n",
       "      <td>311.200</td>\n",
       "      <td>318.0000</td>\n",
       "      <td>286.200</td>\n",
       "      <td>0.522350</td>\n",
       "      <td>1.000000</td>\n",
       "      <td>0.000000</td>\n",
       "      <td>0.000000</td>\n",
       "      <td>178.000000</td>\n",
       "      <td>6062.000000</td>\n",
       "      <td>1</td>\n",
       "    </tr>\n",
       "    <tr>\n",
       "      <th>1</th>\n",
       "      <td>2020-07-13</td>\n",
       "      <td>299.412</td>\n",
       "      <td>194926800</td>\n",
       "      <td>331.800</td>\n",
       "      <td>358.9980</td>\n",
       "      <td>294.222</td>\n",
       "      <td>0.164587</td>\n",
       "      <td>0.216067</td>\n",
       "      <td>0.098333</td>\n",
       "      <td>0.618933</td>\n",
       "      <td>196.266667</td>\n",
       "      <td>5705.333333</td>\n",
       "      <td>1</td>\n",
       "    </tr>\n",
       "    <tr>\n",
       "      <th>2</th>\n",
       "      <td>2020-07-10</td>\n",
       "      <td>308.930</td>\n",
       "      <td>116687750</td>\n",
       "      <td>279.200</td>\n",
       "      <td>309.7830</td>\n",
       "      <td>275.202</td>\n",
       "      <td>0.267573</td>\n",
       "      <td>0.315727</td>\n",
       "      <td>0.050273</td>\n",
       "      <td>0.543045</td>\n",
       "      <td>540.772727</td>\n",
       "      <td>9638.545455</td>\n",
       "      <td>1</td>\n",
       "    </tr>\n",
       "    <tr>\n",
       "      <th>3</th>\n",
       "      <td>2020-07-09</td>\n",
       "      <td>278.856</td>\n",
       "      <td>58588000</td>\n",
       "      <td>279.398</td>\n",
       "      <td>281.7120</td>\n",
       "      <td>270.256</td>\n",
       "      <td>0.062012</td>\n",
       "      <td>0.278250</td>\n",
       "      <td>0.100125</td>\n",
       "      <td>0.621625</td>\n",
       "      <td>1674.750000</td>\n",
       "      <td>30163.875000</td>\n",
       "      <td>1</td>\n",
       "    </tr>\n",
       "    <tr>\n",
       "      <th>4</th>\n",
       "      <td>2020-07-08</td>\n",
       "      <td>273.176</td>\n",
       "      <td>81556550</td>\n",
       "      <td>281.000</td>\n",
       "      <td>283.4520</td>\n",
       "      <td>262.268</td>\n",
       "      <td>0.149550</td>\n",
       "      <td>0.261500</td>\n",
       "      <td>0.147000</td>\n",
       "      <td>0.591500</td>\n",
       "      <td>1816.000000</td>\n",
       "      <td>23619.000000</td>\n",
       "      <td>1</td>\n",
       "    </tr>\n",
       "    <tr>\n",
       "      <th>...</th>\n",
       "      <td>...</td>\n",
       "      <td>...</td>\n",
       "      <td>...</td>\n",
       "      <td>...</td>\n",
       "      <td>...</td>\n",
       "      <td>...</td>\n",
       "      <td>...</td>\n",
       "      <td>...</td>\n",
       "      <td>...</td>\n",
       "      <td>...</td>\n",
       "      <td>...</td>\n",
       "      <td>...</td>\n",
       "      <td>...</td>\n",
       "    </tr>\n",
       "    <tr>\n",
       "      <th>943</th>\n",
       "      <td>2015-02-24</td>\n",
       "      <td>40.822</td>\n",
       "      <td>32936490</td>\n",
       "      <td>41.458</td>\n",
       "      <td>41.4580</td>\n",
       "      <td>40.340</td>\n",
       "      <td>0.636900</td>\n",
       "      <td>0.219000</td>\n",
       "      <td>0.000000</td>\n",
       "      <td>0.781000</td>\n",
       "      <td>1668.000000</td>\n",
       "      <td>2101.000000</td>\n",
       "      <td>1</td>\n",
       "    </tr>\n",
       "    <tr>\n",
       "      <th>944</th>\n",
       "      <td>2015-02-12</td>\n",
       "      <td>40.576</td>\n",
       "      <td>78134150</td>\n",
       "      <td>38.714</td>\n",
       "      <td>40.6176</td>\n",
       "      <td>38.656</td>\n",
       "      <td>0.000000</td>\n",
       "      <td>0.000000</td>\n",
       "      <td>0.000000</td>\n",
       "      <td>1.000000</td>\n",
       "      <td>1467.000000</td>\n",
       "      <td>2660.000000</td>\n",
       "      <td>1</td>\n",
       "    </tr>\n",
       "    <tr>\n",
       "      <th>945</th>\n",
       "      <td>2015-02-11</td>\n",
       "      <td>42.560</td>\n",
       "      <td>45265415</td>\n",
       "      <td>42.442</td>\n",
       "      <td>42.9480</td>\n",
       "      <td>41.456</td>\n",
       "      <td>0.275738</td>\n",
       "      <td>0.109625</td>\n",
       "      <td>0.007250</td>\n",
       "      <td>0.883125</td>\n",
       "      <td>1361.625000</td>\n",
       "      <td>2531.750000</td>\n",
       "      <td>1</td>\n",
       "    </tr>\n",
       "    <tr>\n",
       "      <th>946</th>\n",
       "      <td>2015-02-10</td>\n",
       "      <td>43.258</td>\n",
       "      <td>26744310</td>\n",
       "      <td>43.510</td>\n",
       "      <td>44.1000</td>\n",
       "      <td>43.000</td>\n",
       "      <td>0.181967</td>\n",
       "      <td>0.087000</td>\n",
       "      <td>0.023000</td>\n",
       "      <td>0.890000</td>\n",
       "      <td>526.666667</td>\n",
       "      <td>773.666667</td>\n",
       "      <td>1</td>\n",
       "    </tr>\n",
       "    <tr>\n",
       "      <th>947</th>\n",
       "      <td>2015-01-30</td>\n",
       "      <td>40.720</td>\n",
       "      <td>15006340</td>\n",
       "      <td>40.792</td>\n",
       "      <td>41.4940</td>\n",
       "      <td>40.600</td>\n",
       "      <td>0.318200</td>\n",
       "      <td>0.150000</td>\n",
       "      <td>0.000000</td>\n",
       "      <td>0.850000</td>\n",
       "      <td>462.000000</td>\n",
       "      <td>796.000000</td>\n",
       "      <td>1</td>\n",
       "    </tr>\n",
       "  </tbody>\n",
       "</table>\n",
       "<p>948 rows × 13 columns</p>\n",
       "</div>"
      ],
      "text/plain": [
       "          Date  Close/Last     Volume     Open      High      Low  \\\n",
       "0   2020-07-14     303.360  117090700  311.200  318.0000  286.200   \n",
       "1   2020-07-13     299.412  194926800  331.800  358.9980  294.222   \n",
       "2   2020-07-10     308.930  116687750  279.200  309.7830  275.202   \n",
       "3   2020-07-09     278.856   58588000  279.398  281.7120  270.256   \n",
       "4   2020-07-08     273.176   81556550  281.000  283.4520  262.268   \n",
       "..         ...         ...        ...      ...       ...      ...   \n",
       "943 2015-02-24      40.822   32936490   41.458   41.4580   40.340   \n",
       "944 2015-02-12      40.576   78134150   38.714   40.6176   38.656   \n",
       "945 2015-02-11      42.560   45265415   42.442   42.9480   41.456   \n",
       "946 2015-02-10      43.258   26744310   43.510   44.1000   43.000   \n",
       "947 2015-01-30      40.720   15006340   40.792   41.4940   40.600   \n",
       "\n",
       "     Tweet_compound_score  Tweet_positive_score  Tweet_negative_score  \\\n",
       "0                0.522350              1.000000              0.000000   \n",
       "1                0.164587              0.216067              0.098333   \n",
       "2                0.267573              0.315727              0.050273   \n",
       "3                0.062012              0.278250              0.100125   \n",
       "4                0.149550              0.261500              0.147000   \n",
       "..                    ...                   ...                   ...   \n",
       "943              0.636900              0.219000              0.000000   \n",
       "944              0.000000              0.000000              0.000000   \n",
       "945              0.275738              0.109625              0.007250   \n",
       "946              0.181967              0.087000              0.023000   \n",
       "947              0.318200              0.150000              0.000000   \n",
       "\n",
       "     Tweet_neutral_score  retweets_count   likes_count  daily_tweet_count  \n",
       "0               0.000000      178.000000   6062.000000                  1  \n",
       "1               0.618933      196.266667   5705.333333                  1  \n",
       "2               0.543045      540.772727   9638.545455                  1  \n",
       "3               0.621625     1674.750000  30163.875000                  1  \n",
       "4               0.591500     1816.000000  23619.000000                  1  \n",
       "..                   ...             ...           ...                ...  \n",
       "943             0.781000     1668.000000   2101.000000                  1  \n",
       "944             1.000000     1467.000000   2660.000000                  1  \n",
       "945             0.883125     1361.625000   2531.750000                  1  \n",
       "946             0.890000      526.666667    773.666667                  1  \n",
       "947             0.850000      462.000000    796.000000                  1  \n",
       "\n",
       "[948 rows x 13 columns]"
      ]
     },
     "execution_count": 68,
     "metadata": {},
     "output_type": "execute_result"
    }
   ],
   "source": [
    "#set a date time so can merge\n",
    "# df_tweets_clean['date']=pd.to_datetime(df_tweets_clean['date'])\n",
    "\n",
    "## combine the dataframe together\n",
    "\n",
    "tesla_stock_df['Date'] =  pd.to_datetime(tesla_stock_df['Date'])\n",
    "df_tweets_clean= tesla_stock_df.merge(tesla_tweets_final, how='inner', left_on= \"Date\", right_on='date')\n",
    "\n",
    "\n",
    "df_tweets_clean"
   ]
  },
  {
   "cell_type": "code",
   "execution_count": 69,
   "id": "12299170",
   "metadata": {
    "ExecuteTime": {
     "end_time": "2021-09-15T19:51:34.240643Z",
     "start_time": "2021-09-15T19:51:34.236631Z"
    }
   },
   "outputs": [],
   "source": [
    "df_tweets_clean['Day_Net']= df_tweets_clean['Open']-df_tweets_clean['Close/Last']\n",
    "df_tweets_clean['Green']= np.where(df_tweets_clean['Day_Net']>0,1,0)\n",
    "df_tweets_clean=df_tweets_clean.drop(['Close/Last', 'Volume', 'Open', 'High', 'Low','Day_Net','daily_tweet_count'],1)"
   ]
  },
  {
   "cell_type": "code",
   "execution_count": 70,
   "id": "3a2cb4ea",
   "metadata": {
    "ExecuteTime": {
     "end_time": "2021-09-15T19:51:34.250635Z",
     "start_time": "2021-09-15T19:51:34.241760Z"
    }
   },
   "outputs": [
    {
     "data": {
      "text/html": [
       "<div>\n",
       "<style scoped>\n",
       "    .dataframe tbody tr th:only-of-type {\n",
       "        vertical-align: middle;\n",
       "    }\n",
       "\n",
       "    .dataframe tbody tr th {\n",
       "        vertical-align: top;\n",
       "    }\n",
       "\n",
       "    .dataframe thead th {\n",
       "        text-align: right;\n",
       "    }\n",
       "</style>\n",
       "<table border=\"1\" class=\"dataframe\">\n",
       "  <thead>\n",
       "    <tr style=\"text-align: right;\">\n",
       "      <th></th>\n",
       "      <th>Date</th>\n",
       "      <th>Tweet_compound_score</th>\n",
       "      <th>Tweet_positive_score</th>\n",
       "      <th>Tweet_negative_score</th>\n",
       "      <th>Tweet_neutral_score</th>\n",
       "      <th>retweets_count</th>\n",
       "      <th>likes_count</th>\n",
       "      <th>Green</th>\n",
       "    </tr>\n",
       "  </thead>\n",
       "  <tbody>\n",
       "    <tr>\n",
       "      <th>0</th>\n",
       "      <td>2020-07-14</td>\n",
       "      <td>0.522350</td>\n",
       "      <td>1.000000</td>\n",
       "      <td>0.000000</td>\n",
       "      <td>0.000000</td>\n",
       "      <td>178.000000</td>\n",
       "      <td>6062.000000</td>\n",
       "      <td>1</td>\n",
       "    </tr>\n",
       "    <tr>\n",
       "      <th>1</th>\n",
       "      <td>2020-07-13</td>\n",
       "      <td>0.164587</td>\n",
       "      <td>0.216067</td>\n",
       "      <td>0.098333</td>\n",
       "      <td>0.618933</td>\n",
       "      <td>196.266667</td>\n",
       "      <td>5705.333333</td>\n",
       "      <td>1</td>\n",
       "    </tr>\n",
       "    <tr>\n",
       "      <th>2</th>\n",
       "      <td>2020-07-10</td>\n",
       "      <td>0.267573</td>\n",
       "      <td>0.315727</td>\n",
       "      <td>0.050273</td>\n",
       "      <td>0.543045</td>\n",
       "      <td>540.772727</td>\n",
       "      <td>9638.545455</td>\n",
       "      <td>0</td>\n",
       "    </tr>\n",
       "    <tr>\n",
       "      <th>3</th>\n",
       "      <td>2020-07-09</td>\n",
       "      <td>0.062012</td>\n",
       "      <td>0.278250</td>\n",
       "      <td>0.100125</td>\n",
       "      <td>0.621625</td>\n",
       "      <td>1674.750000</td>\n",
       "      <td>30163.875000</td>\n",
       "      <td>1</td>\n",
       "    </tr>\n",
       "    <tr>\n",
       "      <th>4</th>\n",
       "      <td>2020-07-08</td>\n",
       "      <td>0.149550</td>\n",
       "      <td>0.261500</td>\n",
       "      <td>0.147000</td>\n",
       "      <td>0.591500</td>\n",
       "      <td>1816.000000</td>\n",
       "      <td>23619.000000</td>\n",
       "      <td>1</td>\n",
       "    </tr>\n",
       "    <tr>\n",
       "      <th>...</th>\n",
       "      <td>...</td>\n",
       "      <td>...</td>\n",
       "      <td>...</td>\n",
       "      <td>...</td>\n",
       "      <td>...</td>\n",
       "      <td>...</td>\n",
       "      <td>...</td>\n",
       "      <td>...</td>\n",
       "    </tr>\n",
       "    <tr>\n",
       "      <th>943</th>\n",
       "      <td>2015-02-24</td>\n",
       "      <td>0.636900</td>\n",
       "      <td>0.219000</td>\n",
       "      <td>0.000000</td>\n",
       "      <td>0.781000</td>\n",
       "      <td>1668.000000</td>\n",
       "      <td>2101.000000</td>\n",
       "      <td>1</td>\n",
       "    </tr>\n",
       "    <tr>\n",
       "      <th>944</th>\n",
       "      <td>2015-02-12</td>\n",
       "      <td>0.000000</td>\n",
       "      <td>0.000000</td>\n",
       "      <td>0.000000</td>\n",
       "      <td>1.000000</td>\n",
       "      <td>1467.000000</td>\n",
       "      <td>2660.000000</td>\n",
       "      <td>0</td>\n",
       "    </tr>\n",
       "    <tr>\n",
       "      <th>945</th>\n",
       "      <td>2015-02-11</td>\n",
       "      <td>0.275738</td>\n",
       "      <td>0.109625</td>\n",
       "      <td>0.007250</td>\n",
       "      <td>0.883125</td>\n",
       "      <td>1361.625000</td>\n",
       "      <td>2531.750000</td>\n",
       "      <td>0</td>\n",
       "    </tr>\n",
       "    <tr>\n",
       "      <th>946</th>\n",
       "      <td>2015-02-10</td>\n",
       "      <td>0.181967</td>\n",
       "      <td>0.087000</td>\n",
       "      <td>0.023000</td>\n",
       "      <td>0.890000</td>\n",
       "      <td>526.666667</td>\n",
       "      <td>773.666667</td>\n",
       "      <td>1</td>\n",
       "    </tr>\n",
       "    <tr>\n",
       "      <th>947</th>\n",
       "      <td>2015-01-30</td>\n",
       "      <td>0.318200</td>\n",
       "      <td>0.150000</td>\n",
       "      <td>0.000000</td>\n",
       "      <td>0.850000</td>\n",
       "      <td>462.000000</td>\n",
       "      <td>796.000000</td>\n",
       "      <td>1</td>\n",
       "    </tr>\n",
       "  </tbody>\n",
       "</table>\n",
       "<p>948 rows × 8 columns</p>\n",
       "</div>"
      ],
      "text/plain": [
       "          Date  Tweet_compound_score  Tweet_positive_score  \\\n",
       "0   2020-07-14              0.522350              1.000000   \n",
       "1   2020-07-13              0.164587              0.216067   \n",
       "2   2020-07-10              0.267573              0.315727   \n",
       "3   2020-07-09              0.062012              0.278250   \n",
       "4   2020-07-08              0.149550              0.261500   \n",
       "..         ...                   ...                   ...   \n",
       "943 2015-02-24              0.636900              0.219000   \n",
       "944 2015-02-12              0.000000              0.000000   \n",
       "945 2015-02-11              0.275738              0.109625   \n",
       "946 2015-02-10              0.181967              0.087000   \n",
       "947 2015-01-30              0.318200              0.150000   \n",
       "\n",
       "     Tweet_negative_score  Tweet_neutral_score  retweets_count   likes_count  \\\n",
       "0                0.000000             0.000000      178.000000   6062.000000   \n",
       "1                0.098333             0.618933      196.266667   5705.333333   \n",
       "2                0.050273             0.543045      540.772727   9638.545455   \n",
       "3                0.100125             0.621625     1674.750000  30163.875000   \n",
       "4                0.147000             0.591500     1816.000000  23619.000000   \n",
       "..                    ...                  ...             ...           ...   \n",
       "943              0.000000             0.781000     1668.000000   2101.000000   \n",
       "944              0.000000             1.000000     1467.000000   2660.000000   \n",
       "945              0.007250             0.883125     1361.625000   2531.750000   \n",
       "946              0.023000             0.890000      526.666667    773.666667   \n",
       "947              0.000000             0.850000      462.000000    796.000000   \n",
       "\n",
       "     Green  \n",
       "0        1  \n",
       "1        1  \n",
       "2        0  \n",
       "3        1  \n",
       "4        1  \n",
       "..     ...  \n",
       "943      1  \n",
       "944      0  \n",
       "945      0  \n",
       "946      1  \n",
       "947      1  \n",
       "\n",
       "[948 rows x 8 columns]"
      ]
     },
     "execution_count": 70,
     "metadata": {},
     "output_type": "execute_result"
    }
   ],
   "source": [
    "df_tweets_clean"
   ]
  },
  {
   "cell_type": "markdown",
   "id": "72879490",
   "metadata": {},
   "source": [
    "### Let's Run Some models with the Tweets"
   ]
  },
  {
   "cell_type": "code",
   "execution_count": 71,
   "id": "e2d97772",
   "metadata": {
    "ExecuteTime": {
     "end_time": "2021-09-15T19:51:34.255244Z",
     "start_time": "2021-09-15T19:51:34.251626Z"
    }
   },
   "outputs": [],
   "source": [
    "X_tweet= df_tweets_clean.drop(['Green','Date'],1)\n",
    "y_tweet=df_tweets_clean['Green']\n",
    "\n",
    "X_train_t, X_test_t, y_train_t, y_test_t = train_test_split(X_tweet, y_tweet, test_size = 0.3, random_state=42)"
   ]
  },
  {
   "cell_type": "code",
   "execution_count": 72,
   "id": "3a2116c2",
   "metadata": {
    "ExecuteTime": {
     "end_time": "2021-09-15T19:51:34.259286Z",
     "start_time": "2021-09-15T19:51:34.256194Z"
    }
   },
   "outputs": [],
   "source": [
    "## Adjust the scores for new train \n",
    "def scores_tweet(model, actual = y_test_t ,X_train_scaled = X_train_t, X_test_scaled = X_test_t,y_train = y_train_t):\n",
    "    pred_train = model.predict(X_train_scaled)\n",
    "    pred_test = model.predict(X_test_scaled)\n",
    "    \n",
    "    print(\"Train Scores\")\n",
    "    print(\"log loss: \", log_loss(y_train, pred_train))\n",
    "    print(\"accuracy: \", accuracy_score(y_train, pred_train))\n",
    "    print(\"precision:\", precision_score(y_train, pred_train))\n",
    "    print(\"recall:   \", recall_score(y_train, pred_train))\n",
    "    plot_confusion_matrix(model, X_train_scaled, y_train)\n",
    "    \n",
    "    print(\"Test Scores\")\n",
    "    print(\"log loss: \", log_loss(actual, pred_test))\n",
    "    print(\"accuracy: \", accuracy_score(actual, pred_test))\n",
    "    print(\"precision:\", precision_score(actual, pred_test))\n",
    "    print(\"recall:   \", recall_score(actual, pred_test))\n",
    "    \n",
    "    \n",
    "    plot_confusion_matrix(model, X_test_scaled, actual)"
   ]
  },
  {
   "cell_type": "code",
   "execution_count": 73,
   "id": "f134f147",
   "metadata": {
    "ExecuteTime": {
     "end_time": "2021-09-15T19:51:34.451316Z",
     "start_time": "2021-09-15T19:51:34.260231Z"
    }
   },
   "outputs": [
    {
     "name": "stdout",
     "output_type": "stream",
     "text": [
      "              precision    recall  f1-score   support\n",
      "\n",
      "           0       0.49      0.66      0.56       143\n",
      "           1       0.48      0.32      0.38       142\n",
      "\n",
      "    accuracy                           0.49       285\n",
      "   macro avg       0.49      0.49      0.47       285\n",
      "weighted avg       0.49      0.49      0.47       285\n",
      "\n",
      "Train Scores\n",
      "log loss:  15.941083469394897\n",
      "accuracy:  0.5384615384615384\n",
      "precision: 0.542713567839196\n",
      "recall:    0.33436532507739936\n",
      "Test Scores\n",
      "log loss:  17.693686083968558\n",
      "accuracy:  0.48771929824561405\n",
      "precision: 0.4787234042553192\n",
      "recall:    0.31690140845070425\n"
     ]
    },
    {
     "data": {
      "image/png": "[encoded data removed]",
      "text/plain": [
       "<Figure size 432x288 with 2 Axes>"
      ]
     },
     "metadata": {
      "needs_background": "light"
     },
     "output_type": "display_data"
    },
    {
     "data": {
      "image/png": "[encoded data removed]",
      "text/plain": [
       "<Figure size 432x288 with 2 Axes>"
      ]
     },
     "metadata": {
      "needs_background": "light"
     },
     "output_type": "display_data"
    }
   ],
   "source": [
    "## Logistic\n",
    "pipe.fit(X_train_t, y_train_t)\n",
    "log_preds_tweets=pipe.predict(X_test_t)\n",
    "\n",
    "print(classification_report(y_test_t,log_preds_tweets))\n",
    "scores_tweet(pipe, y_test_t)"
   ]
  },
  {
   "cell_type": "code",
   "execution_count": 74,
   "id": "9c7aceab",
   "metadata": {
    "ExecuteTime": {
     "end_time": "2021-09-15T19:51:37.001856Z",
     "start_time": "2021-09-15T19:51:34.452595Z"
    }
   },
   "outputs": [
    {
     "name": "stdout",
     "output_type": "stream",
     "text": [
      "              precision    recall  f1-score   support\n",
      "\n",
      "           0       0.49      0.50      0.49       143\n",
      "           1       0.48      0.47      0.48       142\n",
      "\n",
      "    accuracy                           0.48       285\n",
      "   macro avg       0.48      0.48      0.48       285\n",
      "weighted avg       0.48      0.48      0.48       285\n",
      "\n",
      "Train Scores\n",
      "log loss:  9.992007221626413e-16\n",
      "accuracy:  1.0\n",
      "precision: 1.0\n",
      "recall:    1.0\n",
      "Test Scores\n",
      "log loss:  17.814939301988925\n",
      "accuracy:  0.4842105263157895\n",
      "precision: 0.48201438848920863\n",
      "recall:    0.47183098591549294\n"
     ]
    },
    {
     "data": {
      "image/png": "[encoded data removed]",
      "text/plain": [
       "<Figure size 432x288 with 2 Axes>"
      ]
     },
     "metadata": {
      "needs_background": "light"
     },
     "output_type": "display_data"
    },
    {
     "data": {
      "image/png": "[encoded data removed]",
      "text/plain": [
       "<Figure size 432x288 with 2 Axes>"
      ]
     },
     "metadata": {
      "needs_background": "light"
     },
     "output_type": "display_data"
    }
   ],
   "source": [
    "##Random Forest \n",
    "\n",
    "pipe_RF.fit(X_train_t, y_train_t)\n",
    "rf_preds_tweets= pipe_RF.predict(X_test_t)\n",
    "\n",
    "\n",
    "print(classification_report(y_test_t,rf_preds_tweets))\n",
    "scores_tweet(pipe_RF, y_test_t)\n"
   ]
  },
  {
   "cell_type": "code",
   "execution_count": 75,
   "id": "b619d8d2",
   "metadata": {
    "ExecuteTime": {
     "end_time": "2021-09-15T19:51:37.206374Z",
     "start_time": "2021-09-15T19:51:37.003084Z"
    }
   },
   "outputs": [
    {
     "name": "stdout",
     "output_type": "stream",
     "text": [
      "              precision    recall  f1-score   support\n",
      "\n",
      "           0       0.33      0.02      0.04       143\n",
      "           1       0.49      0.96      0.65       142\n",
      "\n",
      "    accuracy                           0.49       285\n",
      "   macro avg       0.41      0.49      0.35       285\n",
      "weighted avg       0.41      0.49      0.34       285\n",
      "\n",
      "Train Scores\n",
      "log loss:  18.181444386988268\n",
      "accuracy:  0.473604826546003\n",
      "precision: 0.47955974842767296\n",
      "recall:    0.9442724458204335\n",
      "Test Scores\n",
      "log loss:  17.693941394025213\n",
      "accuracy:  0.48771929824561405\n",
      "precision: 0.4927536231884058\n",
      "recall:    0.9577464788732394\n"
     ]
    },
    {
     "data": {
      "image/png": "[encoded data removed]",
      "text/plain": [
       "<Figure size 432x288 with 2 Axes>"
      ]
     },
     "metadata": {
      "needs_background": "light"
     },
     "output_type": "display_data"
    },
    {
     "data": {
      "image/png": "[encoded data removed]",
      "text/plain": [
       "<Figure size 432x288 with 2 Axes>"
      ]
     },
     "metadata": {
      "needs_background": "light"
     },
     "output_type": "display_data"
    }
   ],
   "source": [
    "## Naive Bayes\n",
    "NB_clf.fit(X_train_t, y_train_t)\n",
    "nb_preds_tweets= NB_clf.predict(X_test_t)\n",
    "\n",
    "\n",
    "print(classification_report(y_test_t,nb_preds_tweets))\n",
    "scores_tweet(NB_clf, y_test_t)"
   ]
  },
  {
   "cell_type": "code",
   "execution_count": 76,
   "id": "10ef05c1",
   "metadata": {
    "ExecuteTime": {
     "end_time": "2021-09-15T19:51:37.477435Z",
     "start_time": "2021-09-15T19:51:37.207579Z"
    }
   },
   "outputs": [
    {
     "name": "stdout",
     "output_type": "stream",
     "text": [
      "              precision    recall  f1-score   support\n",
      "\n",
      "           0       0.47      0.47      0.47       143\n",
      "           1       0.46      0.46      0.46       142\n",
      "\n",
      "    accuracy                           0.47       285\n",
      "   macro avg       0.47      0.47      0.47       285\n",
      "weighted avg       0.47      0.47      0.47       285\n",
      "\n",
      "Train Scores\n",
      "log loss:  0.9898086701097211\n",
      "accuracy:  0.971342383107089\n",
      "precision: 0.975\n",
      "recall:    0.9659442724458205\n",
      "Test Scores\n",
      "log loss:  18.420893969933747\n",
      "accuracy:  0.4666666666666667\n",
      "precision: 0.4647887323943662\n",
      "recall:    0.4647887323943662\n"
     ]
    },
    {
     "data": {
      "image/png": "[encoded data removed]",
      "text/plain": [
       "<Figure size 432x288 with 2 Axes>"
      ]
     },
     "metadata": {
      "needs_background": "light"
     },
     "output_type": "display_data"
    },
    {
     "data": {
      "image/png": "[encoded data removed]",
      "text/plain": [
       "<Figure size 432x288 with 2 Axes>"
      ]
     },
     "metadata": {
      "needs_background": "light"
     },
     "output_type": "display_data"
    }
   ],
   "source": [
    "## XGBoost\n",
    "\n",
    "XGB_clf.fit(X_train_t, y_train_t)\n",
    "XGB_preds_tweets= XGB_clf.predict(X_test_t)\n",
    "\n",
    "\n",
    "print(classification_report(y_test_t,XGB_preds_tweets))\n",
    "scores_tweet(XGB_clf, y_test_t)"
   ]
  },
  {
   "cell_type": "code",
   "execution_count": 77,
   "id": "35d87147",
   "metadata": {
    "ExecuteTime": {
     "end_time": "2021-09-15T19:51:37.771831Z",
     "start_time": "2021-09-15T19:51:37.478957Z"
    }
   },
   "outputs": [
    {
     "name": "stdout",
     "output_type": "stream",
     "text": [
      "              precision    recall  f1-score   support\n",
      "\n",
      "           0       0.48      0.52      0.50       143\n",
      "           1       0.48      0.44      0.46       142\n",
      "\n",
      "    accuracy                           0.48       285\n",
      "   macro avg       0.48      0.48      0.48       285\n",
      "weighted avg       0.48      0.48      0.48       285\n",
      "\n",
      "Train Scores\n",
      "log loss:  3.959220208087204\n",
      "accuracy:  0.8853695324283559\n",
      "precision: 0.9303135888501742\n",
      "recall:    0.826625386996904\n",
      "Test Scores\n",
      "log loss:  17.936116768673806\n",
      "accuracy:  0.4807017543859649\n",
      "precision: 0.47692307692307695\n",
      "recall:    0.43661971830985913\n"
     ]
    },
    {
     "data": {
      "image/png": "[encoded data removed]",
      "text/plain": [
       "<Figure size 432x288 with 2 Axes>"
      ]
     },
     "metadata": {
      "needs_background": "light"
     },
     "output_type": "display_data"
    },
    {
     "data": {
      "image/png": "[encoded data removed]",
      "text/plain": [
       "<Figure size 432x288 with 2 Axes>"
      ]
     },
     "metadata": {
      "needs_background": "light"
     },
     "output_type": "display_data"
    }
   ],
   "source": [
    "GB_clf.fit(X_train_t, y_train_t)\n",
    "GB_preds_tweets= GB_clf.predict(X_test_t)\n",
    "\n",
    "print(classification_report(y_test_t,GB_preds_tweets))\n",
    "scores_tweet(GB_clf, y_test_t)"
   ]
  },
  {
   "cell_type": "markdown",
   "id": "623c7d69",
   "metadata": {},
   "source": [
    "## Reduce some Features"
   ]
  },
  {
   "cell_type": "code",
   "execution_count": 78,
   "id": "509da67e",
   "metadata": {
    "ExecuteTime": {
     "end_time": "2021-09-15T19:51:37.775348Z",
     "start_time": "2021-09-15T19:51:37.772942Z"
    }
   },
   "outputs": [],
   "source": [
    "def plot_feature_importance_tweet(model):\n",
    "    name=model.steps[1][0]\n",
    "    X_var=model.steps[1][1].feature_importances_\n",
    "    y_var=X_train_t.columns\n",
    "    sns.barplot(x=X_var, y= y_var)\n",
    "    plt.title(\"Tweet Feature Importance %s\" %name)"
   ]
  },
  {
   "cell_type": "code",
   "execution_count": 79,
   "id": "1a276464",
   "metadata": {
    "ExecuteTime": {
     "end_time": "2021-09-15T19:51:38.126153Z",
     "start_time": "2021-09-15T19:51:37.776624Z"
    }
   },
   "outputs": [
    {
     "data": {
      "image/png": "[encoded data removed]",
      "text/plain": [
       "<Figure size 432x288 with 1 Axes>"
      ]
     },
     "metadata": {
      "needs_background": "light"
     },
     "output_type": "display_data"
    },
    {
     "data": {
      "image/png": "[encoded data removed]",
      "text/plain": [
       "<Figure size 432x288 with 1 Axes>"
      ]
     },
     "metadata": {
      "needs_background": "light"
     },
     "output_type": "display_data"
    },
    {
     "data": {
      "image/png": "[encoded data removed]",
      "text/plain": [
       "<Figure size 432x288 with 1 Axes>"
      ]
     },
     "metadata": {
      "needs_background": "light"
     },
     "output_type": "display_data"
    }
   ],
   "source": [
    "models= [pipe_RF, XGB_clf, GB_clf]\n",
    "\n",
    "for model in models:    \n",
    "    plot_feature_importance_tweet(model)\n",
    "    plt.show()"
   ]
  },
  {
   "cell_type": "code",
   "execution_count": 80,
   "id": "d517352e",
   "metadata": {
    "ExecuteTime": {
     "end_time": "2021-09-15T19:51:38.135228Z",
     "start_time": "2021-09-15T19:51:38.127192Z"
    }
   },
   "outputs": [
    {
     "data": {
      "text/html": [
       "<div>\n",
       "<style scoped>\n",
       "    .dataframe tbody tr th:only-of-type {\n",
       "        vertical-align: middle;\n",
       "    }\n",
       "\n",
       "    .dataframe tbody tr th {\n",
       "        vertical-align: top;\n",
       "    }\n",
       "\n",
       "    .dataframe thead th {\n",
       "        text-align: right;\n",
       "    }\n",
       "</style>\n",
       "<table border=\"1\" class=\"dataframe\">\n",
       "  <thead>\n",
       "    <tr style=\"text-align: right;\">\n",
       "      <th></th>\n",
       "      <th>Date</th>\n",
       "      <th>Tweet_compound_score</th>\n",
       "      <th>Tweet_positive_score</th>\n",
       "      <th>Tweet_negative_score</th>\n",
       "      <th>Tweet_neutral_score</th>\n",
       "      <th>retweets_count</th>\n",
       "      <th>likes_count</th>\n",
       "      <th>Green</th>\n",
       "    </tr>\n",
       "  </thead>\n",
       "  <tbody>\n",
       "    <tr>\n",
       "      <th>0</th>\n",
       "      <td>2020-07-14</td>\n",
       "      <td>0.522350</td>\n",
       "      <td>1.000000</td>\n",
       "      <td>0.000000</td>\n",
       "      <td>0.000000</td>\n",
       "      <td>178.000000</td>\n",
       "      <td>6062.000000</td>\n",
       "      <td>1</td>\n",
       "    </tr>\n",
       "    <tr>\n",
       "      <th>1</th>\n",
       "      <td>2020-07-13</td>\n",
       "      <td>0.164587</td>\n",
       "      <td>0.216067</td>\n",
       "      <td>0.098333</td>\n",
       "      <td>0.618933</td>\n",
       "      <td>196.266667</td>\n",
       "      <td>5705.333333</td>\n",
       "      <td>1</td>\n",
       "    </tr>\n",
       "    <tr>\n",
       "      <th>2</th>\n",
       "      <td>2020-07-10</td>\n",
       "      <td>0.267573</td>\n",
       "      <td>0.315727</td>\n",
       "      <td>0.050273</td>\n",
       "      <td>0.543045</td>\n",
       "      <td>540.772727</td>\n",
       "      <td>9638.545455</td>\n",
       "      <td>0</td>\n",
       "    </tr>\n",
       "    <tr>\n",
       "      <th>3</th>\n",
       "      <td>2020-07-09</td>\n",
       "      <td>0.062012</td>\n",
       "      <td>0.278250</td>\n",
       "      <td>0.100125</td>\n",
       "      <td>0.621625</td>\n",
       "      <td>1674.750000</td>\n",
       "      <td>30163.875000</td>\n",
       "      <td>1</td>\n",
       "    </tr>\n",
       "    <tr>\n",
       "      <th>4</th>\n",
       "      <td>2020-07-08</td>\n",
       "      <td>0.149550</td>\n",
       "      <td>0.261500</td>\n",
       "      <td>0.147000</td>\n",
       "      <td>0.591500</td>\n",
       "      <td>1816.000000</td>\n",
       "      <td>23619.000000</td>\n",
       "      <td>1</td>\n",
       "    </tr>\n",
       "    <tr>\n",
       "      <th>...</th>\n",
       "      <td>...</td>\n",
       "      <td>...</td>\n",
       "      <td>...</td>\n",
       "      <td>...</td>\n",
       "      <td>...</td>\n",
       "      <td>...</td>\n",
       "      <td>...</td>\n",
       "      <td>...</td>\n",
       "    </tr>\n",
       "    <tr>\n",
       "      <th>943</th>\n",
       "      <td>2015-02-24</td>\n",
       "      <td>0.636900</td>\n",
       "      <td>0.219000</td>\n",
       "      <td>0.000000</td>\n",
       "      <td>0.781000</td>\n",
       "      <td>1668.000000</td>\n",
       "      <td>2101.000000</td>\n",
       "      <td>1</td>\n",
       "    </tr>\n",
       "    <tr>\n",
       "      <th>944</th>\n",
       "      <td>2015-02-12</td>\n",
       "      <td>0.000000</td>\n",
       "      <td>0.000000</td>\n",
       "      <td>0.000000</td>\n",
       "      <td>1.000000</td>\n",
       "      <td>1467.000000</td>\n",
       "      <td>2660.000000</td>\n",
       "      <td>0</td>\n",
       "    </tr>\n",
       "    <tr>\n",
       "      <th>945</th>\n",
       "      <td>2015-02-11</td>\n",
       "      <td>0.275738</td>\n",
       "      <td>0.109625</td>\n",
       "      <td>0.007250</td>\n",
       "      <td>0.883125</td>\n",
       "      <td>1361.625000</td>\n",
       "      <td>2531.750000</td>\n",
       "      <td>0</td>\n",
       "    </tr>\n",
       "    <tr>\n",
       "      <th>946</th>\n",
       "      <td>2015-02-10</td>\n",
       "      <td>0.181967</td>\n",
       "      <td>0.087000</td>\n",
       "      <td>0.023000</td>\n",
       "      <td>0.890000</td>\n",
       "      <td>526.666667</td>\n",
       "      <td>773.666667</td>\n",
       "      <td>1</td>\n",
       "    </tr>\n",
       "    <tr>\n",
       "      <th>947</th>\n",
       "      <td>2015-01-30</td>\n",
       "      <td>0.318200</td>\n",
       "      <td>0.150000</td>\n",
       "      <td>0.000000</td>\n",
       "      <td>0.850000</td>\n",
       "      <td>462.000000</td>\n",
       "      <td>796.000000</td>\n",
       "      <td>1</td>\n",
       "    </tr>\n",
       "  </tbody>\n",
       "</table>\n",
       "<p>948 rows × 8 columns</p>\n",
       "</div>"
      ],
      "text/plain": [
       "          Date  Tweet_compound_score  Tweet_positive_score  \\\n",
       "0   2020-07-14              0.522350              1.000000   \n",
       "1   2020-07-13              0.164587              0.216067   \n",
       "2   2020-07-10              0.267573              0.315727   \n",
       "3   2020-07-09              0.062012              0.278250   \n",
       "4   2020-07-08              0.149550              0.261500   \n",
       "..         ...                   ...                   ...   \n",
       "943 2015-02-24              0.636900              0.219000   \n",
       "944 2015-02-12              0.000000              0.000000   \n",
       "945 2015-02-11              0.275738              0.109625   \n",
       "946 2015-02-10              0.181967              0.087000   \n",
       "947 2015-01-30              0.318200              0.150000   \n",
       "\n",
       "     Tweet_negative_score  Tweet_neutral_score  retweets_count   likes_count  \\\n",
       "0                0.000000             0.000000      178.000000   6062.000000   \n",
       "1                0.098333             0.618933      196.266667   5705.333333   \n",
       "2                0.050273             0.543045      540.772727   9638.545455   \n",
       "3                0.100125             0.621625     1674.750000  30163.875000   \n",
       "4                0.147000             0.591500     1816.000000  23619.000000   \n",
       "..                    ...                  ...             ...           ...   \n",
       "943              0.000000             0.781000     1668.000000   2101.000000   \n",
       "944              0.000000             1.000000     1467.000000   2660.000000   \n",
       "945              0.007250             0.883125     1361.625000   2531.750000   \n",
       "946              0.023000             0.890000      526.666667    773.666667   \n",
       "947              0.000000             0.850000      462.000000    796.000000   \n",
       "\n",
       "     Green  \n",
       "0        1  \n",
       "1        1  \n",
       "2        0  \n",
       "3        1  \n",
       "4        1  \n",
       "..     ...  \n",
       "943      1  \n",
       "944      0  \n",
       "945      0  \n",
       "946      1  \n",
       "947      1  \n",
       "\n",
       "[948 rows x 8 columns]"
      ]
     },
     "execution_count": 80,
     "metadata": {},
     "output_type": "execute_result"
    }
   ],
   "source": [
    "df_tweets_clean"
   ]
  },
  {
   "cell_type": "markdown",
   "id": "75a2812e",
   "metadata": {},
   "source": [
    "OBV is too correlated to price so we must drop it"
   ]
  },
  {
   "cell_type": "code",
   "execution_count": 81,
   "id": "8a84a2f1",
   "metadata": {
    "ExecuteTime": {
     "end_time": "2021-09-15T19:51:38.139921Z",
     "start_time": "2021-09-15T19:51:38.136240Z"
    }
   },
   "outputs": [],
   "source": [
    "## Rerun these tweet models with The most important features:\n",
    "\n",
    "X_tweet_most_feats= df_tweets_clean.drop(['Green','Date','Tweet_positive_score','retweets_count', 'Tweet_negative_score', 'Tweet_neutral_score','likes_count' ],1)\n",
    "y_tweet_most_feats=df_tweets_clean['Green']\n",
    "\n",
    "X_train_t2, X_test_t2, y_train_t2, y_test_t2 = train_test_split(X_tweet_most_feats, y_tweet_most_feats, test_size = 0.3, random_state=42)"
   ]
  },
  {
   "cell_type": "code",
   "execution_count": 82,
   "id": "9d38e1f8",
   "metadata": {
    "ExecuteTime": {
     "end_time": "2021-09-15T19:51:38.144021Z",
     "start_time": "2021-09-15T19:51:38.140839Z"
    }
   },
   "outputs": [],
   "source": [
    "# need to re-run this so that train data updates\n",
    "def scores_tweet(model, actual = y_test_t2 ,X_train_scaled = X_train_t2, X_test_scaled = X_test_t2 ,y_train = y_train_t2):\n",
    "    pred_train = model.predict(X_train_scaled)\n",
    "    pred_test = model.predict(X_test_scaled)\n",
    "    \n",
    "    print(\"Train Scores\")\n",
    "    print(\"log loss: \", log_loss(y_train, pred_train))\n",
    "    print(\"accuracy: \", accuracy_score(y_train, pred_train))\n",
    "    print(\"precision:\", precision_score(y_train, pred_train))\n",
    "    print(\"recall:   \", recall_score(y_train, pred_train))\n",
    "    plot_confusion_matrix(model, X_train_scaled, y_train)\n",
    "    \n",
    "    print(\"Test Scores\")\n",
    "    print(\"log loss: \", log_loss(actual, pred_test))\n",
    "    print(\"accuracy: \", accuracy_score(actual, pred_test))\n",
    "    print(\"precision:\", precision_score(actual, pred_test))\n",
    "    print(\"recall:   \", recall_score(actual, pred_test))\n",
    "    \n",
    "    \n",
    "    plot_confusion_matrix(model, X_test_scaled, actual)"
   ]
  },
  {
   "cell_type": "code",
   "execution_count": 83,
   "id": "fa0369eb",
   "metadata": {
    "ExecuteTime": {
     "end_time": "2021-09-15T19:51:39.845748Z",
     "start_time": "2021-09-15T19:51:38.145013Z"
    }
   },
   "outputs": [],
   "source": [
    "## all models\n",
    "\n",
    "#logistic\n",
    "pipe.fit(X_train_t2, y_train_t2)\n",
    "log_preds_tweets=pipe.predict(X_test_t2)\n",
    "\n",
    "## Naive Bayes\n",
    "NB_clf.fit(X_train_t2, y_train_t2)\n",
    "nb_preds_tweets= NB_clf.predict(X_test_t2)\n",
    "\n",
    "#Random Forest\n",
    "\n",
    "pipe_RF.fit(X_train_t2, y_train_t2)\n",
    "rf_preds_tweets= pipe_RF.predict(X_test_t2)\n",
    "\n",
    "# XGBoost\n",
    "XGB_clf.fit(X_train_t2, y_train_t2)\n",
    "XGB_preds_tweets= XGB_clf.predict(X_test_t2)\n",
    "\n",
    "# Gradient Boost\n",
    "GB_clf.fit(X_train_t2, y_train_t2)\n",
    "GB_preds_tweets= GB_clf.predict(X_test_t2)"
   ]
  },
  {
   "cell_type": "code",
   "execution_count": 84,
   "id": "ef374531",
   "metadata": {
    "ExecuteTime": {
     "end_time": "2021-09-15T19:51:40.052948Z",
     "start_time": "2021-09-15T19:51:39.846893Z"
    }
   },
   "outputs": [
    {
     "name": "stdout",
     "output_type": "stream",
     "text": [
      "Train Scores\n",
      "log loss:  16.618207042490752\n",
      "accuracy:  0.5188536953242836\n",
      "precision: 0.75\n",
      "recall:    0.018575851393188854\n",
      "Test Scores\n",
      "log loss:  17.693562637347753\n",
      "accuracy:  0.48771929824561405\n",
      "precision: 0.16666666666666666\n",
      "recall:    0.007042253521126761\n",
      "\n",
      "\n",
      "              precision    recall  f1-score   support\n",
      "\n",
      "           0       0.49      0.97      0.65       143\n",
      "           1       0.17      0.01      0.01       142\n",
      "\n",
      "    accuracy                           0.49       285\n",
      "   macro avg       0.33      0.49      0.33       285\n",
      "weighted avg       0.33      0.49      0.33       285\n",
      "\n"
     ]
    },
    {
     "data": {
      "image/png": "[encoded data removed]",
      "text/plain": [
       "<Figure size 432x288 with 2 Axes>"
      ]
     },
     "metadata": {
      "needs_background": "light"
     },
     "output_type": "display_data"
    },
    {
     "data": {
      "image/png": "[encoded data removed]",
      "text/plain": [
       "<Figure size 432x288 with 2 Axes>"
      ]
     },
     "metadata": {
      "needs_background": "light"
     },
     "output_type": "display_data"
    }
   ],
   "source": [
    "# Log\n",
    "\n",
    "scores_tweet(pipe, y_test_t)\n",
    "print('\\n')\n",
    "print(classification_report(y_test_t,log_preds_tweets))\n"
   ]
  },
  {
   "cell_type": "code",
   "execution_count": 85,
   "id": "b7d5d477",
   "metadata": {
    "ExecuteTime": {
     "end_time": "2021-09-15T19:51:40.230518Z",
     "start_time": "2021-09-15T19:51:40.054061Z"
    }
   },
   "outputs": [
    {
     "name": "stdout",
     "output_type": "stream",
     "text": [
      "Train Scores\n",
      "log loss:  16.774528485484822\n",
      "accuracy:  0.5143288084464555\n",
      "precision: 0.5074626865671642\n",
      "recall:    0.10526315789473684\n",
      "Test Scores\n",
      "log loss:  17.208838742583158\n",
      "accuracy:  0.5017543859649123\n",
      "precision: 0.5\n",
      "recall:    0.11267605633802817\n",
      "\n",
      "\n",
      "              precision    recall  f1-score   support\n",
      "\n",
      "           0       0.50      0.89      0.64       143\n",
      "           1       0.50      0.11      0.18       142\n",
      "\n",
      "    accuracy                           0.50       285\n",
      "   macro avg       0.50      0.50      0.41       285\n",
      "weighted avg       0.50      0.50      0.41       285\n",
      "\n"
     ]
    },
    {
     "data": {
      "image/png": "[encoded data removed]",
      "text/plain": [
       "<Figure size 432x288 with 2 Axes>"
      ]
     },
     "metadata": {
      "needs_background": "light"
     },
     "output_type": "display_data"
    },
    {
     "data": {
      "image/png": "[encoded data removed]",
      "text/plain": [
       "<Figure size 432x288 with 2 Axes>"
      ]
     },
     "metadata": {
      "needs_background": "light"
     },
     "output_type": "display_data"
    }
   ],
   "source": [
    "# NB\n",
    "scores_tweet(NB_clf, y_test_t)\n",
    "print('\\n')\n",
    "print(classification_report(y_test_t,nb_preds_tweets))"
   ]
  },
  {
   "cell_type": "code",
   "execution_count": 86,
   "id": "afa85579",
   "metadata": {
    "ExecuteTime": {
     "end_time": "2021-09-15T19:51:40.837991Z",
     "start_time": "2021-09-15T19:51:40.231534Z"
    }
   },
   "outputs": [
    {
     "name": "stdout",
     "output_type": "stream",
     "text": [
      "Train Scores\n",
      "log loss:  2.604741504268651\n",
      "accuracy:  0.9245852187028658\n",
      "precision: 0.9789473684210527\n",
      "recall:    0.8637770897832817\n",
      "Test Scores\n",
      "log loss:  16.845415761124237\n",
      "accuracy:  0.512280701754386\n",
      "precision: 0.5109489051094891\n",
      "recall:    0.49295774647887325\n",
      "\n",
      "\n",
      "              precision    recall  f1-score   support\n",
      "\n",
      "           0       0.51      0.53      0.52       143\n",
      "           1       0.51      0.49      0.50       142\n",
      "\n",
      "    accuracy                           0.51       285\n",
      "   macro avg       0.51      0.51      0.51       285\n",
      "weighted avg       0.51      0.51      0.51       285\n",
      "\n"
     ]
    },
    {
     "data": {
      "image/png": "[encoded data removed]",
      "text/plain": [
       "<Figure size 432x288 with 2 Axes>"
      ]
     },
     "metadata": {
      "needs_background": "light"
     },
     "output_type": "display_data"
    },
    {
     "data": {
      "image/png": "[encoded data removed]",
      "text/plain": [
       "<Figure size 432x288 with 2 Axes>"
      ]
     },
     "metadata": {
      "needs_background": "light"
     },
     "output_type": "display_data"
    }
   ],
   "source": [
    "## RF\n",
    "scores_tweet(pipe_RF, y_test_t)\n",
    "print('\\n')\n",
    "print(classification_report(y_test_t,rf_preds_tweets))"
   ]
  },
  {
   "cell_type": "code",
   "execution_count": 87,
   "id": "85f4d7ff",
   "metadata": {
    "ExecuteTime": {
     "end_time": "2021-09-15T19:51:41.045784Z",
     "start_time": "2021-09-15T19:51:40.839116Z"
    }
   },
   "outputs": [
    {
     "name": "stdout",
     "output_type": "stream",
     "text": [
      "Train Scores\n",
      "log loss:  12.033962770786777\n",
      "accuracy:  0.6515837104072398\n",
      "precision: 0.6900826446280992\n",
      "recall:    0.5170278637770898\n",
      "Test Scores\n",
      "log loss:  17.69370291759867\n",
      "accuracy:  0.48771929824561405\n",
      "precision: 0.4811320754716981\n",
      "recall:    0.3591549295774648\n",
      "\n",
      "\n",
      "              precision    recall  f1-score   support\n",
      "\n",
      "           0       0.49      0.62      0.55       143\n",
      "           1       0.48      0.36      0.41       142\n",
      "\n",
      "    accuracy                           0.49       285\n",
      "   macro avg       0.49      0.49      0.48       285\n",
      "weighted avg       0.49      0.49      0.48       285\n",
      "\n"
     ]
    },
    {
     "data": {
      "image/png": "[encoded data removed]",
      "text/plain": [
       "<Figure size 432x288 with 2 Axes>"
      ]
     },
     "metadata": {
      "needs_background": "light"
     },
     "output_type": "display_data"
    },
    {
     "data": {
      "image/png": "[encoded data removed]",
      "text/plain": [
       "<Figure size 432x288 with 2 Axes>"
      ]
     },
     "metadata": {
      "needs_background": "light"
     },
     "output_type": "display_data"
    }
   ],
   "source": [
    "scores_tweet(XGB_clf, y_test_t)\n",
    "print('\\n')\n",
    "print(classification_report(y_test_t,XGB_preds_tweets))"
   ]
  },
  {
   "cell_type": "code",
   "execution_count": 88,
   "id": "90184c7f",
   "metadata": {
    "ExecuteTime": {
     "end_time": "2021-09-15T19:51:41.282213Z",
     "start_time": "2021-09-15T19:51:41.047289Z"
    }
   },
   "outputs": [
    {
     "name": "stdout",
     "output_type": "stream",
     "text": [
      "Train Scores\n",
      "log loss:  8.647779277562766\n",
      "accuracy:  0.7496229260935143\n",
      "precision: 0.803088803088803\n",
      "recall:    0.6439628482972136\n",
      "Test Scores\n",
      "log loss:  18.05728020733359\n",
      "accuracy:  0.47719298245614034\n",
      "precision: 0.46846846846846846\n",
      "recall:    0.36619718309859156\n",
      "\n",
      "\n",
      "              precision    recall  f1-score   support\n",
      "\n",
      "           0       0.48      0.59      0.53       143\n",
      "           1       0.47      0.37      0.41       142\n",
      "\n",
      "    accuracy                           0.48       285\n",
      "   macro avg       0.48      0.48      0.47       285\n",
      "weighted avg       0.48      0.48      0.47       285\n",
      "\n"
     ]
    },
    {
     "data": {
      "image/png": "[encoded data removed]",
      "text/plain": [
       "<Figure size 432x288 with 2 Axes>"
      ]
     },
     "metadata": {
      "needs_background": "light"
     },
     "output_type": "display_data"
    },
    {
     "data": {
      "image/png": "[encoded data removed]",
      "text/plain": [
       "<Figure size 432x288 with 2 Axes>"
      ]
     },
     "metadata": {
      "needs_background": "light"
     },
     "output_type": "display_data"
    }
   ],
   "source": [
    "scores_tweet(GB_clf, y_test_t)\n",
    "print('\\n')\n",
    "print(classification_report(y_test_t,GB_preds_tweets))"
   ]
  },
  {
   "cell_type": "code",
   "execution_count": 89,
   "id": "4eb0a1f1",
   "metadata": {
    "ExecuteTime": {
     "end_time": "2021-09-15T19:51:41.285076Z",
     "start_time": "2021-09-15T19:51:41.283392Z"
    }
   },
   "outputs": [],
   "source": [
    "## Dropping features seemed to help"
   ]
  },
  {
   "cell_type": "markdown",
   "id": "8cc054b1",
   "metadata": {},
   "source": [
    "I still want to include some sort of price metric but one that is way less correlated. Lets try to incorporate the NASDAQ Movement"
   ]
  },
  {
   "cell_type": "code",
   "execution_count": 90,
   "id": "a7230dbd",
   "metadata": {
    "ExecuteTime": {
     "end_time": "2021-09-15T19:51:41.292133Z",
     "start_time": "2021-09-15T19:51:41.286207Z"
    }
   },
   "outputs": [],
   "source": [
    "df_nsdaq= pd.read_csv('NASDAQ.csv')"
   ]
  },
  {
   "cell_type": "code",
   "execution_count": 91,
   "id": "3c3460fc",
   "metadata": {
    "ExecuteTime": {
     "end_time": "2021-09-15T19:51:41.301041Z",
     "start_time": "2021-09-15T19:51:41.293133Z"
    }
   },
   "outputs": [
    {
     "data": {
      "text/html": [
       "<div>\n",
       "<style scoped>\n",
       "    .dataframe tbody tr th:only-of-type {\n",
       "        vertical-align: middle;\n",
       "    }\n",
       "\n",
       "    .dataframe tbody tr th {\n",
       "        vertical-align: top;\n",
       "    }\n",
       "\n",
       "    .dataframe thead th {\n",
       "        text-align: right;\n",
       "    }\n",
       "</style>\n",
       "<table border=\"1\" class=\"dataframe\">\n",
       "  <thead>\n",
       "    <tr style=\"text-align: right;\">\n",
       "      <th></th>\n",
       "      <th>Date</th>\n",
       "      <th>Open</th>\n",
       "      <th>High</th>\n",
       "      <th>Low</th>\n",
       "      <th>Close</th>\n",
       "      <th>Adj Close</th>\n",
       "      <th>Volume</th>\n",
       "    </tr>\n",
       "  </thead>\n",
       "  <tbody>\n",
       "    <tr>\n",
       "      <th>0</th>\n",
       "      <td>2010-01-04</td>\n",
       "      <td>2294.409912</td>\n",
       "      <td>2311.149902</td>\n",
       "      <td>2294.409912</td>\n",
       "      <td>2308.419922</td>\n",
       "      <td>2308.419922</td>\n",
       "      <td>1931380000</td>\n",
       "    </tr>\n",
       "    <tr>\n",
       "      <th>1</th>\n",
       "      <td>2010-01-05</td>\n",
       "      <td>2307.270020</td>\n",
       "      <td>2313.729980</td>\n",
       "      <td>2295.620117</td>\n",
       "      <td>2308.709961</td>\n",
       "      <td>2308.709961</td>\n",
       "      <td>2367860000</td>\n",
       "    </tr>\n",
       "    <tr>\n",
       "      <th>2</th>\n",
       "      <td>2010-01-06</td>\n",
       "      <td>2307.709961</td>\n",
       "      <td>2314.070068</td>\n",
       "      <td>2295.679932</td>\n",
       "      <td>2301.090088</td>\n",
       "      <td>2301.090088</td>\n",
       "      <td>2253340000</td>\n",
       "    </tr>\n",
       "    <tr>\n",
       "      <th>3</th>\n",
       "      <td>2010-01-07</td>\n",
       "      <td>2298.090088</td>\n",
       "      <td>2301.300049</td>\n",
       "      <td>2285.219971</td>\n",
       "      <td>2300.050049</td>\n",
       "      <td>2300.050049</td>\n",
       "      <td>2270050000</td>\n",
       "    </tr>\n",
       "    <tr>\n",
       "      <th>4</th>\n",
       "      <td>2010-01-08</td>\n",
       "      <td>2292.239990</td>\n",
       "      <td>2317.600098</td>\n",
       "      <td>2290.610107</td>\n",
       "      <td>2317.169922</td>\n",
       "      <td>2317.169922</td>\n",
       "      <td>2145390000</td>\n",
       "    </tr>\n",
       "    <tr>\n",
       "      <th>...</th>\n",
       "      <td>...</td>\n",
       "      <td>...</td>\n",
       "      <td>...</td>\n",
       "      <td>...</td>\n",
       "      <td>...</td>\n",
       "      <td>...</td>\n",
       "      <td>...</td>\n",
       "    </tr>\n",
       "    <tr>\n",
       "      <th>2939</th>\n",
       "      <td>2021-09-07</td>\n",
       "      <td>15375.980469</td>\n",
       "      <td>15403.440430</td>\n",
       "      <td>15343.280273</td>\n",
       "      <td>15374.330078</td>\n",
       "      <td>15374.330078</td>\n",
       "      <td>3967040000</td>\n",
       "    </tr>\n",
       "    <tr>\n",
       "      <th>2940</th>\n",
       "      <td>2021-09-08</td>\n",
       "      <td>15360.349609</td>\n",
       "      <td>15360.349609</td>\n",
       "      <td>15206.610352</td>\n",
       "      <td>15286.639648</td>\n",
       "      <td>15286.639648</td>\n",
       "      <td>4113530000</td>\n",
       "    </tr>\n",
       "    <tr>\n",
       "      <th>2941</th>\n",
       "      <td>2021-09-09</td>\n",
       "      <td>15296.059570</td>\n",
       "      <td>15352.379883</td>\n",
       "      <td>15245.169922</td>\n",
       "      <td>15248.250000</td>\n",
       "      <td>15248.250000</td>\n",
       "      <td>3997250000</td>\n",
       "    </tr>\n",
       "    <tr>\n",
       "      <th>2942</th>\n",
       "      <td>2021-09-10</td>\n",
       "      <td>15332.919922</td>\n",
       "      <td>15349.469727</td>\n",
       "      <td>15111.309570</td>\n",
       "      <td>15115.490234</td>\n",
       "      <td>15115.490234</td>\n",
       "      <td>4567980000</td>\n",
       "    </tr>\n",
       "    <tr>\n",
       "      <th>2943</th>\n",
       "      <td>2021-09-13</td>\n",
       "      <td>15211.429688</td>\n",
       "      <td>15215.440430</td>\n",
       "      <td>15030.849609</td>\n",
       "      <td>15105.580078</td>\n",
       "      <td>15105.580078</td>\n",
       "      <td>4701190000</td>\n",
       "    </tr>\n",
       "  </tbody>\n",
       "</table>\n",
       "<p>2944 rows × 7 columns</p>\n",
       "</div>"
      ],
      "text/plain": [
       "            Date          Open          High           Low         Close  \\\n",
       "0     2010-01-04   2294.409912   2311.149902   2294.409912   2308.419922   \n",
       "1     2010-01-05   2307.270020   2313.729980   2295.620117   2308.709961   \n",
       "2     2010-01-06   2307.709961   2314.070068   2295.679932   2301.090088   \n",
       "3     2010-01-07   2298.090088   2301.300049   2285.219971   2300.050049   \n",
       "4     2010-01-08   2292.239990   2317.600098   2290.610107   2317.169922   \n",
       "...          ...           ...           ...           ...           ...   \n",
       "2939  2021-09-07  15375.980469  15403.440430  15343.280273  15374.330078   \n",
       "2940  2021-09-08  15360.349609  15360.349609  15206.610352  15286.639648   \n",
       "2941  2021-09-09  15296.059570  15352.379883  15245.169922  15248.250000   \n",
       "2942  2021-09-10  15332.919922  15349.469727  15111.309570  15115.490234   \n",
       "2943  2021-09-13  15211.429688  15215.440430  15030.849609  15105.580078   \n",
       "\n",
       "         Adj Close      Volume  \n",
       "0      2308.419922  1931380000  \n",
       "1      2308.709961  2367860000  \n",
       "2      2301.090088  2253340000  \n",
       "3      2300.050049  2270050000  \n",
       "4      2317.169922  2145390000  \n",
       "...            ...         ...  \n",
       "2939  15374.330078  3967040000  \n",
       "2940  15286.639648  4113530000  \n",
       "2941  15248.250000  3997250000  \n",
       "2942  15115.490234  4567980000  \n",
       "2943  15105.580078  4701190000  \n",
       "\n",
       "[2944 rows x 7 columns]"
      ]
     },
     "execution_count": 91,
     "metadata": {},
     "output_type": "execute_result"
    }
   ],
   "source": [
    "df_nsdaq\n"
   ]
  },
  {
   "cell_type": "code",
   "execution_count": 92,
   "id": "0754518b",
   "metadata": {
    "ExecuteTime": {
     "end_time": "2021-09-15T19:51:41.304977Z",
     "start_time": "2021-09-15T19:51:41.301988Z"
    }
   },
   "outputs": [],
   "source": [
    "\n",
    "df_nsdaq['Day_Net']= df_nsdaq['Open']-df_nsdaq['Close']\n",
    "df_nsdaq['Movement']= np.where(df_nsdaq['Day_Net']>0,1,0)"
   ]
  },
  {
   "cell_type": "code",
   "execution_count": 93,
   "id": "7d3c58e7",
   "metadata": {
    "ExecuteTime": {
     "end_time": "2021-09-15T19:51:41.308855Z",
     "start_time": "2021-09-15T19:51:41.306035Z"
    }
   },
   "outputs": [],
   "source": [
    "df_nsdaq.drop(['Open','High', 'Low', 'Close','Adj Close', 'Volume', 'Day_Net'], 1, inplace=True)"
   ]
  },
  {
   "cell_type": "code",
   "execution_count": 94,
   "id": "a807281b",
   "metadata": {
    "ExecuteTime": {
     "end_time": "2021-09-15T19:51:41.313035Z",
     "start_time": "2021-09-15T19:51:41.309833Z"
    }
   },
   "outputs": [
    {
     "data": {
      "text/plain": [
       "0       2010-01-04\n",
       "1       2010-01-05\n",
       "2       2010-01-06\n",
       "3       2010-01-07\n",
       "4       2010-01-08\n",
       "           ...    \n",
       "2939    2021-09-07\n",
       "2940    2021-09-08\n",
       "2941    2021-09-09\n",
       "2942    2021-09-10\n",
       "2943    2021-09-13\n",
       "Name: Date, Length: 2944, dtype: object"
      ]
     },
     "execution_count": 94,
     "metadata": {},
     "output_type": "execute_result"
    }
   ],
   "source": [
    "df_nsdaq.Date"
   ]
  },
  {
   "cell_type": "code",
   "execution_count": 95,
   "id": "412016ce",
   "metadata": {
    "ExecuteTime": {
     "end_time": "2021-09-15T19:51:41.323677Z",
     "start_time": "2021-09-15T19:51:41.314049Z"
    }
   },
   "outputs": [
    {
     "data": {
      "text/html": [
       "<div>\n",
       "<style scoped>\n",
       "    .dataframe tbody tr th:only-of-type {\n",
       "        vertical-align: middle;\n",
       "    }\n",
       "\n",
       "    .dataframe tbody tr th {\n",
       "        vertical-align: top;\n",
       "    }\n",
       "\n",
       "    .dataframe thead th {\n",
       "        text-align: right;\n",
       "    }\n",
       "</style>\n",
       "<table border=\"1\" class=\"dataframe\">\n",
       "  <thead>\n",
       "    <tr style=\"text-align: right;\">\n",
       "      <th></th>\n",
       "      <th>Date</th>\n",
       "      <th>Tweet_compound_score</th>\n",
       "      <th>Tweet_positive_score</th>\n",
       "      <th>Tweet_negative_score</th>\n",
       "      <th>Tweet_neutral_score</th>\n",
       "      <th>retweets_count</th>\n",
       "      <th>likes_count</th>\n",
       "      <th>Green</th>\n",
       "    </tr>\n",
       "  </thead>\n",
       "  <tbody>\n",
       "    <tr>\n",
       "      <th>0</th>\n",
       "      <td>2020-07-14</td>\n",
       "      <td>0.522350</td>\n",
       "      <td>1.000000</td>\n",
       "      <td>0.000000</td>\n",
       "      <td>0.000000</td>\n",
       "      <td>178.000000</td>\n",
       "      <td>6062.000000</td>\n",
       "      <td>1</td>\n",
       "    </tr>\n",
       "    <tr>\n",
       "      <th>1</th>\n",
       "      <td>2020-07-13</td>\n",
       "      <td>0.164587</td>\n",
       "      <td>0.216067</td>\n",
       "      <td>0.098333</td>\n",
       "      <td>0.618933</td>\n",
       "      <td>196.266667</td>\n",
       "      <td>5705.333333</td>\n",
       "      <td>1</td>\n",
       "    </tr>\n",
       "    <tr>\n",
       "      <th>2</th>\n",
       "      <td>2020-07-10</td>\n",
       "      <td>0.267573</td>\n",
       "      <td>0.315727</td>\n",
       "      <td>0.050273</td>\n",
       "      <td>0.543045</td>\n",
       "      <td>540.772727</td>\n",
       "      <td>9638.545455</td>\n",
       "      <td>0</td>\n",
       "    </tr>\n",
       "    <tr>\n",
       "      <th>3</th>\n",
       "      <td>2020-07-09</td>\n",
       "      <td>0.062012</td>\n",
       "      <td>0.278250</td>\n",
       "      <td>0.100125</td>\n",
       "      <td>0.621625</td>\n",
       "      <td>1674.750000</td>\n",
       "      <td>30163.875000</td>\n",
       "      <td>1</td>\n",
       "    </tr>\n",
       "    <tr>\n",
       "      <th>4</th>\n",
       "      <td>2020-07-08</td>\n",
       "      <td>0.149550</td>\n",
       "      <td>0.261500</td>\n",
       "      <td>0.147000</td>\n",
       "      <td>0.591500</td>\n",
       "      <td>1816.000000</td>\n",
       "      <td>23619.000000</td>\n",
       "      <td>1</td>\n",
       "    </tr>\n",
       "    <tr>\n",
       "      <th>...</th>\n",
       "      <td>...</td>\n",
       "      <td>...</td>\n",
       "      <td>...</td>\n",
       "      <td>...</td>\n",
       "      <td>...</td>\n",
       "      <td>...</td>\n",
       "      <td>...</td>\n",
       "      <td>...</td>\n",
       "    </tr>\n",
       "    <tr>\n",
       "      <th>943</th>\n",
       "      <td>2015-02-24</td>\n",
       "      <td>0.636900</td>\n",
       "      <td>0.219000</td>\n",
       "      <td>0.000000</td>\n",
       "      <td>0.781000</td>\n",
       "      <td>1668.000000</td>\n",
       "      <td>2101.000000</td>\n",
       "      <td>1</td>\n",
       "    </tr>\n",
       "    <tr>\n",
       "      <th>944</th>\n",
       "      <td>2015-02-12</td>\n",
       "      <td>0.000000</td>\n",
       "      <td>0.000000</td>\n",
       "      <td>0.000000</td>\n",
       "      <td>1.000000</td>\n",
       "      <td>1467.000000</td>\n",
       "      <td>2660.000000</td>\n",
       "      <td>0</td>\n",
       "    </tr>\n",
       "    <tr>\n",
       "      <th>945</th>\n",
       "      <td>2015-02-11</td>\n",
       "      <td>0.275738</td>\n",
       "      <td>0.109625</td>\n",
       "      <td>0.007250</td>\n",
       "      <td>0.883125</td>\n",
       "      <td>1361.625000</td>\n",
       "      <td>2531.750000</td>\n",
       "      <td>0</td>\n",
       "    </tr>\n",
       "    <tr>\n",
       "      <th>946</th>\n",
       "      <td>2015-02-10</td>\n",
       "      <td>0.181967</td>\n",
       "      <td>0.087000</td>\n",
       "      <td>0.023000</td>\n",
       "      <td>0.890000</td>\n",
       "      <td>526.666667</td>\n",
       "      <td>773.666667</td>\n",
       "      <td>1</td>\n",
       "    </tr>\n",
       "    <tr>\n",
       "      <th>947</th>\n",
       "      <td>2015-01-30</td>\n",
       "      <td>0.318200</td>\n",
       "      <td>0.150000</td>\n",
       "      <td>0.000000</td>\n",
       "      <td>0.850000</td>\n",
       "      <td>462.000000</td>\n",
       "      <td>796.000000</td>\n",
       "      <td>1</td>\n",
       "    </tr>\n",
       "  </tbody>\n",
       "</table>\n",
       "<p>948 rows × 8 columns</p>\n",
       "</div>"
      ],
      "text/plain": [
       "          Date  Tweet_compound_score  Tweet_positive_score  \\\n",
       "0   2020-07-14              0.522350              1.000000   \n",
       "1   2020-07-13              0.164587              0.216067   \n",
       "2   2020-07-10              0.267573              0.315727   \n",
       "3   2020-07-09              0.062012              0.278250   \n",
       "4   2020-07-08              0.149550              0.261500   \n",
       "..         ...                   ...                   ...   \n",
       "943 2015-02-24              0.636900              0.219000   \n",
       "944 2015-02-12              0.000000              0.000000   \n",
       "945 2015-02-11              0.275738              0.109625   \n",
       "946 2015-02-10              0.181967              0.087000   \n",
       "947 2015-01-30              0.318200              0.150000   \n",
       "\n",
       "     Tweet_negative_score  Tweet_neutral_score  retweets_count   likes_count  \\\n",
       "0                0.000000             0.000000      178.000000   6062.000000   \n",
       "1                0.098333             0.618933      196.266667   5705.333333   \n",
       "2                0.050273             0.543045      540.772727   9638.545455   \n",
       "3                0.100125             0.621625     1674.750000  30163.875000   \n",
       "4                0.147000             0.591500     1816.000000  23619.000000   \n",
       "..                    ...                  ...             ...           ...   \n",
       "943              0.000000             0.781000     1668.000000   2101.000000   \n",
       "944              0.000000             1.000000     1467.000000   2660.000000   \n",
       "945              0.007250             0.883125     1361.625000   2531.750000   \n",
       "946              0.023000             0.890000      526.666667    773.666667   \n",
       "947              0.000000             0.850000      462.000000    796.000000   \n",
       "\n",
       "     Green  \n",
       "0        1  \n",
       "1        1  \n",
       "2        0  \n",
       "3        1  \n",
       "4        1  \n",
       "..     ...  \n",
       "943      1  \n",
       "944      0  \n",
       "945      0  \n",
       "946      1  \n",
       "947      1  \n",
       "\n",
       "[948 rows x 8 columns]"
      ]
     },
     "execution_count": 95,
     "metadata": {},
     "output_type": "execute_result"
    }
   ],
   "source": [
    "df_tweets_clean"
   ]
  },
  {
   "cell_type": "code",
   "execution_count": 96,
   "id": "d6e27992",
   "metadata": {
    "ExecuteTime": {
     "end_time": "2021-09-15T19:51:41.339253Z",
     "start_time": "2021-09-15T19:51:41.324707Z"
    }
   },
   "outputs": [
    {
     "data": {
      "text/html": [
       "<div>\n",
       "<style scoped>\n",
       "    .dataframe tbody tr th:only-of-type {\n",
       "        vertical-align: middle;\n",
       "    }\n",
       "\n",
       "    .dataframe tbody tr th {\n",
       "        vertical-align: top;\n",
       "    }\n",
       "\n",
       "    .dataframe thead th {\n",
       "        text-align: right;\n",
       "    }\n",
       "</style>\n",
       "<table border=\"1\" class=\"dataframe\">\n",
       "  <thead>\n",
       "    <tr style=\"text-align: right;\">\n",
       "      <th></th>\n",
       "      <th>Date</th>\n",
       "      <th>Tweet_compound_score</th>\n",
       "      <th>Tweet_positive_score</th>\n",
       "      <th>Tweet_negative_score</th>\n",
       "      <th>Tweet_neutral_score</th>\n",
       "      <th>retweets_count</th>\n",
       "      <th>likes_count</th>\n",
       "      <th>Green</th>\n",
       "      <th>NASDAQ_MOV</th>\n",
       "    </tr>\n",
       "  </thead>\n",
       "  <tbody>\n",
       "    <tr>\n",
       "      <th>0</th>\n",
       "      <td>2020-07-14</td>\n",
       "      <td>0.522350</td>\n",
       "      <td>1.000000</td>\n",
       "      <td>0.000000</td>\n",
       "      <td>0.000000</td>\n",
       "      <td>178.000000</td>\n",
       "      <td>6062.000000</td>\n",
       "      <td>1</td>\n",
       "      <td>0</td>\n",
       "    </tr>\n",
       "    <tr>\n",
       "      <th>1</th>\n",
       "      <td>2020-07-13</td>\n",
       "      <td>0.164587</td>\n",
       "      <td>0.216067</td>\n",
       "      <td>0.098333</td>\n",
       "      <td>0.618933</td>\n",
       "      <td>196.266667</td>\n",
       "      <td>5705.333333</td>\n",
       "      <td>1</td>\n",
       "      <td>1</td>\n",
       "    </tr>\n",
       "    <tr>\n",
       "      <th>2</th>\n",
       "      <td>2020-07-10</td>\n",
       "      <td>0.267573</td>\n",
       "      <td>0.315727</td>\n",
       "      <td>0.050273</td>\n",
       "      <td>0.543045</td>\n",
       "      <td>540.772727</td>\n",
       "      <td>9638.545455</td>\n",
       "      <td>0</td>\n",
       "      <td>0</td>\n",
       "    </tr>\n",
       "    <tr>\n",
       "      <th>3</th>\n",
       "      <td>2020-07-09</td>\n",
       "      <td>0.062012</td>\n",
       "      <td>0.278250</td>\n",
       "      <td>0.100125</td>\n",
       "      <td>0.621625</td>\n",
       "      <td>1674.750000</td>\n",
       "      <td>30163.875000</td>\n",
       "      <td>1</td>\n",
       "      <td>1</td>\n",
       "    </tr>\n",
       "    <tr>\n",
       "      <th>4</th>\n",
       "      <td>2020-07-08</td>\n",
       "      <td>0.149550</td>\n",
       "      <td>0.261500</td>\n",
       "      <td>0.147000</td>\n",
       "      <td>0.591500</td>\n",
       "      <td>1816.000000</td>\n",
       "      <td>23619.000000</td>\n",
       "      <td>1</td>\n",
       "      <td>0</td>\n",
       "    </tr>\n",
       "    <tr>\n",
       "      <th>...</th>\n",
       "      <td>...</td>\n",
       "      <td>...</td>\n",
       "      <td>...</td>\n",
       "      <td>...</td>\n",
       "      <td>...</td>\n",
       "      <td>...</td>\n",
       "      <td>...</td>\n",
       "      <td>...</td>\n",
       "      <td>...</td>\n",
       "    </tr>\n",
       "    <tr>\n",
       "      <th>943</th>\n",
       "      <td>2015-02-24</td>\n",
       "      <td>0.636900</td>\n",
       "      <td>0.219000</td>\n",
       "      <td>0.000000</td>\n",
       "      <td>0.781000</td>\n",
       "      <td>1668.000000</td>\n",
       "      <td>2101.000000</td>\n",
       "      <td>1</td>\n",
       "      <td>0</td>\n",
       "    </tr>\n",
       "    <tr>\n",
       "      <th>944</th>\n",
       "      <td>2015-02-12</td>\n",
       "      <td>0.000000</td>\n",
       "      <td>0.000000</td>\n",
       "      <td>0.000000</td>\n",
       "      <td>1.000000</td>\n",
       "      <td>1467.000000</td>\n",
       "      <td>2660.000000</td>\n",
       "      <td>0</td>\n",
       "      <td>0</td>\n",
       "    </tr>\n",
       "    <tr>\n",
       "      <th>945</th>\n",
       "      <td>2015-02-11</td>\n",
       "      <td>0.275738</td>\n",
       "      <td>0.109625</td>\n",
       "      <td>0.007250</td>\n",
       "      <td>0.883125</td>\n",
       "      <td>1361.625000</td>\n",
       "      <td>2531.750000</td>\n",
       "      <td>0</td>\n",
       "      <td>0</td>\n",
       "    </tr>\n",
       "    <tr>\n",
       "      <th>946</th>\n",
       "      <td>2015-02-10</td>\n",
       "      <td>0.181967</td>\n",
       "      <td>0.087000</td>\n",
       "      <td>0.023000</td>\n",
       "      <td>0.890000</td>\n",
       "      <td>526.666667</td>\n",
       "      <td>773.666667</td>\n",
       "      <td>1</td>\n",
       "      <td>0</td>\n",
       "    </tr>\n",
       "    <tr>\n",
       "      <th>947</th>\n",
       "      <td>2015-01-30</td>\n",
       "      <td>0.318200</td>\n",
       "      <td>0.150000</td>\n",
       "      <td>0.000000</td>\n",
       "      <td>0.850000</td>\n",
       "      <td>462.000000</td>\n",
       "      <td>796.000000</td>\n",
       "      <td>1</td>\n",
       "      <td>1</td>\n",
       "    </tr>\n",
       "  </tbody>\n",
       "</table>\n",
       "<p>948 rows × 9 columns</p>\n",
       "</div>"
      ],
      "text/plain": [
       "          Date  Tweet_compound_score  Tweet_positive_score  \\\n",
       "0   2020-07-14              0.522350              1.000000   \n",
       "1   2020-07-13              0.164587              0.216067   \n",
       "2   2020-07-10              0.267573              0.315727   \n",
       "3   2020-07-09              0.062012              0.278250   \n",
       "4   2020-07-08              0.149550              0.261500   \n",
       "..         ...                   ...                   ...   \n",
       "943 2015-02-24              0.636900              0.219000   \n",
       "944 2015-02-12              0.000000              0.000000   \n",
       "945 2015-02-11              0.275738              0.109625   \n",
       "946 2015-02-10              0.181967              0.087000   \n",
       "947 2015-01-30              0.318200              0.150000   \n",
       "\n",
       "     Tweet_negative_score  Tweet_neutral_score  retweets_count   likes_count  \\\n",
       "0                0.000000             0.000000      178.000000   6062.000000   \n",
       "1                0.098333             0.618933      196.266667   5705.333333   \n",
       "2                0.050273             0.543045      540.772727   9638.545455   \n",
       "3                0.100125             0.621625     1674.750000  30163.875000   \n",
       "4                0.147000             0.591500     1816.000000  23619.000000   \n",
       "..                    ...                  ...             ...           ...   \n",
       "943              0.000000             0.781000     1668.000000   2101.000000   \n",
       "944              0.000000             1.000000     1467.000000   2660.000000   \n",
       "945              0.007250             0.883125     1361.625000   2531.750000   \n",
       "946              0.023000             0.890000      526.666667    773.666667   \n",
       "947              0.000000             0.850000      462.000000    796.000000   \n",
       "\n",
       "     Green  NASDAQ_MOV  \n",
       "0        1           0  \n",
       "1        1           1  \n",
       "2        0           0  \n",
       "3        1           1  \n",
       "4        1           0  \n",
       "..     ...         ...  \n",
       "943      1           0  \n",
       "944      0           0  \n",
       "945      0           0  \n",
       "946      1           0  \n",
       "947      1           1  \n",
       "\n",
       "[948 rows x 9 columns]"
      ]
     },
     "execution_count": 96,
     "metadata": {},
     "output_type": "execute_result"
    }
   ],
   "source": [
    "df_nsdaq.Date= pd.to_datetime(df_nsdaq.Date)\n",
    "df_tweets_clean2= df_tweets_clean.merge(df_nsdaq, how='inner', left_on= \"Date\", right_on='Date')\n",
    "df_tweets_clean2.rename(columns={'Movement':'NASDAQ_MOV'})"
   ]
  },
  {
   "cell_type": "code",
   "execution_count": 114,
   "id": "bee0a6cb",
   "metadata": {
    "ExecuteTime": {
     "end_time": "2021-09-15T20:05:51.030240Z",
     "start_time": "2021-09-15T20:05:50.997259Z"
    }
   },
   "outputs": [
    {
     "data": {
      "text/html": [
       "<div>\n",
       "<style scoped>\n",
       "    .dataframe tbody tr th:only-of-type {\n",
       "        vertical-align: middle;\n",
       "    }\n",
       "\n",
       "    .dataframe tbody tr th {\n",
       "        vertical-align: top;\n",
       "    }\n",
       "\n",
       "    .dataframe thead th {\n",
       "        text-align: right;\n",
       "    }\n",
       "</style>\n",
       "<table border=\"1\" class=\"dataframe\">\n",
       "  <thead>\n",
       "    <tr style=\"text-align: right;\">\n",
       "      <th></th>\n",
       "      <th>Date</th>\n",
       "      <th>Tweet_compound_score</th>\n",
       "      <th>Tweet_positive_score</th>\n",
       "      <th>Tweet_negative_score</th>\n",
       "      <th>Tweet_neutral_score</th>\n",
       "      <th>retweets_count</th>\n",
       "      <th>likes_count</th>\n",
       "      <th>Green</th>\n",
       "      <th>Movement</th>\n",
       "    </tr>\n",
       "  </thead>\n",
       "  <tbody>\n",
       "    <tr>\n",
       "      <th>0</th>\n",
       "      <td>2020-07-14</td>\n",
       "      <td>0.522350</td>\n",
       "      <td>1.000000</td>\n",
       "      <td>0.000000</td>\n",
       "      <td>0.000000</td>\n",
       "      <td>178.000000</td>\n",
       "      <td>6062.000000</td>\n",
       "      <td>1</td>\n",
       "      <td>0</td>\n",
       "    </tr>\n",
       "    <tr>\n",
       "      <th>1</th>\n",
       "      <td>2020-07-13</td>\n",
       "      <td>0.164587</td>\n",
       "      <td>0.216067</td>\n",
       "      <td>0.098333</td>\n",
       "      <td>0.618933</td>\n",
       "      <td>196.266667</td>\n",
       "      <td>5705.333333</td>\n",
       "      <td>1</td>\n",
       "      <td>1</td>\n",
       "    </tr>\n",
       "    <tr>\n",
       "      <th>2</th>\n",
       "      <td>2020-07-10</td>\n",
       "      <td>0.267573</td>\n",
       "      <td>0.315727</td>\n",
       "      <td>0.050273</td>\n",
       "      <td>0.543045</td>\n",
       "      <td>540.772727</td>\n",
       "      <td>9638.545455</td>\n",
       "      <td>0</td>\n",
       "      <td>0</td>\n",
       "    </tr>\n",
       "    <tr>\n",
       "      <th>3</th>\n",
       "      <td>2020-07-09</td>\n",
       "      <td>0.062012</td>\n",
       "      <td>0.278250</td>\n",
       "      <td>0.100125</td>\n",
       "      <td>0.621625</td>\n",
       "      <td>1674.750000</td>\n",
       "      <td>30163.875000</td>\n",
       "      <td>1</td>\n",
       "      <td>1</td>\n",
       "    </tr>\n",
       "    <tr>\n",
       "      <th>4</th>\n",
       "      <td>2020-07-08</td>\n",
       "      <td>0.149550</td>\n",
       "      <td>0.261500</td>\n",
       "      <td>0.147000</td>\n",
       "      <td>0.591500</td>\n",
       "      <td>1816.000000</td>\n",
       "      <td>23619.000000</td>\n",
       "      <td>1</td>\n",
       "      <td>0</td>\n",
       "    </tr>\n",
       "  </tbody>\n",
       "</table>\n",
       "</div>"
      ],
      "text/plain": [
       "        Date  Tweet_compound_score  Tweet_positive_score  \\\n",
       "0 2020-07-14              0.522350              1.000000   \n",
       "1 2020-07-13              0.164587              0.216067   \n",
       "2 2020-07-10              0.267573              0.315727   \n",
       "3 2020-07-09              0.062012              0.278250   \n",
       "4 2020-07-08              0.149550              0.261500   \n",
       "\n",
       "   Tweet_negative_score  Tweet_neutral_score  retweets_count   likes_count  \\\n",
       "0              0.000000             0.000000      178.000000   6062.000000   \n",
       "1              0.098333             0.618933      196.266667   5705.333333   \n",
       "2              0.050273             0.543045      540.772727   9638.545455   \n",
       "3              0.100125             0.621625     1674.750000  30163.875000   \n",
       "4              0.147000             0.591500     1816.000000  23619.000000   \n",
       "\n",
       "   Green  Movement  \n",
       "0      1         0  \n",
       "1      1         1  \n",
       "2      0         0  \n",
       "3      1         1  \n",
       "4      1         0  "
      ]
     },
     "execution_count": 114,
     "metadata": {},
     "output_type": "execute_result"
    }
   ],
   "source": [
    "df_tweets_clean2.head()"
   ]
  },
  {
   "cell_type": "markdown",
   "id": "d2a2fa4e",
   "metadata": {},
   "source": [
    "### Lets Re run the models with Nasdaq Movement"
   ]
  },
  {
   "cell_type": "code",
   "execution_count": 98,
   "id": "6ddfa627",
   "metadata": {
    "ExecuteTime": {
     "end_time": "2021-09-15T19:51:41.354171Z",
     "start_time": "2021-09-15T19:51:41.350330Z"
    }
   },
   "outputs": [],
   "source": [
    "## Rerun these tweet models with The most important features:\n",
    "\n",
    "X_tweet_most_feats= df_tweets_clean2.drop(['Green','Date','Tweet_negative_score','likes_count','Tweet_positive_score' ],1)\n",
    "y_tweet_most_feats=df_tweets_clean2['Green']\n",
    "\n",
    "X_train_t2, X_test_t2, y_train_t2, y_test_t2 = train_test_split(X_tweet_most_feats, y_tweet_most_feats, test_size = 0.3, random_state=42)"
   ]
  },
  {
   "cell_type": "code",
   "execution_count": 99,
   "id": "fb27d51c",
   "metadata": {
    "ExecuteTime": {
     "end_time": "2021-09-15T19:51:43.134687Z",
     "start_time": "2021-09-15T19:51:41.355259Z"
    }
   },
   "outputs": [],
   "source": [
    "## all models\n",
    "\n",
    "#logistic\n",
    "pipe.fit(X_train_t2, y_train_t2)\n",
    "log_preds_tweets=pipe.predict(X_test_t2)\n",
    "\n",
    "## Naive Bayes\n",
    "NB_clf.fit(X_train_t2, y_train_t2)\n",
    "nb_preds_tweets= NB_clf.predict(X_test_t2)\n",
    "\n",
    "#Random Forest\n",
    "\n",
    "pipe_RF.fit(X_train_t2, y_train_t2)\n",
    "rf_preds_tweets= pipe_RF.predict(X_test_t2)\n",
    "\n",
    "# XGBoost\n",
    "XGB_clf.fit(X_train_t2, y_train_t2)\n",
    "XGB_preds_tweets= XGB_clf.predict(X_test_t2)\n",
    "\n",
    "# Gradient Boost\n",
    "GB_clf.fit(X_train_t2, y_train_t2)\n",
    "GB_preds_tweets= GB_clf.predict(X_test_t2)"
   ]
  },
  {
   "cell_type": "code",
   "execution_count": 100,
   "id": "bbc8421d",
   "metadata": {
    "ExecuteTime": {
     "end_time": "2021-09-15T19:51:43.140382Z",
     "start_time": "2021-09-15T19:51:43.135927Z"
    }
   },
   "outputs": [],
   "source": [
    "# need to re-run this so that train data updates\n",
    "def scores_tweet(model, actual = y_test_t2 ,X_train_scaled = X_train_t2, X_test_scaled = X_test_t2 ,y_train = y_train_t2):\n",
    "    pred_train = model.predict(X_train_scaled)\n",
    "    pred_test = model.predict(X_test_scaled)\n",
    "    \n",
    "    print(\"Train Scores\")\n",
    "    print(\"log loss: \", log_loss(y_train, pred_train))\n",
    "    print(\"accuracy: \", accuracy_score(y_train, pred_train))\n",
    "    print(\"precision:\", precision_score(y_train, pred_train))\n",
    "    print(\"recall:   \", recall_score(y_train, pred_train))\n",
    "    plot_confusion_matrix(model, X_train_scaled, y_train)\n",
    "    \n",
    "    print(\"Test Scores\")\n",
    "    print(\"log loss: \", log_loss(actual, pred_test))\n",
    "    print(\"accuracy: \", accuracy_score(actual, pred_test))\n",
    "    print(\"precision:\", precision_score(actual, pred_test))\n",
    "    print(\"recall:   \", recall_score(actual, pred_test))\n",
    "    \n",
    "    \n",
    "    plot_confusion_matrix(model, X_test_scaled, actual)"
   ]
  },
  {
   "cell_type": "code",
   "execution_count": 101,
   "id": "e69638ea",
   "metadata": {
    "ExecuteTime": {
     "end_time": "2021-09-15T19:51:43.346875Z",
     "start_time": "2021-09-15T19:51:43.142510Z"
    }
   },
   "outputs": [
    {
     "name": "stdout",
     "output_type": "stream",
     "text": [
      "Train Scores\n",
      "log loss:  11.981895824098968\n",
      "accuracy:  0.6530920060331825\n",
      "precision: 0.6608996539792388\n",
      "recall:    0.5913312693498453\n",
      "Test Scores\n",
      "log loss:  12.60375833595565\n",
      "accuracy:  0.6350877192982456\n",
      "precision: 0.6417910447761194\n",
      "recall:    0.6056338028169014\n",
      "\n",
      "\n",
      "              precision    recall  f1-score   support\n",
      "\n",
      "           0       0.63      0.66      0.65       143\n",
      "           1       0.64      0.61      0.62       142\n",
      "\n",
      "    accuracy                           0.64       285\n",
      "   macro avg       0.64      0.63      0.63       285\n",
      "weighted avg       0.64      0.64      0.63       285\n",
      "\n"
     ]
    },
    {
     "data": {
      "image/png": "[encoded data removed]",
      "text/plain": [
       "<Figure size 432x288 with 2 Axes>"
      ]
     },
     "metadata": {
      "needs_background": "light"
     },
     "output_type": "display_data"
    },
    {
     "data": {
      "image/png": "[encoded data removed]",
      "text/plain": [
       "<Figure size 432x288 with 2 Axes>"
      ]
     },
     "metadata": {
      "needs_background": "light"
     },
     "output_type": "display_data"
    }
   ],
   "source": [
    "# Log\n",
    "\n",
    "scores_tweet(pipe, y_test_t2)\n",
    "print('\\n')\n",
    "print(classification_report(y_test_t2,log_preds_tweets))\n"
   ]
  },
  {
   "cell_type": "code",
   "execution_count": 102,
   "id": "332322bd",
   "metadata": {
    "ExecuteTime": {
     "end_time": "2021-09-15T19:51:43.531947Z",
     "start_time": "2021-09-15T19:51:43.347920Z"
    }
   },
   "outputs": [
    {
     "name": "stdout",
     "output_type": "stream",
     "text": [
      "Train Scores\n",
      "log loss:  17.81677314725013\n",
      "accuracy:  0.4841628959276018\n",
      "precision: 0.4848966613672496\n",
      "recall:    0.9442724458204335\n",
      "Test Scores\n",
      "log loss:  17.451547182185205\n",
      "accuracy:  0.49473684210526314\n",
      "precision: 0.49624060150375937\n",
      "recall:    0.9295774647887324\n",
      "\n",
      "\n",
      "              precision    recall  f1-score   support\n",
      "\n",
      "           0       0.47      0.06      0.11       143\n",
      "           1       0.50      0.93      0.65       142\n",
      "\n",
      "    accuracy                           0.49       285\n",
      "   macro avg       0.48      0.50      0.38       285\n",
      "weighted avg       0.48      0.49      0.38       285\n",
      "\n"
     ]
    },
    {
     "data": {
      "image/png": "[encoded data removed]",
      "text/plain": [
       "<Figure size 432x288 with 2 Axes>"
      ]
     },
     "metadata": {
      "needs_background": "light"
     },
     "output_type": "display_data"
    },
    {
     "data": {
      "image/png": "[encoded data removed]",
      "text/plain": [
       "<Figure size 432x288 with 2 Axes>"
      ]
     },
     "metadata": {
      "needs_background": "light"
     },
     "output_type": "display_data"
    }
   ],
   "source": [
    "# NB\n",
    "scores_tweet(NB_clf, y_test_t2)\n",
    "print('\\n')\n",
    "print(classification_report(y_test_t2,nb_preds_tweets))"
   ]
  },
  {
   "cell_type": "code",
   "execution_count": 103,
   "id": "0345ed20",
   "metadata": {
    "ExecuteTime": {
     "end_time": "2021-09-15T19:51:44.105488Z",
     "start_time": "2021-09-15T19:51:43.532993Z"
    }
   },
   "outputs": [
    {
     "name": "stdout",
     "output_type": "stream",
     "text": [
      "Train Scores\n",
      "log loss:  9.992007221626413e-16\n",
      "accuracy:  1.0\n",
      "precision: 1.0\n",
      "recall:    1.0\n",
      "Test Scores\n",
      "log loss:  12.240200685455857\n",
      "accuracy:  0.6456140350877193\n",
      "precision: 0.6433566433566433\n",
      "recall:    0.647887323943662\n",
      "\n",
      "\n",
      "              precision    recall  f1-score   support\n",
      "\n",
      "           0       0.65      0.64      0.65       143\n",
      "           1       0.64      0.65      0.65       142\n",
      "\n",
      "    accuracy                           0.65       285\n",
      "   macro avg       0.65      0.65      0.65       285\n",
      "weighted avg       0.65      0.65      0.65       285\n",
      "\n"
     ]
    },
    {
     "data": {
      "image/png": "[encoded data removed]",
      "text/plain": [
       "<Figure size 432x288 with 2 Axes>"
      ]
     },
     "metadata": {
      "needs_background": "light"
     },
     "output_type": "display_data"
    },
    {
     "data": {
      "image/png": "[encoded data removed]",
      "text/plain": [
       "<Figure size 432x288 with 2 Axes>"
      ]
     },
     "metadata": {
      "needs_background": "light"
     },
     "output_type": "display_data"
    }
   ],
   "source": [
    "## RF\n",
    "scores_tweet(pipe_RF, y_test_t2)\n",
    "print('\\n')\n",
    "print(classification_report(y_test_t2,rf_preds_tweets))"
   ]
  },
  {
   "cell_type": "code",
   "execution_count": 104,
   "id": "c2703f5b",
   "metadata": {
    "ExecuteTime": {
     "end_time": "2021-09-15T19:51:44.346057Z",
     "start_time": "2021-09-15T19:51:44.106510Z"
    }
   },
   "outputs": [
    {
     "name": "stdout",
     "output_type": "stream",
     "text": [
      "Train Scores\n",
      "log loss:  3.1778059578058926\n",
      "accuracy:  0.9079939668174962\n",
      "precision: 0.9198717948717948\n",
      "recall:    0.8885448916408669\n",
      "Test Scores\n",
      "log loss:  13.452112826950517\n",
      "accuracy:  0.6105263157894737\n",
      "precision: 0.6026490066225165\n",
      "recall:    0.6408450704225352\n",
      "\n",
      "\n",
      "              precision    recall  f1-score   support\n",
      "\n",
      "           0       0.62      0.58      0.60       143\n",
      "           1       0.60      0.64      0.62       142\n",
      "\n",
      "    accuracy                           0.61       285\n",
      "   macro avg       0.61      0.61      0.61       285\n",
      "weighted avg       0.61      0.61      0.61       285\n",
      "\n"
     ]
    },
    {
     "data": {
      "image/png": "[encoded data removed]",
      "text/plain": [
       "<Figure size 432x288 with 2 Axes>"
      ]
     },
     "metadata": {
      "needs_background": "light"
     },
     "output_type": "display_data"
    },
    {
     "data": {
      "image/png": "[encoded data removed]",
      "text/plain": [
       "<Figure size 432x288 with 2 Axes>"
      ]
     },
     "metadata": {
      "needs_background": "light"
     },
     "output_type": "display_data"
    }
   ],
   "source": [
    "## XGBoost\n",
    "scores_tweet(XGB_clf, y_test_t2)\n",
    "print('\\n')\n",
    "print(classification_report(y_test_t2,XGB_preds_tweets))"
   ]
  },
  {
   "cell_type": "code",
   "execution_count": 105,
   "id": "db054085",
   "metadata": {
    "ExecuteTime": {
     "end_time": "2021-09-15T19:51:44.528265Z",
     "start_time": "2021-09-15T19:51:44.347074Z"
    }
   },
   "outputs": [
    {
     "name": "stdout",
     "output_type": "stream",
     "text": [
      "Train Scores\n",
      "log loss:  6.095137282773197\n",
      "accuracy:  0.8235294117647058\n",
      "precision: 0.8388157894736842\n",
      "recall:    0.7894736842105263\n",
      "Test Scores\n",
      "log loss:  14.906396735445039\n",
      "accuracy:  0.5684210526315789\n",
      "precision: 0.5620915032679739\n",
      "recall:    0.6056338028169014\n",
      "\n",
      "\n",
      "              precision    recall  f1-score   support\n",
      "\n",
      "           0       0.58      0.53      0.55       143\n",
      "           1       0.56      0.61      0.58       142\n",
      "\n",
      "    accuracy                           0.57       285\n",
      "   macro avg       0.57      0.57      0.57       285\n",
      "weighted avg       0.57      0.57      0.57       285\n",
      "\n"
     ]
    },
    {
     "data": {
      "image/png": "[encoded data removed]",
      "text/plain": [
       "<Figure size 432x288 with 2 Axes>"
      ]
     },
     "metadata": {
      "needs_background": "light"
     },
     "output_type": "display_data"
    },
    {
     "data": {
      "image/png": "[encoded data removed]",
      "text/plain": [
       "<Figure size 432x288 with 2 Axes>"
      ]
     },
     "metadata": {
      "needs_background": "light"
     },
     "output_type": "display_data"
    }
   ],
   "source": [
    "# GB\n",
    "scores_tweet(GB_clf, y_test_t2)\n",
    "print('\\n')\n",
    "print(classification_report(y_test_t2,GB_preds_tweets))"
   ]
  },
  {
   "cell_type": "markdown",
   "id": "9f67d9f4",
   "metadata": {},
   "source": [
    "Many of these models seem to be overfit but we are now up to 69% accuracy"
   ]
  },
  {
   "cell_type": "markdown",
   "id": "24a19d41",
   "metadata": {},
   "source": [
    "## EDA/Visualizations"
   ]
  },
  {
   "cell_type": "code",
   "execution_count": 106,
   "id": "714c2200",
   "metadata": {
    "ExecuteTime": {
     "end_time": "2021-09-15T19:51:44.612406Z",
     "start_time": "2021-09-15T19:51:44.529396Z"
    }
   },
   "outputs": [
    {
     "data": {
      "text/plain": [
       "<AxesSubplot:>"
      ]
     },
     "execution_count": 106,
     "metadata": {},
     "output_type": "execute_result"
    },
    {
     "data": {
      "image/png": "[encoded data removed]",
      "text/plain": [
       "<Figure size 432x288 with 1 Axes>"
      ]
     },
     "metadata": {
      "needs_background": "light"
     },
     "output_type": "display_data"
    }
   ],
   "source": [
    "## NO class imbalances as I suspected\n",
    "\n",
    "df_tweets_clean2['Green'].hist()"
   ]
  },
  {
   "cell_type": "markdown",
   "id": "751181dd",
   "metadata": {},
   "source": [
    "Let's layer in some retail trading information that I obtained from Robintrack"
   ]
  },
  {
   "cell_type": "code",
   "execution_count": 107,
   "id": "93ae1854",
   "metadata": {
    "ExecuteTime": {
     "end_time": "2021-09-15T19:51:44.624641Z",
     "start_time": "2021-09-15T19:51:44.613424Z"
    }
   },
   "outputs": [],
   "source": [
    "robintrack_tsla= pd.read_csv('TSLA.csv')"
   ]
  },
  {
   "cell_type": "code",
   "execution_count": 108,
   "id": "a65caa0e",
   "metadata": {
    "ExecuteTime": {
     "end_time": "2021-09-15T19:51:44.637562Z",
     "start_time": "2021-09-15T19:51:44.625588Z"
    }
   },
   "outputs": [
    {
     "data": {
      "text/html": [
       "<div>\n",
       "<style scoped>\n",
       "    .dataframe tbody tr th:only-of-type {\n",
       "        vertical-align: middle;\n",
       "    }\n",
       "\n",
       "    .dataframe tbody tr th {\n",
       "        vertical-align: top;\n",
       "    }\n",
       "\n",
       "    .dataframe thead th {\n",
       "        text-align: right;\n",
       "    }\n",
       "</style>\n",
       "<table border=\"1\" class=\"dataframe\">\n",
       "  <thead>\n",
       "    <tr style=\"text-align: right;\">\n",
       "      <th></th>\n",
       "      <th>timestamp</th>\n",
       "      <th>users_holding</th>\n",
       "    </tr>\n",
       "  </thead>\n",
       "  <tbody>\n",
       "    <tr>\n",
       "      <th>0</th>\n",
       "      <td>2018-05-02</td>\n",
       "      <td>81038</td>\n",
       "    </tr>\n",
       "    <tr>\n",
       "      <th>1</th>\n",
       "      <td>2018-05-02</td>\n",
       "      <td>81038</td>\n",
       "    </tr>\n",
       "    <tr>\n",
       "      <th>2</th>\n",
       "      <td>2018-05-03</td>\n",
       "      <td>80137</td>\n",
       "    </tr>\n",
       "    <tr>\n",
       "      <th>3</th>\n",
       "      <td>2018-05-03</td>\n",
       "      <td>80137</td>\n",
       "    </tr>\n",
       "    <tr>\n",
       "      <th>4</th>\n",
       "      <td>2018-05-03</td>\n",
       "      <td>80137</td>\n",
       "    </tr>\n",
       "    <tr>\n",
       "      <th>...</th>\n",
       "      <td>...</td>\n",
       "      <td>...</td>\n",
       "    </tr>\n",
       "    <tr>\n",
       "      <th>14949</th>\n",
       "      <td>2020-02-17</td>\n",
       "      <td>150568</td>\n",
       "    </tr>\n",
       "    <tr>\n",
       "      <th>14950</th>\n",
       "      <td>2020-02-17</td>\n",
       "      <td>150568</td>\n",
       "    </tr>\n",
       "    <tr>\n",
       "      <th>14951</th>\n",
       "      <td>2020-02-17</td>\n",
       "      <td>150568</td>\n",
       "    </tr>\n",
       "    <tr>\n",
       "      <th>14952</th>\n",
       "      <td>2020-02-17</td>\n",
       "      <td>150568</td>\n",
       "    </tr>\n",
       "    <tr>\n",
       "      <th>14953</th>\n",
       "      <td>2020-02-17</td>\n",
       "      <td>150568</td>\n",
       "    </tr>\n",
       "  </tbody>\n",
       "</table>\n",
       "<p>14954 rows × 2 columns</p>\n",
       "</div>"
      ],
      "text/plain": [
       "        timestamp  users_holding\n",
       "0      2018-05-02          81038\n",
       "1      2018-05-02          81038\n",
       "2      2018-05-03          80137\n",
       "3      2018-05-03          80137\n",
       "4      2018-05-03          80137\n",
       "...           ...            ...\n",
       "14949  2020-02-17         150568\n",
       "14950  2020-02-17         150568\n",
       "14951  2020-02-17         150568\n",
       "14952  2020-02-17         150568\n",
       "14953  2020-02-17         150568\n",
       "\n",
       "[14954 rows x 2 columns]"
      ]
     },
     "execution_count": 108,
     "metadata": {},
     "output_type": "execute_result"
    }
   ],
   "source": [
    "robintrack_tsla['timestamp'] = pd.to_datetime(robintrack_tsla.timestamp).dt.date\n",
    "robintrack_tsla"
   ]
  },
  {
   "cell_type": "code",
   "execution_count": 109,
   "id": "d632453e",
   "metadata": {
    "ExecuteTime": {
     "end_time": "2021-09-15T19:51:44.644864Z",
     "start_time": "2021-09-15T19:51:44.638860Z"
    }
   },
   "outputs": [
    {
     "data": {
      "text/plain": [
       "timestamp\n",
       "2018-05-02     81038.000000\n",
       "2018-05-03     81588.473684\n",
       "2018-05-04     83466.958333\n",
       "2018-05-05     83239.000000\n",
       "2018-05-06     83237.000000\n",
       "                  ...      \n",
       "2020-02-13    153695.666667\n",
       "2020-02-14    150834.083333\n",
       "2020-02-15    150573.375000\n",
       "2020-02-16    150568.000000\n",
       "2020-02-17    150568.000000\n",
       "Name: users_holding, Length: 640, dtype: float64"
      ]
     },
     "execution_count": 109,
     "metadata": {},
     "output_type": "execute_result"
    }
   ],
   "source": [
    "df_robintrack_tsla=robintrack_tsla.groupby('timestamp')['users_holding'].mean()\n",
    "df_robintrack_tsla"
   ]
  },
  {
   "cell_type": "code",
   "execution_count": 110,
   "id": "dfa73799",
   "metadata": {
    "ExecuteTime": {
     "end_time": "2021-09-15T19:51:44.650195Z",
     "start_time": "2021-09-15T19:51:44.645772Z"
    }
   },
   "outputs": [
    {
     "data": {
      "text/html": [
       "<div>\n",
       "<style scoped>\n",
       "    .dataframe tbody tr th:only-of-type {\n",
       "        vertical-align: middle;\n",
       "    }\n",
       "\n",
       "    .dataframe tbody tr th {\n",
       "        vertical-align: top;\n",
       "    }\n",
       "\n",
       "    .dataframe thead th {\n",
       "        text-align: right;\n",
       "    }\n",
       "</style>\n",
       "<table border=\"1\" class=\"dataframe\">\n",
       "  <thead>\n",
       "    <tr style=\"text-align: right;\">\n",
       "      <th></th>\n",
       "      <th>Close/Last</th>\n",
       "    </tr>\n",
       "    <tr>\n",
       "      <th>Date</th>\n",
       "      <th></th>\n",
       "    </tr>\n",
       "  </thead>\n",
       "  <tbody>\n",
       "    <tr>\n",
       "      <th>01/02/2013</th>\n",
       "      <td>7.072</td>\n",
       "    </tr>\n",
       "    <tr>\n",
       "      <th>01/02/2014</th>\n",
       "      <td>30.020</td>\n",
       "    </tr>\n",
       "    <tr>\n",
       "      <th>01/02/2015</th>\n",
       "      <td>43.862</td>\n",
       "    </tr>\n",
       "    <tr>\n",
       "      <th>01/02/2018</th>\n",
       "      <td>64.106</td>\n",
       "    </tr>\n",
       "    <tr>\n",
       "      <th>01/02/2019</th>\n",
       "      <td>62.024</td>\n",
       "    </tr>\n",
       "    <tr>\n",
       "      <th>...</th>\n",
       "      <td>...</td>\n",
       "    </tr>\n",
       "    <tr>\n",
       "      <th>12/31/2014</th>\n",
       "      <td>44.482</td>\n",
       "    </tr>\n",
       "    <tr>\n",
       "      <th>12/31/2015</th>\n",
       "      <td>48.002</td>\n",
       "    </tr>\n",
       "    <tr>\n",
       "      <th>12/31/2018</th>\n",
       "      <td>66.560</td>\n",
       "    </tr>\n",
       "    <tr>\n",
       "      <th>12/31/2019</th>\n",
       "      <td>83.666</td>\n",
       "    </tr>\n",
       "    <tr>\n",
       "      <th>12/31/2020</th>\n",
       "      <td>705.670</td>\n",
       "    </tr>\n",
       "  </tbody>\n",
       "</table>\n",
       "<p>2516 rows × 1 columns</p>\n",
       "</div>"
      ],
      "text/plain": [
       "            Close/Last\n",
       "Date                  \n",
       "01/02/2013       7.072\n",
       "01/02/2014      30.020\n",
       "01/02/2015      43.862\n",
       "01/02/2018      64.106\n",
       "01/02/2019      62.024\n",
       "...                ...\n",
       "12/31/2014      44.482\n",
       "12/31/2015      48.002\n",
       "12/31/2018      66.560\n",
       "12/31/2019      83.666\n",
       "12/31/2020     705.670\n",
       "\n",
       "[2516 rows x 1 columns]"
      ]
     },
     "execution_count": 110,
     "metadata": {},
     "output_type": "execute_result"
    }
   ],
   "source": [
    "tes"
   ]
  },
  {
   "cell_type": "code",
   "execution_count": 111,
   "id": "7528efe5",
   "metadata": {
    "ExecuteTime": {
     "end_time": "2021-09-15T19:51:44.655965Z",
     "start_time": "2021-09-15T19:51:44.651717Z"
    }
   },
   "outputs": [],
   "source": [
    "tes=tes.reset_index()\n",
    "# tes['Date'] = pd.to_datetime(tes['Date'], format= \"%m/%d/%Y\")\n",
    "\n",
    "\n",
    "## lets select the same time frame and see how the stock price moved\n",
    "\n",
    "\n",
    "mask= (tes['Date']> '2018-05-02') & (tes['Date']<='2020-02-17')\n",
    "\n",
    "tesla_2018_20=tes.loc[mask]\n",
    "# tesla_2018_20.set_index('Date',inplace=True)\n",
    "tesla_2018_20=tesla_2018_20.sort_index(ascending=True)\n"
   ]
  },
  {
   "cell_type": "code",
   "execution_count": 112,
   "id": "fae7706a",
   "metadata": {
    "ExecuteTime": {
     "end_time": "2021-09-15T19:51:44.658888Z",
     "start_time": "2021-09-15T19:51:44.657023Z"
    }
   },
   "outputs": [],
   "source": [
    "## make it into a datafram\n",
    "df_robintrack_tsla= df_robintrack_tsla.to_frame()"
   ]
  },
  {
   "cell_type": "code",
   "execution_count": 113,
   "id": "fb17cdff",
   "metadata": {
    "ExecuteTime": {
     "end_time": "2021-09-15T19:51:44.842806Z",
     "start_time": "2021-09-15T19:51:44.659885Z"
    }
   },
   "outputs": [
    {
     "data": {
      "image/png": "[encoded data removed]",
      "text/plain": [
       "<Figure size 936x576 with 2 Axes>"
      ]
     },
     "metadata": {
      "needs_background": "light"
     },
     "output_type": "display_data"
    }
   ],
   "source": [
    "import matplotlib.pyplot as plt\n",
    "\n",
    "fig, ax = plt.subplots(figsize=(13,8))\n",
    "ax.plot(df_robintrack_tsla[\"users_holding\"], color='r')\n",
    "ax2=ax.twinx()\n",
    "ax2.plot(tesla_2018_20['Close/Last'], color='b')\n",
    "\n",
    "ax.tick_params(axis='y', labelcolor= 'r')\n",
    "ax2.tick_params(axis='y', labelcolor='b')\n",
    "ax2.set_ylabel(\"TSLA Price ($)\", rotation=270, labelpad=20, size=14);\n",
    "ax.set_ylabel('Robinhood Users Holding', size=14, labelpad=10);\n",
    "ax.tick_params(labelsize=14)\n",
    "ax2.tick_params(labelsize=14)\n",
    "\n",
    "plt.title(\"TESLA Stock Price vs. RH Holders \", size=23)\n",
    "ax.set_xlabel('Date', size=20, labelpad=10);"
   ]
  },
  {
   "cell_type": "code",
   "execution_count": null,
   "id": "d6609c39",
   "metadata": {},
   "outputs": [],
   "source": []
  }
 ],
 "metadata": {
  "kernelspec": {
   "display_name": "Python (learn-env)",
   "language": "python",
   "name": "learn-env"
  },
  "language_info": {
   "codemirror_mode": {
    "name": "ipython",
    "version": 3
   },
   "file_extension": ".py",
   "mimetype": "text/x-python",
   "name": "python",
   "nbconvert_exporter": "python",
   "pygments_lexer": "ipython3",
   "version": "3.8.5"
  }
 },
 "nbformat": 4,
 "nbformat_minor": 5
}
